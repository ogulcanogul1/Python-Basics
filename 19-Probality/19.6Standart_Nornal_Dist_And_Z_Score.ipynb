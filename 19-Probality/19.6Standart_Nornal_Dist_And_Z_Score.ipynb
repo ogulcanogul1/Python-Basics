{
 "cells": [
  {
   "cell_type": "markdown",
   "id": "f3708712",
   "metadata": {},
   "source": [
    "# Standard Normal Distribution & Z-Score\n",
    "\n",
    "## Tanım\n",
    "- Standard Normal Dağılım, ortalaması 0 ve standart sapması 1 olan normal dağılımdır.\n",
    "- Z-Score, bir değerin dağılımdaki konumunu standart sapma cinsinden ifade eder.\n",
    "\n",
    "## Formül\n",
    "$$\n",
    "Z = \\frac{X - \\mu}{\\sigma}\n",
    "$$\n",
    "\n",
    "- $X$ : gözlem değeri  \n",
    "- $\\mu$ : ortalama  \n",
    "- $\\sigma$ : standart sapma  \n",
    "\n",
    "## Kullanım\n",
    "- Veriyi normalize etmek  \n",
    "- Farklı dağılımları karşılaştırmak  \n",
    "- İstatistiksel testlerde kullanılır  \n",
    "\n",
    "## Örnek\n",
    "- Öğrencinin sınav puanı sınıf ortalamasına göre kaç standart sap\n"
   ]
  },
  {
   "cell_type": "markdown",
   "id": "2e1bcc0e",
   "metadata": {},
   "source": [
    "---\n",
    "\n",
    "---\n",
    "\n",
    "---"
   ]
  },
  {
   "cell_type": "markdown",
   "id": "0463fb89",
   "metadata": {},
   "source": [
    "# Uniform Distribution\n",
    "\n",
    "## Tanım\n",
    "- Belirli bir aralıkta tüm değerlerin eşit olasılıkla ortaya çıktığı dağılım.\n",
    "\n",
    "## PDF\n",
    "$$\n",
    "f(x) =\n",
    "\\begin{cases} \n",
    "\\frac{1}{b-a}, & a \\leq x \\leq b \\\\ \n",
    "0, & \\text{diğer durumlarda} \n",
    "\\end{cases}\n",
    "$$\n",
    "\n",
    "## Parametreler\n",
    "- $a$ : alt sınır  \n",
    "- $b$ : üst sınır  \n",
    "\n",
    "## Kullanım\n",
    "- Rastgele sayı üretme  \n",
    "- Simülasyon modelleri  \n",
    "- Basit olasılık deneyleri  \n",
    "\n",
    "## Örnek\n",
    "- $[0,1]$ aralığında rastgele sayı üretmek\n"
   ]
  },
  {
   "cell_type": "markdown",
   "id": "a8fc8079",
   "metadata": {},
   "source": [
    "---\n",
    "\n",
    "---\n",
    "\n",
    "---"
   ]
  },
  {
   "cell_type": "markdown",
   "id": "287c0f4c",
   "metadata": {},
   "source": [
    "# Log Normal Distribution\n",
    "\n",
    "## Tanım\n",
    "- Eğer $X$ değişkeninin logaritması alındığında normal dağılıyorsa, $X$ log-normal dağılıma sahiptir.\n",
    "\n",
    "## PDF\n",
    "$$\n",
    "f(x) = \\frac{1}{x \\sigma \\sqrt{2 \\pi}} e^{- \\frac{(\\ln x - \\mu)^2}{2\\sigma^2}}, \\quad x>0\n",
    "$$\n",
    "\n",
    "## Parametreler\n",
    "- $\\mu$ : logaritmanın ortalaması  \n",
    "- $\\sigma$ : logaritmanın standart sapması  \n",
    "\n",
    "## Kullanım\n",
    "- Finansal veriler (gelir dağılımları)  \n",
    "- Doğal büyüme süreçleri  \n",
    "- Risk analizi  \n",
    "\n",
    "## Örnek\n",
    "- Şirket gelirlerinin dağılımı genellikle log-normal olur\n"
   ]
  },
  {
   "cell_type": "markdown",
   "id": "66d6ec0d",
   "metadata": {},
   "source": [
    "---\n",
    "\n",
    "---\n",
    "\n",
    "---"
   ]
  },
  {
   "cell_type": "markdown",
   "id": "6960857b",
   "metadata": {},
   "source": [
    "# Power Law Distribution\n",
    "\n",
    "## Tanım\n",
    "- Büyük değerlerin olasılığının küçük değerlere göre hızla düştüğü dağılım.\n",
    "- Ağlar, şehir nüfusları ve internet trafik dağılımları bu modele uyar.\n",
    "\n",
    "## PDF\n",
    "$$\n",
    "f(x) = C x^{-\\alpha}, \\quad x \\ge x_{min}\n",
    "$$\n",
    "\n",
    "## Parametreler\n",
    "- $\\alpha$ : güç parametresi  \n",
    "- $x_{min}$ : minimum değer  \n",
    "- $C$ : normalizasyon sabiti  \n",
    "\n",
    "## Kullanım\n",
    "- Doğal ve sosyal olayların dağılımını modellemek  \n",
    "- Ağ teorisi ve istatistiksel fizik\n"
   ]
  },
  {
   "cell_type": "markdown",
   "id": "aa98c555",
   "metadata": {},
   "source": [
    "---\n",
    "\n",
    "---\n",
    "\n",
    "---"
   ]
  },
  {
   "cell_type": "markdown",
   "id": "85ce9d87",
   "metadata": {},
   "source": [
    "# Pareto Distribution\n",
    "\n",
    "## Tanım\n",
    "- Güç kanununa uyan, özellikle gelir ve servet dağılımlarında kullanılan dağılım.\n",
    "\n",
    "## PDF\n",
    "$$\n",
    "f(x) = \\frac{\\alpha x_m^\\alpha}{x^{\\alpha+1}}, \\quad x \\ge x_m\n",
    "$$\n",
    "\n",
    "## Parametreler\n",
    "- $\\alpha$ : şekil parametresi  \n",
    "- $x_m$ : minimum değer  \n",
    "\n",
    "## Kullanım\n",
    "- Gelir ve servet dağılımları  \n",
    "- Risk ve sigorta modelleri\n"
   ]
  },
  {
   "cell_type": "markdown",
   "id": "95e62ffb",
   "metadata": {},
   "source": [
    "--- \n",
    "\n",
    "---\n",
    "\n",
    "---"
   ]
  },
  {
   "cell_type": "markdown",
   "id": "1ab7e543",
   "metadata": {},
   "source": [
    "# Central Limit Theorem (CLT)\n",
    "\n",
    "## Tanım\n",
    "- Büyük örneklem büyüklüğünde, örneklem ortalamalarının dağılımı, popülasyon dağılımının türünden bağımsız olarak **normal dağılıma yaklaşır**.\n",
    "\n",
    "## Formül\n",
    "- Eğer $X_1, X_2,...,X_n$ bağımsız ve aynı dağılımdan geliyorsa:\n",
    "$$\n",
    "\\bar{X} = \\frac{1}{n} \\sum_{i=1}^{n} X_i\n",
    "$$\n",
    "$\\bar{X}$ dağılımı, $n$ büyükse\n",
    "$$\n",
    "\\bar{X} \\sim \\mathcal{N}\\left(\\mu, \\frac{\\sigma^2}{n}\\right)\n",
    "$$\n",
    "\n",
    "## Kullanım\n",
    "- İstatistiksel tahminler  \n",
    "- Hipotez testleri  \n",
    "- Örneklemden popülasyon parametrelerini tahmin etmek  \n",
    "\n",
    "## Örnek\n",
    "- Büyük bir anketten elde edilen ortalama gelir dağılımının normal dağılıma yaklaşması\n"
   ]
  },
  {
   "cell_type": "markdown",
   "id": "316f853b",
   "metadata": {},
   "source": []
  }
 ],
 "metadata": {
  "language_info": {
   "name": "python"
  }
 },
 "nbformat": 4,
 "nbformat_minor": 5
}
