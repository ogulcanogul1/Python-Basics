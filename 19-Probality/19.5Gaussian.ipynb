{
 "cells": [
  {
   "cell_type": "markdown",
   "id": "77c61678",
   "metadata": {},
   "source": [
    "# Normal (Gaussian) Dağılımı (Continuous, PDF)\n",
    "\n",
    "## Tanım\n",
    "Normal dağılım, **en yaygın sürekli olasılık dağılımıdır** ve doğada birçok olayı modeller.  \n",
    "- Parametreler: \n",
    "  - $\\mu$ → ortalama (mean)  \n",
    "  - $\\sigma^2$ → varyans (variance)  \n",
    "\n",
    "Bir rastgele değişken $X \\sim N(\\mu, \\sigma^2)$ için PDF:\n",
    "\n",
    "$$\n",
    "f(x) = \\frac{1}{\\sqrt{2 \\pi \\sigma^2}} \\exp\\left( -\\frac{(x-\\mu)^2}{2\\sigma^2} \\right)\n",
    "$$\n",
    "\n",
    "- $x$ → rastgele değişken  \n",
    "- $f(x)$ → olasılık yoğunluğu (probability density)  \n",
    "- Sürekli dağılım olduğu için **belirli bir $x$ değeri için olasılık = 0**, ancak **aralık olasılığı** anlamlıdır.\n",
    "\n",
    "---\n",
    "\n",
    "## Özellikler\n",
    "- Sürekli (Continuous) dağılımdır.  \n",
    "- Ortalama: $E[X] = \\mu$  \n",
    "- Varyans: $\\text{Var}(X) = \\sigma^2$  \n",
    "- Simetrik ve çan eğrisi şeklindedir (bell curve).  \n",
    "- Merkezi limit teoremi nedeniyle, birçok doğal ve istatistiksel süreçte görülür.\n",
    "\n",
    "---\n",
    "\n",
    "## Kullanım Alanları\n",
    "1. **Doğa ve biyoloji** → insan boyu, ağırlık, ölçüm hataları  \n",
    "2. **Finans** → günlük getiri dağılımları, risk modellemeleri  \n",
    "3. **Üretim** → ürün boyutları, tolerans kontrolleri  \n",
    "4. **İstatistiksel testler** → z-test, t-test  \n",
    "5. **Makine öğrenmesi** → Gaussian Naive Bayes, hata modelleme\n",
    "\n",
    "---\n",
    "\n",
    "## Örnek 1: İnsan Boyu\n",
    "- Ortalama boy: $\\mu = 170$ cm  \n",
    "- Standart sapma: $\\sigma = 10$ cm  \n",
    "- Soru: Boyu 180 cm’den kısa olma olasılığı?  \n",
    "\n",
    "### Manuel Çözüm (Z-dönüşümü)\n",
    "1. Z-skoru:  \n",
    "$$\n",
    "Z = \\frac{X-\\mu}{\\sigma} = \\frac{180-170}{10} = 1\n",
    "$$\n",
    "2. Standart normal tabloda $P(Z < 1) \\approx 0.8413$  \n",
    "\n",
    "Yani 180 cm’den kısa olma olasılığı ≈ %84.\n",
    "\n",
    "### Python ile Çözüm\n",
    "```python\n",
    "from scipy.stats import norm\n",
    "\n",
    "mu = 170\n",
    "sigma = 10\n",
    "x = 180\n",
    "\n",
    "prob = norm.cdf(x, loc=mu, scale=sigma)\n",
    "print(prob)  # Çıktı ≈ 0.8413\n"
   ]
  },
  {
   "cell_type": "markdown",
   "id": "e0d64390",
   "metadata": {},
   "source": [
    "---\n",
    "\n",
    "---\n",
    "\n",
    "---\n",
    "\n",
    "---"
   ]
  },
  {
   "cell_type": "markdown",
   "id": "e4985d6b",
   "metadata": {},
   "source": [
    "# Gaussian (Normal) vs Poisson Dağılımı – Karşılaştırma\n",
    "\n",
    "## 1️⃣ Normal (Gaussian) Dağılım (Continuous, PDF)\n",
    "\n",
    "### Kullanım Durumu\n",
    "- **Sürekli değişkenler** için uygundur.  \n",
    "- Doğada sıkça görülen ölçümler: boy, ağırlık, sınav notları, ölçüm hataları.  \n",
    "- Veri **çan eğrisi (bell curve)** şeklinde dağılıyorsa.  \n",
    "- Parametreler: Ortalama μ, varyans σ²  \n",
    "\n",
    "### Örnekler\n",
    "- İnsan boyu ölçümleri  \n",
    "- Ürün ağırlıkları  \n",
    "- Sınav puanları  \n",
    "\n",
    "### Mantık\n",
    "> “Sürekli ve simetrik dağılımlar” → Normal dağılım uygundur\n",
    "\n",
    "---\n",
    "\n",
    "## 2️⃣ Poisson Dağılımı (Discrete, PMF)\n",
    "\n",
    "### Kullanım Durumu\n",
    "- **Kesikli, nadir olayların sayısı** için uygundur.  \n",
    "- Belirli bir zaman aralığında veya alanda gerçekleşen olaylar sayılır.  \n",
    "- Olaylar **bağımsız ve nadir** gerçekleşir.  \n",
    "- Parametre: λ (ortalama olay sayısı)  \n",
    "\n",
    "### Örnekler\n",
    "- Bir saatte gelen çağrı sayısı  \n",
    "- Yıldırım düşme sayısı  \n",
    "- Makine arızaları  \n",
    "\n",
    "### Mantık\n",
    "> “Nadir ve bağımsız olaylar, sayım verisi” → Poisson dağılımı uygundur\n",
    "\n",
    "---\n",
    "\n",
    "## 3️⃣ Karşılaştırmalı Özet\n",
    "\n",
    "| Özellik                  | Normal (Gaussian)             | Poisson                        |\n",
    "|---------------------------|-------------------------------|--------------------------------|\n",
    "| Tür                       | Sürekli (Continuous)          | Kesikli (Discrete)             |\n",
    "| Parametreler              | μ (ortalama), σ² (varyans)   | λ (ortalama olay sayısı)       |\n",
    "| Olasılık                  | PDF (Probability Density)     | PMF (Probability Mass)         |\n",
    "| Kullanım Alanı            | Doğa, biyoloji, üretim        | Çağrı sayısı, arıza, nadir olay|\n",
    "| Örneklem                  | Genellikle büyük, ölçüm verisi| Sayım verisi, nadir olaylar    |\n",
    "| Dağılım Şekli             | Simetrik, çan eğrisi         | Sağdan çarpık, tek modlu       |\n",
    "| Mantık                    | Sürekli değerlerin olasılığı  | Olay sayısının olasılığı       |\n"
   ]
  },
  {
   "cell_type": "markdown",
   "id": "5776f21c",
   "metadata": {},
   "source": [
    "---\n",
    "\n",
    "---\n",
    "\n",
    "---\n",
    "\n",
    "---"
   ]
  },
  {
   "cell_type": "code",
   "execution_count": null,
   "id": "d8b422d1",
   "metadata": {},
   "outputs": [
    {
     "data": {
      "text/plain": [
       "np.float64(0.02275013194817921)"
      ]
     },
     "execution_count": 4,
     "metadata": {},
     "output_type": "execute_result"
    }
   ],
   "source": [
    "# standart sapma : 5 , ortalama 90\n",
    "\n",
    "from scipy.stats import norm\n",
    "\n",
    "#90'dan fazla olması\n",
    "1-norm.cdf(90,80,5)"
   ]
  },
  {
   "cell_type": "code",
   "execution_count": 5,
   "id": "00fc1a76",
   "metadata": {},
   "outputs": [
    {
     "data": {
      "text/plain": [
       "np.float64(0.9772498680518208)"
      ]
     },
     "execution_count": 5,
     "metadata": {},
     "output_type": "execute_result"
    }
   ],
   "source": [
    "#70 den fazla olması\n",
    "1-norm.cdf(70,80,5)"
   ]
  },
  {
   "cell_type": "code",
   "execution_count": 7,
   "id": "eafd6349",
   "metadata": {},
   "outputs": [
    {
     "data": {
      "text/plain": [
       "np.float64(0.08075665923377107)"
      ]
     },
     "execution_count": 7,
     "metadata": {},
     "output_type": "execute_result"
    }
   ],
   "source": [
    "#73 den az olması\n",
    "norm.cdf(73,80,5)"
   ]
  },
  {
   "cell_type": "code",
   "execution_count": 10,
   "id": "caf47a7e",
   "metadata": {},
   "outputs": [
    {
     "data": {
      "text/plain": [
       "np.float64(0.13590512198327787)"
      ]
     },
     "execution_count": 10,
     "metadata": {},
     "output_type": "execute_result"
    }
   ],
   "source": [
    "#85 - 90 arası\n",
    "norm.cdf(90,80,5) - norm.cdf(85,80,5)"
   ]
  },
  {
   "cell_type": "code",
   "execution_count": null,
   "id": "56a9f82c",
   "metadata": {},
   "outputs": [],
   "source": [
    "## 70 den fazla dendiğinde 70'e kadar hesapla ve 1 den çıkarki fazla olan kısım kalsın\n",
    "\n",
    "## Hayır, norm.cdf tek başına Z-test veya T-test değildir\n",
    "\n",
    "## norm.cdf : Sadece bir olasılık hesaplama fonksiyonudur."
   ]
  }
 ],
 "metadata": {
  "kernelspec": {
   "display_name": "Python 3",
   "language": "python",
   "name": "python3"
  },
  "language_info": {
   "codemirror_mode": {
    "name": "ipython",
    "version": 3
   },
   "file_extension": ".py",
   "mimetype": "text/x-python",
   "name": "python",
   "nbconvert_exporter": "python",
   "pygments_lexer": "ipython3",
   "version": "3.12.0"
  }
 },
 "nbformat": 4,
 "nbformat_minor": 5
}
