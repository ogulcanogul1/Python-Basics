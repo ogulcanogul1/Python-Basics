{
 "cells": [
  {
   "cell_type": "markdown",
   "id": "238d205f",
   "metadata": {},
   "source": [
    "# Binom Dağılımı (Discrete, PMF)\n",
    "\n",
    "## Tanım\n",
    "Binom dağılımı, **n bağımsız Bernoulli denemesinde kaç başarı geldiğini** modelleyen kesikli dağılımdır.  \n",
    "- Parametreler: \n",
    "  - $n$ : deneme sayısı  \n",
    "  - $p$ : her denemede başarı olasılığı  \n",
    "\n",
    "Bir rastgele değişken $X \\sim Binomial(n, p)$ ise PMF şu şekildedir:\n",
    "\n",
    "$$\n",
    "P(X = k) = \\binom{n}{k} p^k (1-p)^{n-k}, \\quad k = 0,1,\\dots,n\n",
    "$$\n",
    "\n",
    "- $\\binom{n}{k} = \\frac{n!}{k!(n-k)!}$ → kombinasyon sayısı  \n",
    "- $k$ → kaç başarı olduğunu gösterir\n",
    "\n",
    "---\n",
    "\n",
    "## Özellikler\n",
    "- Kesikli (Discrete) dağılımdır.  \n",
    "- Ortalama (expectation): $E[X] = n \\cdot p$  \n",
    "- Varyans: $\\text{Var}(X) = n \\cdot p \\cdot (1-p)$  \n",
    "\n",
    "---\n",
    "\n",
    "## Örnek 1: Yazı-Tura Atışı\n",
    "- 10 defa madeni para atılıyor.  \n",
    "- Başarı = yazı gelmesi, $p = 0.5$  \n",
    "- Soru: 10 atışta **tam 4 yazı gelme olasılığı** nedir?  \n",
    "\n",
    "### Manuel Çözüm\n",
    "$$\n",
    "P(X=4) = \\binom{10}{4} (0.5)^4 (1-0.5)^{10-4} \n",
    "= 210 \\cdot (0.5)^4 \\cdot (0.5)^6 \n",
    "= 210 \\cdot (0.5)^{10} \n",
    "\\approx 0.205\n",
    "$$\n",
    "\n",
    "### Python ile Çözüm\n",
    "```python\n",
    "from scipy.stats import binom\n",
    "\n",
    "n = 10\n",
    "p = 0.5\n",
    "k = 4\n",
    "\n",
    "prob = binom.pmf(k, n, p)\n",
    "print(prob)  # Çıktı ≈ 0.205\n",
    "\n"
   ]
  },
  {
   "cell_type": "markdown",
   "id": "a81949b4",
   "metadata": {},
   "source": [
    "-----\n",
    "\n",
    "1️⃣ Eğer “tek bir olay üzerinde n deneme” yoksa\n",
    "\n",
    "Binom dağılımı kullanılamaz.\n",
    "\n",
    "Örnek\n",
    "\n",
    "Bir sınıfta 3 farklı sınav var, her birinin geçme olasılığı farklı:\n",
    "\n",
    "Sınav 1: $p_1 = 0.8$\n",
    "\n",
    "Sınav 2: $p_2 = 0.6$\n",
    "\n",
    "Sınav 3: $p_3 = 0.7$\n",
    "\n",
    "Bu durumda Binom dağılımı kullanamazsın, çünkü her deneme aynı başarı olasılığına sahip değil.\n",
    "\n",
    "------"
   ]
  },
  {
   "cell_type": "markdown",
   "id": "19a6739f",
   "metadata": {},
   "source": [
    "2️⃣ Eğer farklı olaylar ama aynı başarı olasılığına sahip ve bağımsızsa\n",
    "\n",
    "- Hala binom dağılımı kullanılabilir.\n",
    "\n",
    "- Örn: 10 adil zar atışı → her zar bir “başarı” veya “başarısızlık” ile sayılabilir.\n",
    "\n",
    "- Burada “farklı zarlar” aslında bağımsız ve aynı olasılığa sahip denemelerdir.\n",
    "\n",
    "---"
   ]
  },
  {
   "cell_type": "markdown",
   "id": "14553491",
   "metadata": {},
   "source": [
    "3️⃣ Çok farklı olasılıklı olaylar\n",
    "\n",
    "- Farklı olasılıklara sahip bağımsız denemeler → Poisson-Binomial dağılımı kullanılır.\n",
    "\n",
    "- Çok daha karmaşık, her deneme için olasılık ayrı: $p_1, p_2, …, p_n$\n",
    "\n",
    "- Binom dağılımı bunun özel bir durumudır: tüm $p_i$ eşit olursa.\n",
    "\n",
    "---"
   ]
  },
  {
   "cell_type": "markdown",
   "id": "90288b46",
   "metadata": {},
   "source": [
    "kısaca mantık şu yani : olasılıklar aynı ama birden fazla kere gerçekleşiyorsa binom kullanılır."
   ]
  },
  {
   "cell_type": "markdown",
   "id": "11b350ac",
   "metadata": {},
   "source": []
  }
 ],
 "metadata": {
  "language_info": {
   "name": "python"
  }
 },
 "nbformat": 4,
 "nbformat_minor": 5
}
