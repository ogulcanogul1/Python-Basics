{
 "cells": [
  {
   "cell_type": "markdown",
   "id": "0c6a0006",
   "metadata": {},
   "source": [
    "# Poisson Dağılımı (Discrete, PMF)\n",
    "\n",
    "## Tanım\n",
    "Poisson dağılımı, **belirli bir zaman aralığında veya alanda nadir olayların sayısını** modelleyen kesikli dağılımdır.  \n",
    "- Parametre: $\\lambda$ → beklenen olay sayısı (ortalama)  \n",
    "- Bir rastgele değişken $X \\sim Poisson(\\lambda)$ için PMF:\n",
    "\n",
    "$$\n",
    "P(X = k) = \\frac{\\lambda^k e^{-\\lambda}}{k!}, \\quad k = 0,1,2,\\dots\n",
    "$$\n",
    "\n",
    "- $k$ → olayın gerçekleşme sayısı  \n",
    "- $e$ → Euler sayısı (~2.718)\n",
    "\n",
    "---\n",
    "\n",
    "## Özellikler\n",
    "- Kesikli (Discrete) dağılımdır.  \n",
    "- Ortalama (expectation): $E[X] = \\lambda$  \n",
    "- Varyans: $\\text{Var}(X) = \\lambda$  \n",
    "- Kullanımı: **nadiren ve bağımsız olarak meydana gelen olaylar** için uygundur.\n",
    "\n",
    "---\n",
    "\n",
    "## Kullanım Alanları\n",
    "1. **Çağrı merkezi** → belirli bir saatte gelen çağrı sayısı  \n",
    "2. **Web sitesi trafiği** → dakikada gelen ziyaretçi sayısı  \n",
    "3. **Arıza sayısı** → belirli bir makinede bir günde meydana gelen arıza sayısı  \n",
    "4. **Doğa olayları** → deprem, yıldırım düşme sayısı  \n",
    "5. **Olay sayımı** → nadir ve bağımsız olaylar\n",
    "\n",
    "---\n",
    "\n",
    "## Örnek 1: Çağrı Merkezi\n",
    "- Bir çağrı merkezine saatte ortalama 5 çağrı gelmektedir ($\\lambda = 5$).  \n",
    "- Soru: **1 saatte tam 3 çağrı gelme olasılığı** nedir?\n",
    "\n",
    "### Manuel Çözüm\n",
    "$$\n",
    "P(X=3) = \\frac{5^3 e^{-5}}{3!} = \\frac{125 \\cdot e^{-5}}{6} \\approx 0.1404\n",
    "$$\n",
    "\n",
    "### Python ile Çözüm\n",
    "```python\n",
    "from scipy.stats import poisson\n",
    "\n",
    "lambda_ = 5\n",
    "k = 3\n",
    "\n",
    "prob = poisson.pmf(k, lambda_)\n",
    "print(prob)  # Çıktı ≈ 0.1404\n"
   ]
  },
  {
   "cell_type": "markdown",
   "id": "69d775a9",
   "metadata": {},
   "source": [
    "---\n",
    "\n",
    "Örnek 2: Yıldırım Düşmesi\n",
    "\n",
    "Bir bölgede yıldırım düşme olasılığı yılda ortalama 2 kez ($\\lambda = 2$).\n",
    "\n",
    "Soru: Bir yılda tam 4 yıldırım düşme olasılığı nedir?\n"
   ]
  },
  {
   "cell_type": "markdown",
   "id": "a3b9d7e5",
   "metadata": {},
   "source": [
    "from scipy.stats import poisson\n",
    "\n",
    "- lambda = 2\n",
    "- k = 4\n",
    "\n",
    "prob = poisson.pmf(k, lambda_)\n",
    "print(prob)  # Çıktı ≈ 0.0902"
   ]
  },
  {
   "cell_type": "markdown",
   "id": "59b064a1",
   "metadata": {},
   "source": []
  }
 ],
 "metadata": {
  "language_info": {
   "name": "python"
  }
 },
 "nbformat": 4,
 "nbformat_minor": 5
}
