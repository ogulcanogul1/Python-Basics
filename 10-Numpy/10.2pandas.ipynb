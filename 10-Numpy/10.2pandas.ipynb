{
 "cells": [
  {
   "cell_type": "markdown",
   "id": "491d949e",
   "metadata": {},
   "source": [
    "## Pandas Nedir?\n",
    "\n",
    "- Python için veri analizi kütüphanesidir.\n",
    "\n",
    "- Adı “Panel Data” kavramından gelir.\n",
    "\n",
    "- Tablo (Excel gibi) veya seri (tek sütun) verilerle çalışmayı kolaylaştırır.\n",
    "\n",
    "- NumPy üzerine kuruludur → yani hız açısından yine NumPy’nin gücünü kullanır ama daha kolay bir arayüz sunar."
   ]
  },
  {
   "cell_type": "markdown",
   "id": "03bd3adc",
   "metadata": {},
   "source": [
    "### Ne İşe Yarar?\n",
    "\n",
    "#### Veri okuma/yazma:\n",
    "\n",
    "- CSV, Excel, SQL, JSON gibi farklı formatlardan veri alıp yazabilirsin.\n",
    "\n",
    "- Örn: pd.read_csv(\"dosya.csv\")\n",
    "\n",
    "#### Tablo yapısı (DataFrame):\n",
    "\n",
    "- Satır–sütun yapısında verilerle çalışabilirsin.\n",
    "\n",
    "- Excel gibi düşünebilirsin.\n",
    "\n",
    "#### Veri temizleme:\n",
    "\n",
    "- Eksik değerleri doldurabilir/silebilirsin.\n",
    "\n",
    "- Tekrarlayan kayıtları kaldırabilirsin.\n",
    "\n",
    "#### Veri seçme/filtreleme:\n",
    "\n",
    "- İstediğin satır/sütunları kolayca seçebilirsin.\n",
    "\n",
    "#### İstatistiksel işlemler:\n",
    "\n",
    "- Ortalama, toplam, gruplama, sıralama gibi işlemler kolay yapılır.\n",
    "\n",
    "#### Veri dönüştürme:\n",
    "\n",
    "- Verileri birleştirebilir, yeniden şekillendirebilir, indeksleme yapabilirsin."
   ]
  },
  {
   "cell_type": "markdown",
   "id": "cd9a1c26",
   "metadata": {},
   "source": [
    "#### 1. Series\n",
    "\n",
    "- Tek boyutlu (liste gibi) veri yapısıdır.\n",
    "\n",
    "- Hem veri hem de etiket (index) içerir.\n",
    "\n",
    "- NumPy array’e benzer ama yanında etiket bilgisi vardır.\n",
    "\n",
    "#### 2. DataFrame\n",
    "\n",
    "- İki boyutlu tablo yapısıdır (Excel sayfası gibi).\n",
    "\n",
    "- Satırlar + sütunlar vardır.\n",
    "\n",
    "- Birden fazla Series yan yana gelince DataFrame oluşur.\n",
    "\n",
    "\n",
    "\n",
    "#### Kısaca Özet\n",
    "\n",
    "- Series = Tek sütun (etiketli NumPy array gibi).\n",
    "\n",
    "- DataFrame = Birden çok sütundan oluşan tablo (Excel sayfası gibi)."
   ]
  },
  {
   "cell_type": "markdown",
   "id": "5ae6bf53",
   "metadata": {},
   "source": []
  },
  {
   "cell_type": "code",
   "execution_count": 3,
   "id": "1458a87a",
   "metadata": {},
   "outputs": [],
   "source": [
    "import pandas as pd"
   ]
  },
  {
   "cell_type": "code",
   "execution_count": 5,
   "id": "17eb263c",
   "metadata": {},
   "outputs": [
    {
     "name": "stdout",
     "output_type": "stream",
     "text": [
      "<class 'pandas.core.series.Series'>\n"
     ]
    },
    {
     "data": {
      "text/plain": [
       "0    1\n",
       "1    2\n",
       "2    3\n",
       "3    4\n",
       "4    5\n",
       "dtype: int64"
      ]
     },
     "execution_count": 5,
     "metadata": {},
     "output_type": "execute_result"
    }
   ],
   "source": [
    "data = [1,2,3,4,5]\n",
    "series = pd.Series(data)\n",
    "print(type(series))\n",
    "series"
   ]
  },
  {
   "cell_type": "code",
   "execution_count": 8,
   "id": "aa5edab4",
   "metadata": {},
   "outputs": [
    {
     "name": "stdout",
     "output_type": "stream",
     "text": [
      "<class 'pandas.core.series.Series'>\n",
      "a    1\n",
      "b    2\n",
      "c    3\n",
      "dtype: int64\n"
     ]
    }
   ],
   "source": [
    "## Create a Series from dictionary\n",
    "data = {'a':1,'b':2,'c':3}\n",
    "series_dict = pd.Series(data)\n",
    "print(type(series_dict))\n",
    "print(series_dict)"
   ]
  },
  {
   "cell_type": "code",
   "execution_count": 9,
   "id": "169df01f",
   "metadata": {},
   "outputs": [
    {
     "data": {
      "text/plain": [
       "a    10\n",
       "b    20\n",
       "c    30\n",
       "dtype: int64"
      ]
     },
     "execution_count": 9,
     "metadata": {},
     "output_type": "execute_result"
    }
   ],
   "source": [
    "data =  [10,20,30]\n",
    "index = ['a','b','c']\n",
    "\n",
    "pd.Series(data,index=index)"
   ]
  },
  {
   "cell_type": "code",
   "execution_count": 14,
   "id": "30680f24",
   "metadata": {},
   "outputs": [
    {
     "name": "stdout",
     "output_type": "stream",
     "text": [
      "<class 'pandas.core.frame.DataFrame'>\n"
     ]
    },
    {
     "data": {
      "text/html": [
       "<div>\n",
       "<style scoped>\n",
       "    .dataframe tbody tr th:only-of-type {\n",
       "        vertical-align: middle;\n",
       "    }\n",
       "\n",
       "    .dataframe tbody tr th {\n",
       "        vertical-align: top;\n",
       "    }\n",
       "\n",
       "    .dataframe thead th {\n",
       "        text-align: right;\n",
       "    }\n",
       "</style>\n",
       "<table border=\"1\" class=\"dataframe\">\n",
       "  <thead>\n",
       "    <tr style=\"text-align: right;\">\n",
       "      <th></th>\n",
       "      <th>Name</th>\n",
       "      <th>Age</th>\n",
       "      <th>City</th>\n",
       "    </tr>\n",
       "  </thead>\n",
       "  <tbody>\n",
       "    <tr>\n",
       "      <th>0</th>\n",
       "      <td>Krish</td>\n",
       "      <td>25</td>\n",
       "      <td>Bangalore</td>\n",
       "    </tr>\n",
       "    <tr>\n",
       "      <th>1</th>\n",
       "      <td>John</td>\n",
       "      <td>30</td>\n",
       "      <td>New York</td>\n",
       "    </tr>\n",
       "    <tr>\n",
       "      <th>2</th>\n",
       "      <td>Jack</td>\n",
       "      <td>45</td>\n",
       "      <td>Florida</td>\n",
       "    </tr>\n",
       "  </tbody>\n",
       "</table>\n",
       "</div>"
      ],
      "text/plain": [
       "    Name  Age       City\n",
       "0  Krish   25  Bangalore\n",
       "1   John   30   New York\n",
       "2   Jack   45    Florida"
      ]
     },
     "execution_count": 14,
     "metadata": {},
     "output_type": "execute_result"
    }
   ],
   "source": [
    "## Dataframe\n",
    "\n",
    "data = {\n",
    "    'Name':['Krish','John','Jack'],\n",
    "    'Age':[25,30,45],\n",
    "    'City':['Bangalore','New York','Florida']\n",
    "}\n",
    "\n",
    "df = pd.DataFrame(data)\n",
    "print(type(df))\n",
    "df"
   ]
  },
  {
   "cell_type": "code",
   "execution_count": 15,
   "id": "86bf4951",
   "metadata": {},
   "outputs": [
    {
     "data": {
      "text/plain": [
       "array([['Krish', 25, 'Bangalore'],\n",
       "       ['John', 30, 'New York'],\n",
       "       ['Jack', 45, 'Florida']], dtype=object)"
      ]
     },
     "execution_count": 15,
     "metadata": {},
     "output_type": "execute_result"
    }
   ],
   "source": [
    "import numpy as np\n",
    "np.array(df) "
   ]
  },
  {
   "cell_type": "code",
   "execution_count": 37,
   "id": "b3868593",
   "metadata": {},
   "outputs": [
    {
     "name": "stdout",
     "output_type": "stream",
     "text": [
      "    Name  Age       City\n",
      "0  Krish   32  Bangalore\n",
      "1   John   34    Florida\n",
      "2  Bappy   32   New York\n",
      "3   Jack   32  Bangalore\n",
      "<class 'pandas.core.frame.DataFrame'>\n"
     ]
    }
   ],
   "source": [
    "## Create a Data frame From a List of Dictionaries\n",
    "\n",
    "data=[\n",
    "    {'Name':'Krish','Age':32,'City':'Bangalore'},\n",
    "    {'Name':'John','Age':34,'City':'Florida'},\n",
    "    {'Name':'Bappy','Age':32,'City':'New York'},\n",
    "    {'Name':'Jack','Age':32,'City':'Bangalore'}\n",
    "    \n",
    "]\n",
    "df=pd.DataFrame(data)\n",
    "print(df)\n",
    "print(type(df))"
   ]
  },
  {
   "cell_type": "code",
   "execution_count": 38,
   "id": "e8d1077e",
   "metadata": {},
   "outputs": [
    {
     "data": {
      "text/html": [
       "<div>\n",
       "<style scoped>\n",
       "    .dataframe tbody tr th:only-of-type {\n",
       "        vertical-align: middle;\n",
       "    }\n",
       "\n",
       "    .dataframe tbody tr th {\n",
       "        vertical-align: top;\n",
       "    }\n",
       "\n",
       "    .dataframe thead th {\n",
       "        text-align: right;\n",
       "    }\n",
       "</style>\n",
       "<table border=\"1\" class=\"dataframe\">\n",
       "  <thead>\n",
       "    <tr style=\"text-align: right;\">\n",
       "      <th></th>\n",
       "      <th>Transaction ID</th>\n",
       "      <th>Date</th>\n",
       "      <th>Product Category</th>\n",
       "      <th>Product Name</th>\n",
       "      <th>Units Sold</th>\n",
       "      <th>Unit Price</th>\n",
       "      <th>Total Revenue</th>\n",
       "      <th>Region</th>\n",
       "      <th>Payment Method</th>\n",
       "    </tr>\n",
       "  </thead>\n",
       "  <tbody>\n",
       "    <tr>\n",
       "      <th>0</th>\n",
       "      <td>10001</td>\n",
       "      <td>2024-01-01</td>\n",
       "      <td>Electronics</td>\n",
       "      <td>iPhone 14 Pro</td>\n",
       "      <td>2</td>\n",
       "      <td>999.99</td>\n",
       "      <td>1999.98</td>\n",
       "      <td>North America</td>\n",
       "      <td>Credit Card</td>\n",
       "    </tr>\n",
       "    <tr>\n",
       "      <th>1</th>\n",
       "      <td>10002</td>\n",
       "      <td>2024-01-02</td>\n",
       "      <td>Home Appliances</td>\n",
       "      <td>Dyson V11 Vacuum</td>\n",
       "      <td>1</td>\n",
       "      <td>499.99</td>\n",
       "      <td>499.99</td>\n",
       "      <td>Europe</td>\n",
       "      <td>PayPal</td>\n",
       "    </tr>\n",
       "    <tr>\n",
       "      <th>2</th>\n",
       "      <td>10003</td>\n",
       "      <td>2024-01-03</td>\n",
       "      <td>Clothing</td>\n",
       "      <td>Levi's 501 Jeans</td>\n",
       "      <td>3</td>\n",
       "      <td>69.99</td>\n",
       "      <td>209.97</td>\n",
       "      <td>Asia</td>\n",
       "      <td>Debit Card</td>\n",
       "    </tr>\n",
       "    <tr>\n",
       "      <th>3</th>\n",
       "      <td>10004</td>\n",
       "      <td>2024-01-04</td>\n",
       "      <td>Books</td>\n",
       "      <td>The Da Vinci Code</td>\n",
       "      <td>4</td>\n",
       "      <td>15.99</td>\n",
       "      <td>63.96</td>\n",
       "      <td>North America</td>\n",
       "      <td>Credit Card</td>\n",
       "    </tr>\n",
       "    <tr>\n",
       "      <th>4</th>\n",
       "      <td>10005</td>\n",
       "      <td>2024-01-05</td>\n",
       "      <td>Beauty Products</td>\n",
       "      <td>Neutrogena Skincare Set</td>\n",
       "      <td>1</td>\n",
       "      <td>89.99</td>\n",
       "      <td>89.99</td>\n",
       "      <td>Europe</td>\n",
       "      <td>PayPal</td>\n",
       "    </tr>\n",
       "  </tbody>\n",
       "</table>\n",
       "</div>"
      ],
      "text/plain": [
       "   Transaction ID        Date Product Category             Product Name  \\\n",
       "0           10001  2024-01-01      Electronics            iPhone 14 Pro   \n",
       "1           10002  2024-01-02  Home Appliances         Dyson V11 Vacuum   \n",
       "2           10003  2024-01-03         Clothing         Levi's 501 Jeans   \n",
       "3           10004  2024-01-04            Books        The Da Vinci Code   \n",
       "4           10005  2024-01-05  Beauty Products  Neutrogena Skincare Set   \n",
       "\n",
       "   Units Sold  Unit Price  Total Revenue         Region Payment Method  \n",
       "0           2      999.99        1999.98  North America    Credit Card  \n",
       "1           1      499.99         499.99         Europe         PayPal  \n",
       "2           3       69.99         209.97           Asia     Debit Card  \n",
       "3           4       15.99          63.96  North America    Credit Card  \n",
       "4           1       89.99          89.99         Europe         PayPal  "
      ]
     },
     "execution_count": 38,
     "metadata": {},
     "output_type": "execute_result"
    }
   ],
   "source": [
    "df = pd.read_csv('sales_data.csv')\n",
    "df.head(5) ## excel"
   ]
  },
  {
   "cell_type": "code",
   "execution_count": 39,
   "id": "37cf6661",
   "metadata": {},
   "outputs": [
    {
     "data": {
      "text/html": [
       "<div>\n",
       "<style scoped>\n",
       "    .dataframe tbody tr th:only-of-type {\n",
       "        vertical-align: middle;\n",
       "    }\n",
       "\n",
       "    .dataframe tbody tr th {\n",
       "        vertical-align: top;\n",
       "    }\n",
       "\n",
       "    .dataframe thead th {\n",
       "        text-align: right;\n",
       "    }\n",
       "</style>\n",
       "<table border=\"1\" class=\"dataframe\">\n",
       "  <thead>\n",
       "    <tr style=\"text-align: right;\">\n",
       "      <th></th>\n",
       "      <th>Transaction ID</th>\n",
       "      <th>Date</th>\n",
       "      <th>Product Category</th>\n",
       "      <th>Product Name</th>\n",
       "      <th>Units Sold</th>\n",
       "      <th>Unit Price</th>\n",
       "      <th>Total Revenue</th>\n",
       "      <th>Region</th>\n",
       "      <th>Payment Method</th>\n",
       "    </tr>\n",
       "  </thead>\n",
       "  <tbody>\n",
       "    <tr>\n",
       "      <th>238</th>\n",
       "      <td>10239</td>\n",
       "      <td>2024-08-26</td>\n",
       "      <td>Beauty Products</td>\n",
       "      <td>Sunday Riley Luna Sleeping Night Oil</td>\n",
       "      <td>1</td>\n",
       "      <td>55.00</td>\n",
       "      <td>55.00</td>\n",
       "      <td>Europe</td>\n",
       "      <td>PayPal</td>\n",
       "    </tr>\n",
       "    <tr>\n",
       "      <th>239</th>\n",
       "      <td>10240</td>\n",
       "      <td>2024-08-27</td>\n",
       "      <td>Sports</td>\n",
       "      <td>Yeti Rambler 20 oz Tumbler</td>\n",
       "      <td>2</td>\n",
       "      <td>29.99</td>\n",
       "      <td>59.98</td>\n",
       "      <td>Asia</td>\n",
       "      <td>Credit Card</td>\n",
       "    </tr>\n",
       "  </tbody>\n",
       "</table>\n",
       "</div>"
      ],
      "text/plain": [
       "     Transaction ID        Date Product Category  \\\n",
       "238           10239  2024-08-26  Beauty Products   \n",
       "239           10240  2024-08-27           Sports   \n",
       "\n",
       "                             Product Name  Units Sold  Unit Price  \\\n",
       "238  Sunday Riley Luna Sleeping Night Oil           1       55.00   \n",
       "239            Yeti Rambler 20 oz Tumbler           2       29.99   \n",
       "\n",
       "     Total Revenue  Region Payment Method  \n",
       "238          55.00  Europe         PayPal  \n",
       "239          59.98    Asia    Credit Card  "
      ]
     },
     "execution_count": 39,
     "metadata": {},
     "output_type": "execute_result"
    }
   ],
   "source": [
    "df.tail(2)"
   ]
  },
  {
   "cell_type": "code",
   "execution_count": 40,
   "id": "81d39411",
   "metadata": {},
   "outputs": [
    {
     "data": {
      "text/html": [
       "<div>\n",
       "<style scoped>\n",
       "    .dataframe tbody tr th:only-of-type {\n",
       "        vertical-align: middle;\n",
       "    }\n",
       "\n",
       "    .dataframe tbody tr th {\n",
       "        vertical-align: top;\n",
       "    }\n",
       "\n",
       "    .dataframe thead th {\n",
       "        text-align: right;\n",
       "    }\n",
       "</style>\n",
       "<table border=\"1\" class=\"dataframe\">\n",
       "  <thead>\n",
       "    <tr style=\"text-align: right;\">\n",
       "      <th></th>\n",
       "      <th>Name</th>\n",
       "      <th>Age</th>\n",
       "      <th>City</th>\n",
       "    </tr>\n",
       "  </thead>\n",
       "  <tbody>\n",
       "    <tr>\n",
       "      <th>0</th>\n",
       "      <td>Krish</td>\n",
       "      <td>32</td>\n",
       "      <td>Bangalore</td>\n",
       "    </tr>\n",
       "    <tr>\n",
       "      <th>1</th>\n",
       "      <td>John</td>\n",
       "      <td>34</td>\n",
       "      <td>Florida</td>\n",
       "    </tr>\n",
       "    <tr>\n",
       "      <th>2</th>\n",
       "      <td>Bappy</td>\n",
       "      <td>32</td>\n",
       "      <td>New York</td>\n",
       "    </tr>\n",
       "    <tr>\n",
       "      <th>3</th>\n",
       "      <td>Jack</td>\n",
       "      <td>32</td>\n",
       "      <td>Bangalore</td>\n",
       "    </tr>\n",
       "  </tbody>\n",
       "</table>\n",
       "</div>"
      ],
      "text/plain": [
       "    Name  Age       City\n",
       "0  Krish   32  Bangalore\n",
       "1   John   34    Florida\n",
       "2  Bappy   32   New York\n",
       "3   Jack   32  Bangalore"
      ]
     },
     "execution_count": 40,
     "metadata": {},
     "output_type": "execute_result"
    }
   ],
   "source": [
    "### Accessing Data from Dataframe\n",
    "df=pd.DataFrame(data)\n",
    "df "
   ]
  },
  {
   "cell_type": "code",
   "execution_count": 41,
   "id": "d94c25ae",
   "metadata": {},
   "outputs": [
    {
     "name": "stdout",
     "output_type": "stream",
     "text": [
      "<class 'pandas.core.series.Series'>\n"
     ]
    },
    {
     "data": {
      "text/plain": [
       "0    Krish\n",
       "1     John\n",
       "2    Bappy\n",
       "3     Jack\n",
       "Name: Name, dtype: object"
      ]
     },
     "execution_count": 41,
     "metadata": {},
     "output_type": "execute_result"
    }
   ],
   "source": [
    "print(type(df['Name']))## sütunu aldığında series haline geliyor\n",
    "df['Name']"
   ]
  },
  {
   "cell_type": "markdown",
   "id": "6c6bcfd8",
   "metadata": {},
   "source": [
    "📌 df.loc[]\n",
    "\n",
    "Label-based indexing (etiket ile erişim) kullanır.\n",
    "\n",
    "Yani satırın/sütunun isimlerine göre seçim yapar.\n",
    "\n",
    "df.loc[0] → index etiketi 0 olan satırı getirir.\n",
    "\n",
    "Örnek:\n",
    "\n",
    "import pandas as pd\n",
    "\n",
    "data = {\"Ad\": [\"Ali\", \"Ayşe\", \"Mehmet\"], \"Yaş\": [25, 30, 35]}\n",
    "df = pd.DataFrame(data, index=[\"a\", \"b\", \"c\"])\n",
    "\n",
    "print(df)\n",
    "\n",
    "\n",
    "👉 Burada:\n",
    "\n",
    "df.loc[\"a\"] → \"Ali\" satırını getirir.\n",
    "\n",
    "df.loc[\"b\"] → \"Ayşe\" satırını getirir.\n",
    "\n",
    "Ama df.loc[0] hata verir ❌ çünkü index’lerde 0 yok.\n",
    "\n",
    "📌 df.iloc[]\n",
    "\n",
    "Integer-location based indexing (pozisyon ile erişim) kullanır.\n",
    "\n",
    "Yani satırın/sütunun konumuna (0,1,2 …) göre seçim yapar.\n",
    "\n",
    "👉 Yukarıdaki örnekte:\n",
    "\n",
    "df.iloc[0] → ilk satır (\"Ali\")\n",
    "\n",
    "df.iloc[1] → ikinci satır (\"Ayşe\")\n",
    "\n",
    "Index isimleri ne olursa olsun, iloc sıra numarasına bakar."
   ]
  },
  {
   "cell_type": "code",
   "execution_count": 42,
   "id": "3b284f42",
   "metadata": {},
   "outputs": [
    {
     "data": {
      "text/plain": [
       "Name        Krish\n",
       "Age            32\n",
       "City    Bangalore\n",
       "Name: 0, dtype: object"
      ]
     },
     "execution_count": 42,
     "metadata": {},
     "output_type": "execute_result"
    }
   ],
   "source": [
    "df.loc[0]"
   ]
  },
  {
   "cell_type": "code",
   "execution_count": 43,
   "id": "c6db64ec",
   "metadata": {},
   "outputs": [
    {
     "data": {
      "text/plain": [
       "Name        Krish\n",
       "Age            32\n",
       "City    Bangalore\n",
       "Name: 0, dtype: object"
      ]
     },
     "execution_count": 43,
     "metadata": {},
     "output_type": "execute_result"
    }
   ],
   "source": [
    "df.iloc[0]"
   ]
  },
  {
   "cell_type": "code",
   "execution_count": 44,
   "id": "f3f855ff",
   "metadata": {},
   "outputs": [
    {
     "data": {
      "text/html": [
       "<div>\n",
       "<style scoped>\n",
       "    .dataframe tbody tr th:only-of-type {\n",
       "        vertical-align: middle;\n",
       "    }\n",
       "\n",
       "    .dataframe tbody tr th {\n",
       "        vertical-align: top;\n",
       "    }\n",
       "\n",
       "    .dataframe thead th {\n",
       "        text-align: right;\n",
       "    }\n",
       "</style>\n",
       "<table border=\"1\" class=\"dataframe\">\n",
       "  <thead>\n",
       "    <tr style=\"text-align: right;\">\n",
       "      <th></th>\n",
       "      <th>Name</th>\n",
       "      <th>Age</th>\n",
       "      <th>City</th>\n",
       "    </tr>\n",
       "  </thead>\n",
       "  <tbody>\n",
       "    <tr>\n",
       "      <th>0</th>\n",
       "      <td>Krish</td>\n",
       "      <td>32</td>\n",
       "      <td>Bangalore</td>\n",
       "    </tr>\n",
       "    <tr>\n",
       "      <th>1</th>\n",
       "      <td>John</td>\n",
       "      <td>34</td>\n",
       "      <td>Florida</td>\n",
       "    </tr>\n",
       "    <tr>\n",
       "      <th>2</th>\n",
       "      <td>Bappy</td>\n",
       "      <td>32</td>\n",
       "      <td>New York</td>\n",
       "    </tr>\n",
       "    <tr>\n",
       "      <th>3</th>\n",
       "      <td>Jack</td>\n",
       "      <td>32</td>\n",
       "      <td>Bangalore</td>\n",
       "    </tr>\n",
       "  </tbody>\n",
       "</table>\n",
       "</div>"
      ],
      "text/plain": [
       "    Name  Age       City\n",
       "0  Krish   32  Bangalore\n",
       "1   John   34    Florida\n",
       "2  Bappy   32   New York\n",
       "3   Jack   32  Bangalore"
      ]
     },
     "execution_count": 44,
     "metadata": {},
     "output_type": "execute_result"
    }
   ],
   "source": [
    "## Accessing a specified element\n",
    "\n",
    "df['Name']\n",
    "df"
   ]
  },
  {
   "cell_type": "code",
   "execution_count": 45,
   "id": "4bac2d45",
   "metadata": {},
   "outputs": [
    {
     "data": {
      "text/plain": [
       "np.int64(34)"
      ]
     },
     "execution_count": 45,
     "metadata": {},
     "output_type": "execute_result"
    }
   ],
   "source": [
    "df.at[2,'City']\n",
    "df.at[1,'Age']\n"
   ]
  },
  {
   "cell_type": "code",
   "execution_count": 49,
   "id": "d6dc9e73",
   "metadata": {},
   "outputs": [
    {
     "data": {
      "text/plain": [
       "'New York'"
      ]
     },
     "execution_count": 49,
     "metadata": {},
     "output_type": "execute_result"
    }
   ],
   "source": [
    "df.iat[2,2]\n"
   ]
  },
  {
   "cell_type": "code",
   "execution_count": 50,
   "id": "0acf1c36",
   "metadata": {},
   "outputs": [
    {
     "data": {
      "text/html": [
       "<div>\n",
       "<style scoped>\n",
       "    .dataframe tbody tr th:only-of-type {\n",
       "        vertical-align: middle;\n",
       "    }\n",
       "\n",
       "    .dataframe tbody tr th {\n",
       "        vertical-align: top;\n",
       "    }\n",
       "\n",
       "    .dataframe thead th {\n",
       "        text-align: right;\n",
       "    }\n",
       "</style>\n",
       "<table border=\"1\" class=\"dataframe\">\n",
       "  <thead>\n",
       "    <tr style=\"text-align: right;\">\n",
       "      <th></th>\n",
       "      <th>Name</th>\n",
       "      <th>Age</th>\n",
       "      <th>City</th>\n",
       "      <th>Salary</th>\n",
       "    </tr>\n",
       "  </thead>\n",
       "  <tbody>\n",
       "    <tr>\n",
       "      <th>0</th>\n",
       "      <td>Krish</td>\n",
       "      <td>32</td>\n",
       "      <td>Bangalore</td>\n",
       "      <td>50000</td>\n",
       "    </tr>\n",
       "    <tr>\n",
       "      <th>1</th>\n",
       "      <td>John</td>\n",
       "      <td>34</td>\n",
       "      <td>Florida</td>\n",
       "      <td>60000</td>\n",
       "    </tr>\n",
       "    <tr>\n",
       "      <th>2</th>\n",
       "      <td>Bappy</td>\n",
       "      <td>32</td>\n",
       "      <td>New York</td>\n",
       "      <td>70000</td>\n",
       "    </tr>\n",
       "    <tr>\n",
       "      <th>3</th>\n",
       "      <td>Jack</td>\n",
       "      <td>32</td>\n",
       "      <td>Bangalore</td>\n",
       "      <td>80000</td>\n",
       "    </tr>\n",
       "  </tbody>\n",
       "</table>\n",
       "</div>"
      ],
      "text/plain": [
       "    Name  Age       City  Salary\n",
       "0  Krish   32  Bangalore   50000\n",
       "1   John   34    Florida   60000\n",
       "2  Bappy   32   New York   70000\n",
       "3   Jack   32  Bangalore   80000"
      ]
     },
     "execution_count": 50,
     "metadata": {},
     "output_type": "execute_result"
    }
   ],
   "source": [
    "## Data Manipulation with Dataframe\n",
    "\n",
    "## adding a clomn\n",
    "df['Salary'] = [50000,60000,70000,80000]\n",
    "df"
   ]
  },
  {
   "cell_type": "code",
   "execution_count": null,
   "id": "0c7d343a",
   "metadata": {},
   "outputs": [],
   "source": [
    "## Remove a column\n",
    "df.drop('Salary',axis=1,inplace=True) \n",
    "## axis=1 yapılarak sütundan arama sağlanır yoksa default değerle (axis=0) satırları arar.\n",
    "## inplace = True ile yapılacak değişikliğin kalıcı olması sağlanır."
   ]
  },
  {
   "cell_type": "code",
   "execution_count": 55,
   "id": "2695856e",
   "metadata": {},
   "outputs": [
    {
     "data": {
      "text/html": [
       "<div>\n",
       "<style scoped>\n",
       "    .dataframe tbody tr th:only-of-type {\n",
       "        vertical-align: middle;\n",
       "    }\n",
       "\n",
       "    .dataframe tbody tr th {\n",
       "        vertical-align: top;\n",
       "    }\n",
       "\n",
       "    .dataframe thead th {\n",
       "        text-align: right;\n",
       "    }\n",
       "</style>\n",
       "<table border=\"1\" class=\"dataframe\">\n",
       "  <thead>\n",
       "    <tr style=\"text-align: right;\">\n",
       "      <th></th>\n",
       "      <th>Name</th>\n",
       "      <th>Age</th>\n",
       "      <th>City</th>\n",
       "    </tr>\n",
       "  </thead>\n",
       "  <tbody>\n",
       "    <tr>\n",
       "      <th>0</th>\n",
       "      <td>Krish</td>\n",
       "      <td>32</td>\n",
       "      <td>Bangalore</td>\n",
       "    </tr>\n",
       "    <tr>\n",
       "      <th>1</th>\n",
       "      <td>John</td>\n",
       "      <td>34</td>\n",
       "      <td>Florida</td>\n",
       "    </tr>\n",
       "    <tr>\n",
       "      <th>2</th>\n",
       "      <td>Bappy</td>\n",
       "      <td>32</td>\n",
       "      <td>New York</td>\n",
       "    </tr>\n",
       "    <tr>\n",
       "      <th>3</th>\n",
       "      <td>Jack</td>\n",
       "      <td>32</td>\n",
       "      <td>Bangalore</td>\n",
       "    </tr>\n",
       "  </tbody>\n",
       "</table>\n",
       "</div>"
      ],
      "text/plain": [
       "    Name  Age       City\n",
       "0  Krish   32  Bangalore\n",
       "1   John   34    Florida\n",
       "2  Bappy   32   New York\n",
       "3   Jack   32  Bangalore"
      ]
     },
     "execution_count": 55,
     "metadata": {},
     "output_type": "execute_result"
    }
   ],
   "source": [
    "df"
   ]
  },
  {
   "cell_type": "code",
   "execution_count": 57,
   "id": "c0154f61",
   "metadata": {},
   "outputs": [
    {
     "data": {
      "text/html": [
       "<div>\n",
       "<style scoped>\n",
       "    .dataframe tbody tr th:only-of-type {\n",
       "        vertical-align: middle;\n",
       "    }\n",
       "\n",
       "    .dataframe tbody tr th {\n",
       "        vertical-align: top;\n",
       "    }\n",
       "\n",
       "    .dataframe thead th {\n",
       "        text-align: right;\n",
       "    }\n",
       "</style>\n",
       "<table border=\"1\" class=\"dataframe\">\n",
       "  <thead>\n",
       "    <tr style=\"text-align: right;\">\n",
       "      <th></th>\n",
       "      <th>Name</th>\n",
       "      <th>Age</th>\n",
       "      <th>City</th>\n",
       "    </tr>\n",
       "  </thead>\n",
       "  <tbody>\n",
       "    <tr>\n",
       "      <th>0</th>\n",
       "      <td>Krish</td>\n",
       "      <td>36</td>\n",
       "      <td>Bangalore</td>\n",
       "    </tr>\n",
       "    <tr>\n",
       "      <th>1</th>\n",
       "      <td>John</td>\n",
       "      <td>38</td>\n",
       "      <td>Florida</td>\n",
       "    </tr>\n",
       "    <tr>\n",
       "      <th>2</th>\n",
       "      <td>Bappy</td>\n",
       "      <td>36</td>\n",
       "      <td>New York</td>\n",
       "    </tr>\n",
       "    <tr>\n",
       "      <th>3</th>\n",
       "      <td>Jack</td>\n",
       "      <td>36</td>\n",
       "      <td>Bangalore</td>\n",
       "    </tr>\n",
       "  </tbody>\n",
       "</table>\n",
       "</div>"
      ],
      "text/plain": [
       "    Name  Age       City\n",
       "0  Krish   36  Bangalore\n",
       "1   John   38    Florida\n",
       "2  Bappy   36   New York\n",
       "3   Jack   36  Bangalore"
      ]
     },
     "execution_count": 57,
     "metadata": {},
     "output_type": "execute_result"
    }
   ],
   "source": [
    "## Add age to the column\n",
    "df['Age'] = df['Age'] + 2\n",
    "df"
   ]
  },
  {
   "cell_type": "code",
   "execution_count": 58,
   "id": "9ac907a4",
   "metadata": {},
   "outputs": [
    {
     "data": {
      "text/html": [
       "<div>\n",
       "<style scoped>\n",
       "    .dataframe tbody tr th:only-of-type {\n",
       "        vertical-align: middle;\n",
       "    }\n",
       "\n",
       "    .dataframe tbody tr th {\n",
       "        vertical-align: top;\n",
       "    }\n",
       "\n",
       "    .dataframe thead th {\n",
       "        text-align: right;\n",
       "    }\n",
       "</style>\n",
       "<table border=\"1\" class=\"dataframe\">\n",
       "  <thead>\n",
       "    <tr style=\"text-align: right;\">\n",
       "      <th></th>\n",
       "      <th>Name</th>\n",
       "      <th>Age</th>\n",
       "      <th>City</th>\n",
       "    </tr>\n",
       "  </thead>\n",
       "  <tbody>\n",
       "    <tr>\n",
       "      <th>1</th>\n",
       "      <td>John</td>\n",
       "      <td>38</td>\n",
       "      <td>Florida</td>\n",
       "    </tr>\n",
       "    <tr>\n",
       "      <th>2</th>\n",
       "      <td>Bappy</td>\n",
       "      <td>36</td>\n",
       "      <td>New York</td>\n",
       "    </tr>\n",
       "    <tr>\n",
       "      <th>3</th>\n",
       "      <td>Jack</td>\n",
       "      <td>36</td>\n",
       "      <td>Bangalore</td>\n",
       "    </tr>\n",
       "  </tbody>\n",
       "</table>\n",
       "</div>"
      ],
      "text/plain": [
       "    Name  Age       City\n",
       "1   John   38    Florida\n",
       "2  Bappy   36   New York\n",
       "3   Jack   36  Bangalore"
      ]
     },
     "execution_count": 58,
     "metadata": {},
     "output_type": "execute_result"
    }
   ],
   "source": [
    "df.drop(0) ## 0. indexli satırı siler inplace=True ile kalıcı hale getirilebilir"
   ]
  },
  {
   "cell_type": "code",
   "execution_count": 59,
   "id": "f1d48dde",
   "metadata": {},
   "outputs": [
    {
     "data": {
      "text/html": [
       "<div>\n",
       "<style scoped>\n",
       "    .dataframe tbody tr th:only-of-type {\n",
       "        vertical-align: middle;\n",
       "    }\n",
       "\n",
       "    .dataframe tbody tr th {\n",
       "        vertical-align: top;\n",
       "    }\n",
       "\n",
       "    .dataframe thead th {\n",
       "        text-align: right;\n",
       "    }\n",
       "</style>\n",
       "<table border=\"1\" class=\"dataframe\">\n",
       "  <thead>\n",
       "    <tr style=\"text-align: right;\">\n",
       "      <th></th>\n",
       "      <th>Name</th>\n",
       "      <th>Age</th>\n",
       "      <th>City</th>\n",
       "    </tr>\n",
       "  </thead>\n",
       "  <tbody>\n",
       "    <tr>\n",
       "      <th>0</th>\n",
       "      <td>Krish</td>\n",
       "      <td>36</td>\n",
       "      <td>Bangalore</td>\n",
       "    </tr>\n",
       "    <tr>\n",
       "      <th>1</th>\n",
       "      <td>John</td>\n",
       "      <td>38</td>\n",
       "      <td>Florida</td>\n",
       "    </tr>\n",
       "    <tr>\n",
       "      <th>2</th>\n",
       "      <td>Bappy</td>\n",
       "      <td>36</td>\n",
       "      <td>New York</td>\n",
       "    </tr>\n",
       "    <tr>\n",
       "      <th>3</th>\n",
       "      <td>Jack</td>\n",
       "      <td>36</td>\n",
       "      <td>Bangalore</td>\n",
       "    </tr>\n",
       "  </tbody>\n",
       "</table>\n",
       "</div>"
      ],
      "text/plain": [
       "    Name  Age       City\n",
       "0  Krish   36  Bangalore\n",
       "1   John   38    Florida\n",
       "2  Bappy   36   New York\n",
       "3   Jack   36  Bangalore"
      ]
     },
     "execution_count": 59,
     "metadata": {},
     "output_type": "execute_result"
    }
   ],
   "source": [
    "df"
   ]
  },
  {
   "cell_type": "code",
   "execution_count": 60,
   "id": "3f482d21",
   "metadata": {},
   "outputs": [
    {
     "name": "stdout",
     "output_type": "stream",
     "text": [
      "Data types:\n",
      " Name    object\n",
      "Age      int64\n",
      "City    object\n",
      "dtype: object\n",
      "Statistical summary:\n",
      "         Age\n",
      "count   4.0\n",
      "mean   36.5\n",
      "std     1.0\n",
      "min    36.0\n",
      "25%    36.0\n",
      "50%    36.0\n",
      "75%    36.5\n",
      "max    38.0\n"
     ]
    }
   ],
   "source": [
    "# Display the data types of each column\n",
    "print(\"Data types:\\n\", df.dtypes)\n",
    "\n",
    "# Describe the DataFrame\n",
    "print(\"Statistical summary:\\n\", df.describe())"
   ]
  },
  {
   "cell_type": "code",
   "execution_count": 66,
   "id": "224861e5",
   "metadata": {},
   "outputs": [
    {
     "data": {
      "text/html": [
       "<div>\n",
       "<style scoped>\n",
       "    .dataframe tbody tr th:only-of-type {\n",
       "        vertical-align: middle;\n",
       "    }\n",
       "\n",
       "    .dataframe tbody tr th {\n",
       "        vertical-align: top;\n",
       "    }\n",
       "\n",
       "    .dataframe thead th {\n",
       "        text-align: right;\n",
       "    }\n",
       "</style>\n",
       "<table border=\"1\" class=\"dataframe\">\n",
       "  <thead>\n",
       "    <tr style=\"text-align: right;\">\n",
       "      <th></th>\n",
       "      <th>Name</th>\n",
       "      <th>Age</th>\n",
       "      <th>City</th>\n",
       "      <th>Salary</th>\n",
       "    </tr>\n",
       "  </thead>\n",
       "  <tbody>\n",
       "    <tr>\n",
       "      <th>0</th>\n",
       "      <td>Krish</td>\n",
       "      <td>32</td>\n",
       "      <td>Bangalore</td>\n",
       "      <td>50000</td>\n",
       "    </tr>\n",
       "    <tr>\n",
       "      <th>1</th>\n",
       "      <td>John</td>\n",
       "      <td>34</td>\n",
       "      <td>Florida</td>\n",
       "      <td>70000</td>\n",
       "    </tr>\n",
       "    <tr>\n",
       "      <th>2</th>\n",
       "      <td>Bappy</td>\n",
       "      <td>32</td>\n",
       "      <td>New York</td>\n",
       "      <td>100000</td>\n",
       "    </tr>\n",
       "    <tr>\n",
       "      <th>3</th>\n",
       "      <td>Jack</td>\n",
       "      <td>32</td>\n",
       "      <td>Bangalore</td>\n",
       "      <td>900000</td>\n",
       "    </tr>\n",
       "  </tbody>\n",
       "</table>\n",
       "</div>"
      ],
      "text/plain": [
       "    Name  Age       City  Salary\n",
       "0  Krish   32  Bangalore   50000\n",
       "1   John   34    Florida   70000\n",
       "2  Bappy   32   New York  100000\n",
       "3   Jack   32  Bangalore  900000"
      ]
     },
     "execution_count": 66,
     "metadata": {},
     "output_type": "execute_result"
    }
   ],
   "source": [
    "df = pd.DataFrame(data)\n",
    "df['Salary'] = [50000,70000,100000,900000]\n",
    "df"
   ]
  },
  {
   "cell_type": "code",
   "execution_count": 67,
   "id": "a6615dea",
   "metadata": {},
   "outputs": [
    {
     "data": {
      "text/html": [
       "<div>\n",
       "<style scoped>\n",
       "    .dataframe tbody tr th:only-of-type {\n",
       "        vertical-align: middle;\n",
       "    }\n",
       "\n",
       "    .dataframe tbody tr th {\n",
       "        vertical-align: top;\n",
       "    }\n",
       "\n",
       "    .dataframe thead th {\n",
       "        text-align: right;\n",
       "    }\n",
       "</style>\n",
       "<table border=\"1\" class=\"dataframe\">\n",
       "  <thead>\n",
       "    <tr style=\"text-align: right;\">\n",
       "      <th></th>\n",
       "      <th>Age</th>\n",
       "      <th>Salary</th>\n",
       "    </tr>\n",
       "  </thead>\n",
       "  <tbody>\n",
       "    <tr>\n",
       "      <th>count</th>\n",
       "      <td>4.0</td>\n",
       "      <td>4.000000</td>\n",
       "    </tr>\n",
       "    <tr>\n",
       "      <th>mean</th>\n",
       "      <td>32.5</td>\n",
       "      <td>280000.000000</td>\n",
       "    </tr>\n",
       "    <tr>\n",
       "      <th>std</th>\n",
       "      <td>1.0</td>\n",
       "      <td>413843.770844</td>\n",
       "    </tr>\n",
       "    <tr>\n",
       "      <th>min</th>\n",
       "      <td>32.0</td>\n",
       "      <td>50000.000000</td>\n",
       "    </tr>\n",
       "    <tr>\n",
       "      <th>25%</th>\n",
       "      <td>32.0</td>\n",
       "      <td>65000.000000</td>\n",
       "    </tr>\n",
       "    <tr>\n",
       "      <th>50%</th>\n",
       "      <td>32.0</td>\n",
       "      <td>85000.000000</td>\n",
       "    </tr>\n",
       "    <tr>\n",
       "      <th>75%</th>\n",
       "      <td>32.5</td>\n",
       "      <td>300000.000000</td>\n",
       "    </tr>\n",
       "    <tr>\n",
       "      <th>max</th>\n",
       "      <td>34.0</td>\n",
       "      <td>900000.000000</td>\n",
       "    </tr>\n",
       "  </tbody>\n",
       "</table>\n",
       "</div>"
      ],
      "text/plain": [
       "        Age         Salary\n",
       "count   4.0       4.000000\n",
       "mean   32.5  280000.000000\n",
       "std     1.0  413843.770844\n",
       "min    32.0   50000.000000\n",
       "25%    32.0   65000.000000\n",
       "50%    32.0   85000.000000\n",
       "75%    32.5  300000.000000\n",
       "max    34.0  900000.000000"
      ]
     },
     "execution_count": 67,
     "metadata": {},
     "output_type": "execute_result"
    }
   ],
   "source": [
    "df.describe()"
   ]
  },
  {
   "cell_type": "code",
   "execution_count": null,
   "id": "6a06757a",
   "metadata": {},
   "outputs": [],
   "source": []
  }
 ],
 "metadata": {
  "kernelspec": {
   "display_name": "Python 3",
   "language": "python",
   "name": "python3"
  },
  "language_info": {
   "codemirror_mode": {
    "name": "ipython",
    "version": 3
   },
   "file_extension": ".py",
   "mimetype": "text/x-python",
   "name": "python",
   "nbconvert_exporter": "python",
   "pygments_lexer": "ipython3",
   "version": "3.12.0"
  }
 },
 "nbformat": 4,
 "nbformat_minor": 5
}
