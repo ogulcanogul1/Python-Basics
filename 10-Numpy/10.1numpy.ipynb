{
 "cells": [
  {
   "cell_type": "markdown",
   "id": "97e6d82c",
   "metadata": {},
   "source": [
    "#### NumPy nedir?\n",
    "\n",
    "- Numerical Python kelimelerinden gelir.\n",
    "\n",
    "- Python’da bilimsel hesaplama ve sayısal veri işleme için kullanılan temel kütüphanedir.\n",
    "\n",
    "- Büyük, çok boyutlu diziler (arrays) ve matrislerle çalışmayı kolaylaştırır.\n",
    "\n",
    "#### Ne işe yarar?\n",
    "\n",
    "- Çok boyutlu diziler (array) oluşturma ve yönetme\n",
    "\n",
    "- Python listelerinden çok daha hızlıdır.\n",
    "\n",
    "- Örn: 1000x1000 boyutunda bir matris üzerinde işlem yapabilirsin.\n",
    "\n",
    "#### Matematiksel işlemler\n",
    "\n",
    "- Toplama, çıkarma, çarpma, bölme\n",
    "\n",
    "- Trigonometri, logaritma, istatistiksel hesaplamalar\n",
    "\n",
    "#### Lineer cebir işlemleri\n",
    "\n",
    "Matris çarpımı, tersini alma, determinant\n",
    "\n",
    "- Yapay zekâ, makine öğrenmesi, görüntü işleme gibi alanlarda çok kritik\n",
    "\n",
    "#### Rastgele sayı üretimi\n",
    "\n",
    "- Simülasyonlar, istatistiksel modelleme, veri üretme"
   ]
  },
  {
   "cell_type": "code",
   "execution_count": 4,
   "id": "9e174094",
   "metadata": {},
   "outputs": [
    {
     "name": "stdout",
     "output_type": "stream",
     "text": [
      "Requirement already satisfied: numpy in d:\\python\\basics\\venv\\lib\\site-packages (2.3.3)\n"
     ]
    }
   ],
   "source": [
    "!pip install numpy"
   ]
  },
  {
   "cell_type": "code",
   "execution_count": 3,
   "id": "3918ba9f",
   "metadata": {},
   "outputs": [
    {
     "name": "stdout",
     "output_type": "stream",
     "text": [
      "[1 2 3 4 5]\n",
      "<class 'numpy.ndarray'>\n",
      "(5,)\n"
     ]
    }
   ],
   "source": [
    "import numpy as np\n",
    "\n",
    "##create array using numpy\n",
    "## create 1D array\n",
    "\n",
    "arr1 = np.array([1,2,3,4,5])\n",
    "print(arr1)\n",
    "print(type(arr1))\n",
    "print(arr1.shape)\n"
   ]
  },
  {
   "cell_type": "code",
   "execution_count": 8,
   "id": "b5f0ae99",
   "metadata": {},
   "outputs": [
    {
     "name": "stdout",
     "output_type": "stream",
     "text": [
      "[[1 2 3 4 5]]\n",
      "********************\n",
      "[[1]\n",
      " [2]\n",
      " [3]\n",
      " [4]\n",
      " [5]]\n"
     ]
    }
   ],
   "source": [
    "arr2 = np.array([1,2,3,4,5])\n",
    "print(arr2.reshape(1,5)) ## 1 row 5 column\n",
    "print('*' * 20)\n",
    "print(arr2.reshape(5,1)) ## 5 row 1 cloumn"
   ]
  },
  {
   "cell_type": "code",
   "execution_count": 9,
   "id": "3c21a055",
   "metadata": {},
   "outputs": [
    {
     "data": {
      "text/plain": [
       "(1, 5)"
      ]
     },
     "execution_count": 9,
     "metadata": {},
     "output_type": "execute_result"
    }
   ],
   "source": [
    "arr2 = np.array([[1,2,3,4,5]])\n",
    "arr2.shape"
   ]
  },
  {
   "cell_type": "code",
   "execution_count": null,
   "id": "89bfad4e",
   "metadata": {},
   "outputs": [
    {
     "name": "stdout",
     "output_type": "stream",
     "text": [
      "(2, 5)\n",
      "[[1 2 3 4 5]\n",
      " [4 5 6 7 8]]\n"
     ]
    }
   ],
   "source": [
    "## 2d array\n",
    "arr2 = np.array([[1,2,3,4,5],[4,5,6,7,8]])\n",
    "print(arr2.shape)\n",
    "print(arr2)"
   ]
  },
  {
   "cell_type": "code",
   "execution_count": null,
   "id": "ecb38e7b",
   "metadata": {},
   "outputs": [
    {
     "data": {
      "text/plain": [
       "array([0, 2, 4, 6, 8])"
      ]
     },
     "execution_count": 14,
     "metadata": {},
     "output_type": "execute_result"
    }
   ],
   "source": [
    "np.arange(0,10,2) ## 2 şer artarak 0'dan 10'a kadar"
   ]
  },
  {
   "cell_type": "code",
   "execution_count": 16,
   "id": "d7a9b911",
   "metadata": {},
   "outputs": [
    {
     "data": {
      "text/plain": [
       "array([[0],\n",
       "       [2],\n",
       "       [4],\n",
       "       [6],\n",
       "       [8]])"
      ]
     },
     "execution_count": 16,
     "metadata": {},
     "output_type": "execute_result"
    }
   ],
   "source": [
    "np.arange(0,10,2).reshape(5,1)"
   ]
  },
  {
   "cell_type": "code",
   "execution_count": null,
   "id": "82efe24f",
   "metadata": {},
   "outputs": [
    {
     "data": {
      "text/plain": [
       "array([[1., 1., 1., 1.],\n",
       "       [1., 1., 1., 1.],\n",
       "       [1., 1., 1., 1.]])"
      ]
     },
     "execution_count": 18,
     "metadata": {},
     "output_type": "execute_result"
    }
   ],
   "source": [
    "np.ones((3,4)) ## 3 rows 4 column 1 değerli matris"
   ]
  },
  {
   "cell_type": "code",
   "execution_count": 22,
   "id": "a761157e",
   "metadata": {},
   "outputs": [
    {
     "data": {
      "text/plain": [
       "array([[1., 1., 1., 1.],\n",
       "       [1., 1., 1., 1.],\n",
       "       [1., 1., 1., 1.]])"
      ]
     },
     "execution_count": 22,
     "metadata": {},
     "output_type": "execute_result"
    }
   ],
   "source": [
    "np.array([1.] * 12).reshape((3,4))"
   ]
  },
  {
   "cell_type": "code",
   "execution_count": 27,
   "id": "4bc1a71f",
   "metadata": {},
   "outputs": [
    {
     "data": {
      "text/plain": [
       "array([[1., 0., 0.],\n",
       "       [0., 1., 0.],\n",
       "       [0., 0., 1.]])"
      ]
     },
     "execution_count": 27,
     "metadata": {},
     "output_type": "execute_result"
    }
   ],
   "source": [
    "## identity matrix\n",
    "np.eye(3)"
   ]
  },
  {
   "cell_type": "code",
   "execution_count": 32,
   "id": "b6e004ab",
   "metadata": {},
   "outputs": [
    {
     "name": "stdout",
     "output_type": "stream",
     "text": [
      "Array : [[1 2 3]\n",
      " [4 5 6]]\n",
      "Shape : (2, 3)\n",
      "Number of dimentsions :  2\n",
      "Size (number of elements) :  6\n",
      "Data type : int32\n",
      "Item size (in bytes) : 4\n"
     ]
    }
   ],
   "source": [
    "arr = np.array([[1,2,3], [4,5,6]], dtype=np.int32)\n",
    "print(\"Array :\", arr)\n",
    "print(\"Shape :\", arr.shape)\n",
    "print(\"Number of dimentsions : \" , arr.ndim) ## array boyutu\n",
    "print(\"Size (number of elements) : \" , arr.size)\n",
    "print(\"Data type :\", arr.dtype)\n",
    "print(\"Item size (in bytes) :\", arr.itemsize)\n",
    "## arr.itemsize\n",
    "\n",
    "## Array içindeki tek bir elemanın bellekte kapladığı alanı (byte cinsinden) verir.\n",
    "\n",
    "## Örneğin dtype=np.int32 ise her eleman 4 byte kaplar.\n",
    "\n",
    "## dtype=np.float64 olsaydı her eleman 8 byte olurdu.\n",
    "## Yani itemsize, 1 elemanın boyutu."
   ]
  },
  {
   "cell_type": "code",
   "execution_count": null,
   "id": "39590b72",
   "metadata": {},
   "outputs": [],
   "source": [
    "### Numpy Vectorized Operation\n",
    "arr1=np.array([1,2,3,4,5])\n",
    "arr2=np.array([10,20,30,40,50])\n",
    "\n",
    "### Element Wise addition\n",
    "print(\"Addition:\", arr1+arr2)\n",
    "\n",
    "## Element Wise Substraction\n",
    "print(\"Substraction:\", arr1-arr2)\n",
    "\n",
    "# Element-wise multiplication\n",
    "print(\"Multiplication:\", arr1 * arr2)\n",
    "\n",
    "# Element-wise division\n",
    "print(\"Division:\", arr1 / arr2)"
   ]
  },
  {
   "cell_type": "code",
   "execution_count": null,
   "id": "c976eab6",
   "metadata": {},
   "outputs": [],
   "source": [
    "import numpy as np\n",
    "\n",
    "arr = np.array([2,3,4,5,6])\n",
    "\n",
    "## square root (karekök alma)\n",
    "print(np.sqrt(arr))  \n",
    "\n",
    "## Exponential (e^x hesaplama)\n",
    "print(np.exp(arr))   \n",
    "\n",
    "## Sine (sinüs hesaplama, radyan cinsinden)\n",
    "print(np.sin(arr))   \n",
    "\n",
    "## natural log (doğal logaritma, ln(x))\n",
    "print(np.log(arr))   "
   ]
  },
  {
   "cell_type": "code",
   "execution_count": 35,
   "id": "cc0f5df8",
   "metadata": {},
   "outputs": [
    {
     "name": "stdout",
     "output_type": "stream",
     "text": [
      "[[ 1  2  3  4]\n",
      " [ 5  6  7  8]\n",
      " [ 9 10 11 12]]\n"
     ]
    }
   ],
   "source": [
    "##array slicing and Indexing\n",
    "arr = np.array([[1,2,3,4],[5,6,7,8],[9,10,11,12]])\n",
    "print(arr)"
   ]
  },
  {
   "cell_type": "code",
   "execution_count": 36,
   "id": "a395b78c",
   "metadata": {},
   "outputs": [
    {
     "name": "stdout",
     "output_type": "stream",
     "text": [
      "4\n"
     ]
    }
   ],
   "source": [
    "print(arr[0][-1])"
   ]
  },
  {
   "cell_type": "code",
   "execution_count": null,
   "id": "fce2950b",
   "metadata": {},
   "outputs": [
    {
     "name": "stdout",
     "output_type": "stream",
     "text": [
      "[[ 5  6  7  8]\n",
      " [ 9 10 11 12]]\n"
     ]
    }
   ],
   "source": [
    "print(arr[1:])"
   ]
  },
  {
   "cell_type": "code",
   "execution_count": null,
   "id": "077ed979",
   "metadata": {},
   "outputs": [
    {
     "data": {
      "text/plain": [
       "array([[ 7,  8],\n",
       "       [11, 12]])"
      ]
     },
     "execution_count": 41,
     "metadata": {},
     "output_type": "execute_result"
    }
   ],
   "source": [
    "## arr dizisindeki 7,8,11,12'yi al\n",
    "arr[1:,2:]"
   ]
  },
  {
   "cell_type": "code",
   "execution_count": null,
   "id": "55f058d3",
   "metadata": {},
   "outputs": [
    {
     "name": "stdout",
     "output_type": "stream",
     "text": [
      "[[ 1  2  3  4]\n",
      " [ 5  6  7  8]\n",
      " [ 9 10 11 12]]\n"
     ]
    },
    {
     "data": {
      "text/plain": [
       "array([[3, 4],\n",
       "       [7, 8]])"
      ]
     },
     "execution_count": 47,
     "metadata": {},
     "output_type": "execute_result"
    }
   ],
   "source": [
    "## 3,4,7,8 al\n",
    "\n",
    "print(arr)\n",
    "arr[0:2,2:]"
   ]
  },
  {
   "cell_type": "code",
   "execution_count": null,
   "id": "bcd7b0cc",
   "metadata": {},
   "outputs": [
    {
     "data": {
      "text/plain": [
       "array([[ 6,  7],\n",
       "       [10, 11]])"
      ]
     },
     "execution_count": 48,
     "metadata": {},
     "output_type": "execute_result"
    }
   ],
   "source": [
    "## 6,7,10,11'i al\n",
    "arr[1:,1:3]"
   ]
  },
  {
   "cell_type": "code",
   "execution_count": 49,
   "id": "a08efeea",
   "metadata": {},
   "outputs": [
    {
     "data": {
      "text/plain": [
       "array([[100,   2,   3,   4],\n",
       "       [  5,   6,   7,   8],\n",
       "       [  9,  10,  11,  12]])"
      ]
     },
     "execution_count": 49,
     "metadata": {},
     "output_type": "execute_result"
    }
   ],
   "source": [
    "## Modify Array elements\n",
    "arr[0,0] = 100\n",
    "arr"
   ]
  },
  {
   "cell_type": "code",
   "execution_count": 52,
   "id": "ebbced04",
   "metadata": {},
   "outputs": [
    {
     "data": {
      "text/plain": [
       "array([[100,   2,   3,   4],\n",
       "       [400, 400, 400, 400],\n",
       "       [400, 400, 400, 400]])"
      ]
     },
     "execution_count": 52,
     "metadata": {},
     "output_type": "execute_result"
    }
   ],
   "source": [
    "##array'in 1. satırından itibaren gelen satırlarından tüm sütunlarını 1 yap\n",
    "arr[1:] = 400\n",
    "arr"
   ]
  },
  {
   "cell_type": "code",
   "execution_count": null,
   "id": "1028e15d",
   "metadata": {},
   "outputs": [
    {
     "name": "stdout",
     "output_type": "stream",
     "text": [
      "Mean: 3.0\n",
      "Std: 1.4142135623730951\n",
      "Normalized data: [-1.41421356 -0.70710678  0.          0.70710678  1.41421356]\n"
     ]
    }
   ],
   "source": [
    "### statistical concepts--Normalization\n",
    "##to have a mean of 0 and standard deviation of 1\n",
    "data = np.array([1, 2, 3, 4, 5])\n",
    "\n",
    "# Calculate the mean and standard deviation\n",
    "mean = np.mean(data)\n",
    "print(\"Mean:\",mean)\n",
    "\n",
    "std_dev = np.std(data)\n",
    "print(\"Std:\",std_dev)\n",
    "\n",
    "# Normalize the data\n",
    "normalized_data = (data - mean) / std_dev\n",
    "print(\"Normalized data:\", normalized_data)\n"
   ]
  },
  {
   "cell_type": "code",
   "execution_count": null,
   "id": "e37a5cfc",
   "metadata": {},
   "outputs": [],
   "source": [
    "data = np.array([1, 2, 3, 4, 5, 6, 7, 8, 9, 10])\n",
    "\n",
    "# Mean\n",
    "mean = np.mean(data)\n",
    "print(\"Mean:\", mean)\n",
    "\n",
    "# Median\n",
    "median = np.median(data)\n",
    "print(\"Median:\", median)\n",
    "\n",
    "# Standard deviation\n",
    "std_dev = np.std(data)\n",
    "print(\"Standard Deviation:\", std_dev)\n",
    "\n",
    "# Variance\n",
    "variance = np.var(data)\n",
    "print(\"Variance:\", variance)\n",
    "\n"
   ]
  },
  {
   "cell_type": "code",
   "execution_count": 54,
   "id": "e05786ff",
   "metadata": {},
   "outputs": [
    {
     "data": {
      "text/plain": [
       "array([5, 6, 7, 8])"
      ]
     },
     "execution_count": 54,
     "metadata": {},
     "output_type": "execute_result"
    }
   ],
   "source": [
    "## Logical operation\n",
    "data=np.array([1,2,3,4,5,6,7,8,9,10])\n",
    "\n",
    "data[(data>=5) & (data<=8)]"
   ]
  },
  {
   "cell_type": "markdown",
   "id": "e90e8dd9",
   "metadata": {},
   "source": [
    "🔹 Normalization (genel anlamda)\n",
    "\n",
    "Verileri belirli bir ölçeğe getirme işlemidir.\n",
    "\n",
    "Amaç: farklı büyüklüklerdeki verileri karşılaştırılabilir hale getirmek.\n",
    "\n",
    "Örneğin, bir veri setinde yaş (0–100) ve maaş (0–100.000) varsa, maaş çok büyük olduğu için öğrenmede baskın çıkar. Normalization yapınca ikisini benzer ölçeğe getirirsin.\n",
    "\n",
    "    (veri - ort) / standart sapma"
   ]
  }
 ],
 "metadata": {
  "kernelspec": {
   "display_name": "Python 3",
   "language": "python",
   "name": "python3"
  },
  "language_info": {
   "codemirror_mode": {
    "name": "ipython",
    "version": 3
   },
   "file_extension": ".py",
   "mimetype": "text/x-python",
   "name": "python",
   "nbconvert_exporter": "python",
   "pygments_lexer": "ipython3",
   "version": "3.12.0"
  }
 },
 "nbformat": 4,
 "nbformat_minor": 5
}
