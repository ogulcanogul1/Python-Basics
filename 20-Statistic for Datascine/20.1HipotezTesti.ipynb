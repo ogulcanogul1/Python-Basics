{
 "cells": [
  {
   "cell_type": "markdown",
   "id": "3085893c",
   "metadata": {},
   "source": [
    "1- Hipotezlerin kurulması ve yönlerinin belirlenmesi \n",
    "\n",
    "2- Anlamlılık düzeyinin ve tablo değerinin belirlenmesi\n",
    "\n",
    "3- Test istatistiğinin belirlenmesi ve test istatistiğinin hesaplanması\n",
    "\n",
    "4- Hesaplanan test istatistiği ile alfa'ya karşılık gelen tablo değerinin karşılaştırılması\n",
    "\n",
    "Test İstatistiği (Zh) > Tablo Değeri (Zt) ise Ho Red\n",
    "\n",
    "5-Yorum \n",
    "\n",
    "---"
   ]
  },
  {
   "cell_type": "markdown",
   "id": "8740df37",
   "metadata": {},
   "source": [
    "### Tek Örneklem T Testi\n",
    "\n",
    "- Popülasyon ortalaması ile varsayımsal bir değer arasında istatiksel olarak anlamlı bir farklılık olup olmadığını test etmek için kullanılan parametrik bir testtir."
   ]
  },
  {
   "cell_type": "markdown",
   "id": "8d111e4a",
   "metadata": {},
   "source": [
    " ----\n",
    "\n",
    " Tek Örneklem T testi uygulanırken T veya Z dağılımı kullanılabilir.\n",
    "\n",
    " 1. Eğer Anakütle standart sapması biliniyorsa z istatistiği kullanılır.\n",
    "\n",
    " 2. Anakütle standart sapması bilinmiyorsa ve n > 30 ise z istatisiği kullanılır\n",
    "\n",
    " 3. Anakütle standart sapması bilinmiyor ve n < 30 ise t istatistiği kullanılır\n",
    "\n",
    " genelde t kullanılır.\n",
    "\n",
    " ---\n",
    "\n",
    " Tek örneklem T testi, popülasyon ortalaması hakkında bir hipotez testi yapmak için kullanılır.\n",
    "\n",
    "---\n",
    "\n",
    "Tek Örneklem Hipotez Testi: Popülasyon ortalaması hakkında tek bir örneklemle yapılan testin genel adıdır.\n",
    "\n",
    "Bu testin hangi dağılımla yapılacağı koşullara bağlıdır:\n",
    "\n",
    "Popülasyon standart sapması σ biliniyor ve örneklem büyük → Z dağılımı kullanılır (Z-Test)\n",
    "\n",
    "Popülasyon σ bilinmiyor veya örneklem küçük → T dağılımı kullanılır (T-Test)\n",
    "\n",
    "---\n",
    "\n",
    "---\n",
    "\n",
    "---"
   ]
  },
  {
   "cell_type": "markdown",
   "id": "eb6d5af0",
   "metadata": {},
   "source": [
    "- Problem : Sepete ürün ekleme işlemi sonrasında ödeme ekranında 5 adım vardır ve bu adımlardan birisi sorgulanmaktadır\n",
    "\n",
    " Detaylar:\n",
    " - Her adımın 20'şer sn olması hedefi var. 4.  adım sorgulanıyor.\n",
    " - Bu durumu test etmek için 100 örnek alınıyor.\n",
    " - Örnek standart sapması 5 saniyedir. Örnek ortalaması ise 19 saniyedir.\n",
    "\n",
    " Z Testi yapılmalı n=100 > 30"
   ]
  },
  {
   "cell_type": "markdown",
   "id": "ca581097",
   "metadata": {},
   "source": [
    "adım 1 : \n",
    "- H0 : u = 20\n",
    "- H1 : u != 20 \n",
    "\n",
    "---\n",
    "\n",
    "---\n",
    "\n",
    "---"
   ]
  },
  {
   "cell_type": "markdown",
   "id": "a045d413",
   "metadata": {},
   "source": [
    "Problem : Web sitemizde geçirilen ortalama süre gerçekten 167 saniye mi?\n",
    "\n",
    "Detaylar : \n",
    "\n",
    "- Yazılımlardan elde edilen web sitesinde geçirilen ort. süreler var.\n",
    "\n",
    "- Bu veriler incelendiğinde bir yönetici vya da çalışanımız bu değerlerin böyle olmadığına yönelik düşünceler taşıyor ve bunu test etmek istiyorlar"
   ]
  },
  {
   "cell_type": "code",
   "execution_count": 5,
   "id": "ac3c42a6",
   "metadata": {},
   "outputs": [
    {
     "data": {
      "text/plain": [
       "np.float64(175.33333333333334)"
      ]
     },
     "execution_count": 5,
     "metadata": {},
     "output_type": "execute_result"
    }
   ],
   "source": [
    "import pandas as pd\n",
    "import numpy as np\n",
    "array = pd.array([197,200,170,150,200,180,170,207,165,188,170,160,167,195,200,200,180,153,169,147,150,200,157,187,180,140,190,171,177,140])\n",
    "\n",
    "array.mean()"
   ]
  },
  {
   "cell_type": "code",
   "execution_count": 6,
   "id": "37d1adfa",
   "metadata": {},
   "outputs": [
    {
     "data": {
      "text/plain": [
       "<IntegerArray>\n",
       "[197, 200, 170, 150, 200, 180, 170, 207, 165, 188]\n",
       "Length: 10, dtype: Int64"
      ]
     },
     "execution_count": 6,
     "metadata": {},
     "output_type": "execute_result"
    }
   ],
   "source": [
    "array[0:10]"
   ]
  },
  {
   "cell_type": "code",
   "execution_count": 7,
   "id": "887e96f0",
   "metadata": {},
   "outputs": [],
   "source": [
    "import scipy.stats as stats"
   ]
  },
  {
   "cell_type": "code",
   "execution_count": 8,
   "id": "e4d08025",
   "metadata": {},
   "outputs": [
    {
     "data": {
      "text/plain": [
       "DescribeResult(nobs=np.int64(30), minmax=(np.int64(140), np.int64(207)), mean=np.float64(175.33333333333334), variance=np.float64(394.98850574712645), skewness=np.float64(-0.15728991843831697), kurtosis=np.float64(-1.0927560928871742))"
      ]
     },
     "execution_count": 8,
     "metadata": {},
     "output_type": "execute_result"
    }
   ],
   "source": [
    "stats.describe(array)"
   ]
  },
  {
   "cell_type": "code",
   "execution_count": 9,
   "id": "41b2367f",
   "metadata": {},
   "outputs": [],
   "source": [
    "# varsayımlar\n",
    "# normallik varsayımı"
   ]
  },
  {
   "cell_type": "code",
   "execution_count": 10,
   "id": "026b60f8",
   "metadata": {},
   "outputs": [
    {
     "data": {
      "text/plain": [
       "<Axes: ylabel='Frequency'>"
      ]
     },
     "execution_count": 10,
     "metadata": {},
     "output_type": "execute_result"
    },
    {
     "data": {
      "image/png": "[encoded data removed]",
      "text/plain": [
       "<Figure size 640x480 with 1 Axes>"
      ]
     },
     "metadata": {},
     "output_type": "display_data"
    }
   ],
   "source": [
    "# bu grafik yöntemi ile ama test ile yapmak isteriz.\n",
    "pd.DataFrame(array).plot.hist()"
   ]
  },
  {
   "cell_type": "code",
   "execution_count": 11,
   "id": "aad56f48",
   "metadata": {},
   "outputs": [
    {
     "data": {
      "text/plain": [
       "ShapiroResult(statistic=np.float64(0.9464246459789821), pvalue=np.float64(0.13551477465667455))"
      ]
     },
     "execution_count": 11,
     "metadata": {},
     "output_type": "execute_result"
    }
   ],
   "source": [
    "# Shapiro-Wilks Testi (bu test grafikden daha iyi yöntem) Varsayım Sağlanıyor mu testi ? \n",
    "## bu test için Hipotezler\n",
    "## H₀ (Null Hipotez):Veri normal dağılıma uygundur.\n",
    "## H₁ (Alternatif Hipotez):Veri normal dağılıma uygun değildir.\n",
    "from scipy.stats import shapiro\n",
    "shapiro(array)\n",
    "## sol taraftaki test istatistiği sağ taraftaki pvalue\n",
    "## p value 0.05 den büyük geldi H0 hipotezi reddedilemez.\n",
    "## Öyleyse biztek örneklem t testini uygulayabiliriz.(eğer p value 0.05'den küçük olsaydı uygulanmayacaktı)"
   ]
  },
  {
   "cell_type": "code",
   "execution_count": 12,
   "id": "71c49013",
   "metadata": {},
   "outputs": [
    {
     "name": "stdout",
     "output_type": "stream",
     "text": [
      "T hesap istatistiği : 0.9464246459789821\n",
      "Hesaplanan P-value : 0.13551477465667455\n"
     ]
    }
   ],
   "source": [
    "print(\"T hesap istatistiği : \" + str(shapiro(array)[0]))\n",
    "print(\"Hesaplanan P-value : \" +str(shapiro(array)[1]))"
   ]
  },
  {
   "cell_type": "code",
   "execution_count": 13,
   "id": "b8425144",
   "metadata": {},
   "outputs": [
    {
     "data": {
      "text/plain": [
       "TtestResult(statistic=np.float64(2.296609476065677), pvalue=np.float64(0.02905520568403687), df=np.int64(29))"
      ]
     },
     "execution_count": 13,
     "metadata": {},
     "output_type": "execute_result"
    }
   ],
   "source": [
    "## Varsayım Sağlandı shapiro testi ile Hipotez testini uygulayalım\n",
    "stats.ttest_1samp(array,popmean=167)\n",
    "## H:0 Web sitesinde geçirilen süre 167 sn dir\n",
    "## H:1 Web sitesinde geçirilen süre 167 sn değildir\n",
    "## p value 0.05 < ten lüçük bu sebeple H:0 reddedilir\n",
    "## scipy.stats.ttest_1samp → T dağılımı kullanır.\n"
   ]
  },
  {
   "cell_type": "markdown",
   "id": "aceb2c14",
   "metadata": {},
   "source": [
    "Gerçek popülasyon standart sapmasını ($\\sigma$) bilmiyoruz, onun yerine örneklem standart sapmasını ($s$) kullanıyoruz.\n",
    "\n",
    "Peki Z testi ne zaman olurdu?\n",
    "\n",
    "Eğer popülasyonun standart sapmasını gerçekten bilseydik (örneğin teorik olarak verilmiş olsaydı, ya da çok büyük örneklemimiz olsaydı), aynı formülün $z$ versiyonunu kullanırdık\n",
    "\n",
    "from statsmodels.stats.weightstats import ztest"
   ]
  },
  {
   "cell_type": "markdown",
   "id": "ddf469dc",
   "metadata": {},
   "source": [
    "---\n",
    "\n",
    "---\n",
    "\n",
    "---\n"
   ]
  },
  {
   "cell_type": "markdown",
   "id": "81f50de0",
   "metadata": {},
   "source": [
    "#### Nonparametrik Tek Örneklem Testi"
   ]
  },
  {
   "cell_type": "code",
   "execution_count": 14,
   "id": "99f97a78",
   "metadata": {},
   "outputs": [
    {
     "data": {
      "text/plain": [
       "np.float64(170.0)"
      ]
     },
     "execution_count": 14,
     "metadata": {},
     "output_type": "execute_result"
    }
   ],
   "source": [
    "array = pd.array([157,200,170,130,240,160,170,247,135,348,120,120,147,125,100,200,190,153,139,127,150,240,137,187,180,140,240,151,157,140])\n",
    "array.mean()"
   ]
  },
  {
   "cell_type": "code",
   "execution_count": 15,
   "id": "e6b7fd40",
   "metadata": {},
   "outputs": [
    {
     "data": {
      "text/plain": [
       "ShapiroResult(statistic=np.float64(0.8567795711251615), pvalue=np.float64(0.0008625892192156611))"
      ]
     },
     "execution_count": 15,
     "metadata": {},
     "output_type": "execute_result"
    }
   ],
   "source": [
    "shapiro(array)\n",
    "## Varsayım sağlanmadı pvalue < 0.05"
   ]
  },
  {
   "cell_type": "code",
   "execution_count": 16,
   "id": "be486a94",
   "metadata": {},
   "outputs": [
    {
     "data": {
      "text/plain": [
       "WilcoxonResult(statistic=np.float64(208.5), pvalue=np.float64(0.6214681139580821))"
      ]
     },
     "execution_count": 16,
     "metadata": {},
     "output_type": "execute_result"
    }
   ],
   "source": [
    "stats.wilcoxon(array - 167)\n",
    "## H₀ (Null): Verinin medyanı = 167\n",
    "\n",
    "## H₁ (Alternatif): Verinin medyanı ≠ 167"
   ]
  },
  {
   "cell_type": "markdown",
   "id": "0889c2f1",
   "metadata": {},
   "source": [
    "Eğer veri normal dağılsaydı → tek örneklem t-testi ile ortalama 167 mi? diye bakardık.\n",
    "\n",
    "Veri normal dağılmadığı için → Wilcoxon testi ile medyan 167 mi? diye bakıyoruz.\n",
    "\n",
    "---\n",
    "\n",
    "Normal dağılan verilerde → ortalama güvenilir bir ölçüdür → t-testleri ile ortalama üzerinden hipotez testi yapılır.\n",
    "\n",
    "Normal dağılmayan verilerde → ortalama uç değerlerden çok etkilenir → güvenilir değil → o yüzden medyan üzerinden test yapılır (Wilcoxon, Mann-Whitney, vb. nonparametrik testler).\n",
    "\n",
    "yani shapiro testinde geçerse ortalama geçmezse medyan"
   ]
  },
  {
   "cell_type": "markdown",
   "id": "2a97845b",
   "metadata": {},
   "source": [
    "---\n",
    "\n",
    "---\n",
    "\n",
    "---"
   ]
  },
  {
   "cell_type": "markdown",
   "id": "e940e84b",
   "metadata": {},
   "source": [
    "#### Tek Örneklem Oran Testi"
   ]
  },
  {
   "cell_type": "markdown",
   "id": "4c8ad8af",
   "metadata": {},
   "source": [
    "Problem : Bir yazılım ile bir mecrada reklam verilmiş ve bu reklama ilişkin yazılım tarafından 0.125 dönüşüm oranı elde edildiği ifade edilmiş. Fakat bu durum kontrol edilmek isteniyor. Çünkü bu yüksek bir oran ve gelirler incelendiğinde örtüşmüyor\n",
    "\n",
    "Detaylar : \n",
    "\n",
    "- 500 kişi dış mecrada reklamlara tıklamış 40 tanesi sitemize gelip alışveriş yapmış.\n",
    "\n",
    "- Örnek üzerinden elde edilen dönüşüm oranı : 40/500 = 0,08"
   ]
  },
  {
   "cell_type": "markdown",
   "id": "2c847fab",
   "metadata": {},
   "source": [
    "H0 : p = 0.125\n",
    "H1 : p != 0.125"
   ]
  },
  {
   "cell_type": "code",
   "execution_count": 17,
   "id": "cc89ce28",
   "metadata": {},
   "outputs": [
    {
     "data": {
      "text/plain": [
       "(np.float64(-3.7090151628513017), np.float64(0.0002080669689845979))"
      ]
     },
     "execution_count": 17,
     "metadata": {},
     "output_type": "execute_result"
    }
   ],
   "source": [
    "from statsmodels.stats.proportion import proportions_ztest\n",
    "\n",
    "count = 40\n",
    "nobs = 500\n",
    "value = 0.125\n",
    "proportions_ztest(count=count,nobs=nobs,value=value)\n"
   ]
  },
  {
   "cell_type": "markdown",
   "id": "2b305290",
   "metadata": {},
   "source": [
    "---\n",
    "\n",
    "---\n",
    "\n",
    "---"
   ]
  },
  {
   "cell_type": "markdown",
   "id": "1d579d3b",
   "metadata": {},
   "source": [
    "#### Bağımsız İki Örneklem T Testi"
   ]
  },
  {
   "cell_type": "markdown",
   "id": "661254aa",
   "metadata": {},
   "source": [
    "İki grup ortalaması arasında karşılaştırma yapılmak istenildiğinde kullanılır.\n",
    "\n",
    "\n",
    "- Normallik Varsayımı (yaklaşık olarakda kabul edilir) \n",
    "- Varyans Homojenliği\n",
    "\n",
    "kontrol edilmelidir."
   ]
  },
  {
   "cell_type": "markdown",
   "id": "d9a7e808",
   "metadata": {},
   "source": [
    "Problem : Bir ML projesine yatırım yapılmış. Ürettiği tahminler neticesinde oluşan gelir ile eski sitemin ürettiği gelirler karşılaştırılığp anlamlı farklılık olup olmadığı test edilmek isteniyor.\n",
    "\n",
    "Detaylar : \n",
    "- Model geliştirilmiş ve web sitesine entegre edilmiş\n",
    "\n",
    "- Site kullanıcıları belirli bir kurala göre ikiye bölünmüş olsun\n",
    "\n",
    "- Agrubu eski B grubu yeni sistem\n",
    "\n",
    "- Gelir anlamında anlamlı bir iş yapılıp yapılmadığı test edilmek isteniyor"
   ]
  },
  {
   "cell_type": "markdown",
   "id": "64a4b490",
   "metadata": {},
   "source": [
    "- H0 : u1 = u2\n",
    "- H1 : u1 != u2  \n",
    "- ML modeli anlamlı farklılık oluşturabildi mi ?"
   ]
  },
  {
   "cell_type": "code",
   "execution_count": 18,
   "id": "c1eab7b4",
   "metadata": {},
   "outputs": [
    {
     "data": {
      "text/html": [
       "<div>\n",
       "<style scoped>\n",
       "    .dataframe tbody tr th:only-of-type {\n",
       "        vertical-align: middle;\n",
       "    }\n",
       "\n",
       "    .dataframe tbody tr th {\n",
       "        vertical-align: top;\n",
       "    }\n",
       "\n",
       "    .dataframe thead th {\n",
       "        text-align: right;\n",
       "    }\n",
       "</style>\n",
       "<table border=\"1\" class=\"dataframe\">\n",
       "  <thead>\n",
       "    <tr style=\"text-align: right;\">\n",
       "      <th></th>\n",
       "      <th>A</th>\n",
       "      <th>B</th>\n",
       "    </tr>\n",
       "  </thead>\n",
       "  <tbody>\n",
       "    <tr>\n",
       "      <th>0</th>\n",
       "      <td>29</td>\n",
       "      <td>37</td>\n",
       "    </tr>\n",
       "    <tr>\n",
       "      <th>1</th>\n",
       "      <td>30</td>\n",
       "      <td>34</td>\n",
       "    </tr>\n",
       "    <tr>\n",
       "      <th>2</th>\n",
       "      <td>32</td>\n",
       "      <td>40</td>\n",
       "    </tr>\n",
       "    <tr>\n",
       "      <th>3</th>\n",
       "      <td>40</td>\n",
       "      <td>29</td>\n",
       "    </tr>\n",
       "    <tr>\n",
       "      <th>4</th>\n",
       "      <td>27</td>\n",
       "      <td>32</td>\n",
       "    </tr>\n",
       "  </tbody>\n",
       "</table>\n",
       "</div>"
      ],
      "text/plain": [
       "    A   B\n",
       "0  29  37\n",
       "1  30  34\n",
       "2  32  40\n",
       "3  40  29\n",
       "4  27  32"
      ]
     },
     "execution_count": 18,
     "metadata": {},
     "output_type": "execute_result"
    }
   ],
   "source": [
    "A = pd.DataFrame([29,30,32,40,27,32,31,25,24,40,35,33,25,27,37])\n",
    "B = pd.DataFrame([37,34,40,29,32,38,43,40,37,29,34,29,33,38,40])\n",
    "\n",
    "df =  pd.concat([A,B],axis=1)\n",
    "df.columns = ['A','B']\n",
    "\n",
    "df.head()"
   ]
  },
  {
   "cell_type": "code",
   "execution_count": 19,
   "id": "90c1a5af",
   "metadata": {},
   "outputs": [
    {
     "data": {
      "text/plain": [
       "ShapiroResult(statistic=np.float64(0.9414915741892851), pvalue=np.float64(0.40149718240291676))"
      ]
     },
     "execution_count": 19,
     "metadata": {},
     "output_type": "execute_result"
    }
   ],
   "source": [
    "shapiro(df.A)"
   ]
  },
  {
   "cell_type": "code",
   "execution_count": 20,
   "id": "ec3290b7",
   "metadata": {},
   "outputs": [
    {
     "data": {
      "text/plain": [
       "ShapiroResult(statistic=np.float64(0.9308661563968024), pvalue=np.float64(0.28112223699453454))"
      ]
     },
     "execution_count": 20,
     "metadata": {},
     "output_type": "execute_result"
    }
   ],
   "source": [
    "shapiro(df.B)"
   ]
  },
  {
   "cell_type": "code",
   "execution_count": 21,
   "id": "7a279b11",
   "metadata": {},
   "outputs": [
    {
     "data": {
      "text/plain": [
       "LeveneResult(statistic=np.float64(0.14693877551020432), pvalue=np.float64(0.7043731658543584))"
      ]
     },
     "execution_count": 21,
     "metadata": {},
     "output_type": "execute_result"
    }
   ],
   "source": [
    "# varyans homojenliği varsayımı\n",
    "# H0 : Varyanslar homojendir.\n",
    "# H1 : Varyanslar homojen değildir.\n",
    "\n",
    "stats.levene(df.A,df.B)\n",
    "\n",
    "# p_Value > 0.05 H0 reddedilmez."
   ]
  },
  {
   "cell_type": "code",
   "execution_count": 22,
   "id": "bb3ef5bc",
   "metadata": {},
   "outputs": [
    {
     "data": {
      "text/plain": [
       "TtestResult(statistic=np.float64(-2.4791816116240115), pvalue=np.float64(0.019457304038556788), df=np.float64(28.0))"
      ]
     },
     "execution_count": 22,
     "metadata": {},
     "output_type": "execute_result"
    }
   ],
   "source": [
    "# Bağımsız iki Örneklem T Testi Hipotez Testi\n",
    "\n",
    "stats.ttest_ind(df['A'],df['B'],equal_var=True)\n",
    "# equal_var=True => varyans homojenliği testini yaptık ve geçtiği için True verilir. orada p value 0.05'den küçük olsaydı false girilirdi.\n",
    "\n",
    "\n",
    "#- H0 : u1 = u2\n",
    "#- H1 : u1 != u2  \n",
    "\n",
    "# en baştaki H0 hipotezi reddedilir ve bu nedenle fark vardır diyebiliriz.\n",
    "\n"
   ]
  },
  {
   "cell_type": "markdown",
   "id": "efe2acea",
   "metadata": {},
   "source": [
    "---\n",
    "\n",
    "---\n",
    "\n",
    "---"
   ]
  },
  {
   "cell_type": "markdown",
   "id": "2b3cb73c",
   "metadata": {},
   "source": [
    "#### Non Parametrik Bağımsız İki Örneklem T Testi"
   ]
  },
  {
   "cell_type": "code",
   "execution_count": 23,
   "id": "cc7b8191",
   "metadata": {},
   "outputs": [
    {
     "data": {
      "text/html": [
       "<div>\n",
       "<style scoped>\n",
       "    .dataframe tbody tr th:only-of-type {\n",
       "        vertical-align: middle;\n",
       "    }\n",
       "\n",
       "    .dataframe tbody tr th {\n",
       "        vertical-align: top;\n",
       "    }\n",
       "\n",
       "    .dataframe thead th {\n",
       "        text-align: right;\n",
       "    }\n",
       "</style>\n",
       "<table border=\"1\" class=\"dataframe\">\n",
       "  <thead>\n",
       "    <tr style=\"text-align: right;\">\n",
       "      <th></th>\n",
       "      <th>A</th>\n",
       "      <th>B</th>\n",
       "    </tr>\n",
       "  </thead>\n",
       "  <tbody>\n",
       "    <tr>\n",
       "      <th>0</th>\n",
       "      <td>9</td>\n",
       "      <td>44</td>\n",
       "    </tr>\n",
       "    <tr>\n",
       "      <th>1</th>\n",
       "      <td>40</td>\n",
       "      <td>30</td>\n",
       "    </tr>\n",
       "    <tr>\n",
       "      <th>2</th>\n",
       "      <td>19</td>\n",
       "      <td>50</td>\n",
       "    </tr>\n",
       "    <tr>\n",
       "      <th>3</th>\n",
       "      <td>70</td>\n",
       "      <td>39</td>\n",
       "    </tr>\n",
       "    <tr>\n",
       "      <th>4</th>\n",
       "      <td>90</td>\n",
       "      <td>42</td>\n",
       "    </tr>\n",
       "  </tbody>\n",
       "</table>\n",
       "</div>"
      ],
      "text/plain": [
       "    A   B\n",
       "0   9  44\n",
       "1  40  30\n",
       "2  19  50\n",
       "3  70  39\n",
       "4  90  42"
      ]
     },
     "execution_count": 23,
     "metadata": {},
     "output_type": "execute_result"
    }
   ],
   "source": [
    "A = pd.DataFrame([9,40,19,70,90,17,2,50,24,20,45,23,15,47,67])\n",
    "B = pd.DataFrame([44,30,50,39,42,48,53,20,17,19,24,19,23,58,50])\n",
    "\n",
    "df = pd.concat([A,B], axis=1)\n",
    "df.columns = ['A','B']\n",
    "df.head()"
   ]
  },
  {
   "cell_type": "code",
   "execution_count": 24,
   "id": "b40eab47",
   "metadata": {},
   "outputs": [
    {
     "data": {
      "text/plain": [
       "ShapiroResult(statistic=np.float64(0.9287859878025347), pvalue=np.float64(0.2616905379472486))"
      ]
     },
     "execution_count": 24,
     "metadata": {},
     "output_type": "execute_result"
    }
   ],
   "source": [
    "shapiro(df.A)"
   ]
  },
  {
   "cell_type": "code",
   "execution_count": 25,
   "id": "b72a03da",
   "metadata": {},
   "outputs": [
    {
     "data": {
      "text/plain": [
       "ShapiroResult(statistic=np.float64(0.8919751688156214), pvalue=np.float64(0.07184024031672802))"
      ]
     },
     "execution_count": 25,
     "metadata": {},
     "output_type": "execute_result"
    }
   ],
   "source": [
    "shapiro(df.B)"
   ]
  },
  {
   "cell_type": "code",
   "execution_count": 26,
   "id": "31cfb14d",
   "metadata": {},
   "outputs": [
    {
     "data": {
      "text/plain": [
       "LeveneResult(statistic=np.float64(2.060614024608767), pvalue=np.float64(0.16222703855706685))"
      ]
     },
     "execution_count": 26,
     "metadata": {},
     "output_type": "execute_result"
    }
   ],
   "source": [
    "stats.levene(df.A,df.B)"
   ]
  },
  {
   "cell_type": "code",
   "execution_count": 27,
   "id": "ffd2932c",
   "metadata": {},
   "outputs": [
    {
     "data": {
      "text/plain": [
       "MannwhitneyuResult(statistic=np.float64(101.0), pvalue=np.float64(0.6477652145630016))"
      ]
     },
     "execution_count": 27,
     "metadata": {},
     "output_type": "execute_result"
    }
   ],
   "source": [
    "## burada yukarıdaki 3 testide geçemediğini varsayalım\n",
    "\n",
    "stats.mannwhitneyu(df.A,df.B) ## artık en baştaki hipotez buradan gelecek sonuca göre yorumlanır"
   ]
  },
  {
   "cell_type": "markdown",
   "id": "0cfba31a",
   "metadata": {},
   "source": [
    "---\n",
    "\n",
    "---\n",
    "\n",
    "---"
   ]
  },
  {
   "cell_type": "markdown",
   "id": "c37be042",
   "metadata": {},
   "source": [
    "#### Bağımlı İki Örneklem T Testi"
   ]
  },
  {
   "cell_type": "markdown",
   "id": "6662d492",
   "metadata": {},
   "source": [
    "Bağımlı iki örneklem arasında karşılaştırma yapılmak istenildiğinde kullanılır\n",
    "\n",
    "- Normallik Varsayımı (yaklaşık olarakda kabul edilir) \n",
    "- Varyans Homojenliği\n",
    "\n",
    "kontrol edilmelidir."
   ]
  },
  {
   "cell_type": "markdown",
   "id": "8e0d4b7d",
   "metadata": {},
   "source": [
    "Problem : Belirli Uğraşlar sonucunda alınan bir eğitimin katma değer sağlayıp sağlamadığı ölçülmek isteniyor\n",
    "\n",
    "Detaylar : \n",
    "- Bir departman bir konuda eğitim talep ediyor.\n",
    "- Gerekli gereksiz değerlendirmeleri neticesinde eğitim alınıyor.\n",
    "- Eğitimden önce ve sonra olacak şekilde gerekli ölçümler yapılıyor.\n",
    "- Eğitim sonrasında eğitimin sağladığı katma değer test edilmek isteniyor.\n",
    "\n",
    "- H0 : uö = us\n",
    "- H1 : uö != us"
   ]
  },
  {
   "cell_type": "code",
   "execution_count": 28,
   "id": "3434c03c",
   "metadata": {},
   "outputs": [],
   "source": [
    "before = np.array([110,132,124,107,130,150,120,100,125,137,150])\n",
    "after =  np.array([127,145,133,130,128,147,160,120,125,132,150])"
   ]
  },
  {
   "cell_type": "code",
   "execution_count": 29,
   "id": "2bfa65b4",
   "metadata": {},
   "outputs": [
    {
     "data": {
      "text/html": [
       "<div>\n",
       "<style scoped>\n",
       "    .dataframe tbody tr th:only-of-type {\n",
       "        vertical-align: middle;\n",
       "    }\n",
       "\n",
       "    .dataframe tbody tr th {\n",
       "        vertical-align: top;\n",
       "    }\n",
       "\n",
       "    .dataframe thead th {\n",
       "        text-align: right;\n",
       "    }\n",
       "</style>\n",
       "<table border=\"1\" class=\"dataframe\">\n",
       "  <thead>\n",
       "    <tr style=\"text-align: right;\">\n",
       "      <th></th>\n",
       "      <th>BEFORE</th>\n",
       "      <th>AFTER</th>\n",
       "    </tr>\n",
       "  </thead>\n",
       "  <tbody>\n",
       "    <tr>\n",
       "      <th>0</th>\n",
       "      <td>110</td>\n",
       "      <td>127</td>\n",
       "    </tr>\n",
       "    <tr>\n",
       "      <th>1</th>\n",
       "      <td>132</td>\n",
       "      <td>145</td>\n",
       "    </tr>\n",
       "    <tr>\n",
       "      <th>2</th>\n",
       "      <td>124</td>\n",
       "      <td>133</td>\n",
       "    </tr>\n",
       "    <tr>\n",
       "      <th>3</th>\n",
       "      <td>107</td>\n",
       "      <td>130</td>\n",
       "    </tr>\n",
       "    <tr>\n",
       "      <th>4</th>\n",
       "      <td>130</td>\n",
       "      <td>128</td>\n",
       "    </tr>\n",
       "  </tbody>\n",
       "</table>\n",
       "</div>"
      ],
      "text/plain": [
       "   BEFORE  AFTER\n",
       "0     110    127\n",
       "1     132    145\n",
       "2     124    133\n",
       "3     107    130\n",
       "4     130    128"
      ]
     },
     "execution_count": 29,
     "metadata": {},
     "output_type": "execute_result"
    },
    {
     "data": {
      "image/png": "[encoded data removed]",
      "text/plain": [
       "<Figure size 640x480 with 1 Axes>"
      ]
     },
     "metadata": {},
     "output_type": "display_data"
    }
   ],
   "source": [
    "import seaborn as sns\n",
    "\n",
    "\n",
    "total = pd.DataFrame({\n",
    "    \"BEFORE\":before,\n",
    "    \"AFTER\":after\n",
    "})\n",
    "\n",
    "sns.boxplot(data=total)\n",
    "\n",
    "total.head()\n",
    "\n",
    "##grafikte eğitimnin işe yaradığı gözüküyor ama istatiki olarak mı yoksa şansa mı geldi bilmiyoruz bunun için test yapmamız gerek "
   ]
  },
  {
   "cell_type": "code",
   "execution_count": 30,
   "id": "345f6907",
   "metadata": {},
   "outputs": [
    {
     "data": {
      "text/plain": [
       "ShapiroResult(statistic=np.float64(0.9589852330824856), pvalue=np.float64(0.7589672626963277))"
      ]
     },
     "execution_count": 30,
     "metadata": {},
     "output_type": "execute_result"
    }
   ],
   "source": [
    "shapiro(before) # before için normallik varsayımı geçti p_value> 0.05"
   ]
  },
  {
   "cell_type": "code",
   "execution_count": 31,
   "id": "ee2372c2",
   "metadata": {},
   "outputs": [
    {
     "data": {
      "text/plain": [
       "ShapiroResult(statistic=np.float64(0.9203622575936097), pvalue=np.float64(0.32166879352451305))"
      ]
     },
     "execution_count": 31,
     "metadata": {},
     "output_type": "execute_result"
    }
   ],
   "source": [
    "shapiro(after) # after için normallik varsayımı geçti p_value> 0.05"
   ]
  },
  {
   "cell_type": "code",
   "execution_count": 32,
   "id": "8929bcc3",
   "metadata": {},
   "outputs": [
    {
     "data": {
      "text/plain": [
       "LeveneResult(statistic=np.float64(0.5908844275637547), pvalue=np.float64(0.45105971538178935))"
      ]
     },
     "execution_count": 32,
     "metadata": {},
     "output_type": "execute_result"
    }
   ],
   "source": [
    "stats.levene(before,after) # before ve after varyans homojenliği testini geçti p_value> 0.05"
   ]
  },
  {
   "cell_type": "code",
   "execution_count": 33,
   "id": "e82a52c3",
   "metadata": {},
   "outputs": [
    {
     "data": {
      "text/plain": [
       "TtestResult(statistic=np.float64(-2.4086299993516453), pvalue=np.float64(0.03676936543832078), df=np.int64(10))"
      ]
     },
     "execution_count": 33,
     "metadata": {},
     "output_type": "execute_result"
    }
   ],
   "source": [
    "## Bağımlı İki Örneklem T Testi Uygulaması\n",
    "\n",
    "stats.ttest_rel(total.BEFORE,total.AFTER)\n",
    "\n",
    "# p value > 0.05\n",
    "\n",
    "# - H0 : uö = us\n",
    "# - H1 : uö != us\n",
    "\n",
    "# H0 reddedilir yani uö!=us"
   ]
  },
  {
   "cell_type": "markdown",
   "id": "201824fc",
   "metadata": {},
   "source": [
    "---\n",
    "\n",
    "---\n",
    "\n",
    "---"
   ]
  },
  {
   "cell_type": "markdown",
   "id": "ec67b6bb",
   "metadata": {},
   "source": [
    "#### Nonparametrik Bağımlı İki Örneklem Testi \n",
    "\n",
    "sadece normallik varsayımına mı bakmam gerekiyor eğer baktığımda 0.05'den küçükse nonparametrik ile sonuç bulunur."
   ]
  },
  {
   "cell_type": "code",
   "execution_count": 34,
   "id": "a8090bf8",
   "metadata": {},
   "outputs": [
    {
     "data": {
      "text/plain": [
       "WilcoxonResult(statistic=np.float64(6.0), pvalue=np.float64(0.0546875))"
      ]
     },
     "execution_count": 34,
     "metadata": {},
     "output_type": "execute_result"
    }
   ],
   "source": [
    "before = np.array([110,132,124,107,130,150,120,100,125,137,150])\n",
    "after =  np.array([127,145,133,130,128,147,160,120,125,132,150])\n",
    "\n",
    "\n",
    "\n",
    "total = pd.DataFrame({\n",
    "    \"BEFORE\":before,\n",
    "    \"AFTER\":after\n",
    "})\n",
    "\n",
    "stats.wilcoxon(total.BEFORE,total.AFTER)"
   ]
  },
  {
   "cell_type": "markdown",
   "id": "30111694",
   "metadata": {},
   "source": [
    "---\n",
    "\n",
    "---\n",
    "\n",
    "---\n"
   ]
  },
  {
   "cell_type": "markdown",
   "id": "f0475ab1",
   "metadata": {},
   "source": [
    "#### İki Örneklem Oran Testi "
   ]
  },
  {
   "cell_type": "markdown",
   "id": "aeb1a742",
   "metadata": {},
   "source": [
    "n > 30 büyük olacak (her iki dizi içinde)"
   ]
  },
  {
   "cell_type": "code",
   "execution_count": 35,
   "id": "9105a986",
   "metadata": {},
   "outputs": [
    {
     "data": {
      "text/plain": [
       "(np.float64(3.7857863233209255), np.float64(0.0001532232957772221))"
      ]
     },
     "execution_count": 35,
     "metadata": {},
     "output_type": "execute_result"
    }
   ],
   "source": [
    "number_of_success = np.array([300,250])\n",
    "all_case = np.array([1000,1100])\n",
    "proportions_ztest(count= number_of_success , nobs= all_case)\n",
    "# H0 : u1 = u2\n",
    "# H1 : u1 != u2    "
   ]
  },
  {
   "cell_type": "markdown",
   "id": "1b8798cf",
   "metadata": {},
   "source": [
    "---\n",
    "\n",
    "---\n",
    "\n",
    "---\n"
   ]
  },
  {
   "cell_type": "markdown",
   "id": "3d9b721f",
   "metadata": {},
   "source": [
    "#### Varyans Analizi"
   ]
  },
  {
   "cell_type": "markdown",
   "id": "01828634",
   "metadata": {},
   "source": [
    "- H0 : u1 = u2 = u3\n",
    "- H1 : Eşit Değillerdir (en az birisi farklıdır)"
   ]
  },
  {
   "cell_type": "markdown",
   "id": "3e50cb4b",
   "metadata": {},
   "source": [
    "Problem : Anasayfada geçirilen süre arttırılmak isteniyor \n",
    "\n",
    "Detaylar :\n",
    "\n",
    "- Bir web sitesi için başarı kriterleri : ortalama ziyaret süresi , hemen çıkış oranı vb\n",
    "\n",
    "- Uzun zaman geçiren kullanıcıların reklamlara daha fazla tıkladığı ve markaya olan bağlılıklarının arttığı biliniyor.\n",
    "\n",
    "- Buna yönelik olarak benzer haberler farklı resimler ya da farklı formatlarda hazırlanarak oluşturulan test gruplarına gösteriliyor.\n",
    "\n",
    "- A : Doğal Şekilde , B : Yönlendirici , C : İlgi Çekici "
   ]
  },
  {
   "cell_type": "code",
   "execution_count": 182,
   "id": "8a3291fb",
   "metadata": {},
   "outputs": [
    {
     "data": {
      "text/html": [
       "<div>\n",
       "<style scoped>\n",
       "    .dataframe tbody tr th:only-of-type {\n",
       "        vertical-align: middle;\n",
       "    }\n",
       "\n",
       "    .dataframe tbody tr th {\n",
       "        vertical-align: top;\n",
       "    }\n",
       "\n",
       "    .dataframe thead th {\n",
       "        text-align: right;\n",
       "    }\n",
       "</style>\n",
       "<table border=\"1\" class=\"dataframe\">\n",
       "  <thead>\n",
       "    <tr style=\"text-align: right;\">\n",
       "      <th></th>\n",
       "      <th>GROUP_A</th>\n",
       "      <th>GROUP_B</th>\n",
       "      <th>GROUP_C</th>\n",
       "    </tr>\n",
       "  </thead>\n",
       "  <tbody>\n",
       "    <tr>\n",
       "      <th>0</th>\n",
       "      <td>28</td>\n",
       "      <td>28</td>\n",
       "      <td>43</td>\n",
       "    </tr>\n",
       "    <tr>\n",
       "      <th>1</th>\n",
       "      <td>30</td>\n",
       "      <td>25</td>\n",
       "      <td>29</td>\n",
       "    </tr>\n",
       "    <tr>\n",
       "      <th>2</th>\n",
       "      <td>32</td>\n",
       "      <td>32</td>\n",
       "      <td>39</td>\n",
       "    </tr>\n",
       "    <tr>\n",
       "      <th>3</th>\n",
       "      <td>40</td>\n",
       "      <td>40</td>\n",
       "      <td>40</td>\n",
       "    </tr>\n",
       "    <tr>\n",
       "      <th>4</th>\n",
       "      <td>18</td>\n",
       "      <td>38</td>\n",
       "      <td>48</td>\n",
       "    </tr>\n",
       "    <tr>\n",
       "      <th>5</th>\n",
       "      <td>25</td>\n",
       "      <td>29</td>\n",
       "      <td>44</td>\n",
       "    </tr>\n",
       "    <tr>\n",
       "      <th>6</th>\n",
       "      <td>30</td>\n",
       "      <td>30</td>\n",
       "      <td>42</td>\n",
       "    </tr>\n",
       "    <tr>\n",
       "      <th>7</th>\n",
       "      <td>27</td>\n",
       "      <td>37</td>\n",
       "      <td>47</td>\n",
       "    </tr>\n",
       "    <tr>\n",
       "      <th>8</th>\n",
       "      <td>45</td>\n",
       "      <td>55</td>\n",
       "      <td>55</td>\n",
       "    </tr>\n",
       "    <tr>\n",
       "      <th>9</th>\n",
       "      <td>50</td>\n",
       "      <td>50</td>\n",
       "      <td>70</td>\n",
       "    </tr>\n",
       "  </tbody>\n",
       "</table>\n",
       "</div>"
      ],
      "text/plain": [
       "   GROUP_A  GROUP_B  GROUP_C\n",
       "0       28       28       43\n",
       "1       30       25       29\n",
       "2       32       32       39\n",
       "3       40       40       40\n",
       "4       18       38       48\n",
       "5       25       29       44\n",
       "6       30       30       42\n",
       "7       27       37       47\n",
       "8       45       55       55\n",
       "9       50       50       70"
      ]
     },
     "execution_count": 182,
     "metadata": {},
     "output_type": "execute_result"
    }
   ],
   "source": [
    "A = pd.DataFrame([28,30,32,40,18,25,30,27,45,50])\n",
    "B = pd.DataFrame([28,25,32,40,38,29,30,37,55,50])\n",
    "C = pd.DataFrame([43,29,39,40,48,44,42,47,55,70])\n",
    "\n",
    "dfs = pd.concat([A,B,C],axis=1)\n",
    "dfs.columns = [\"GROUP_A\",\"GROUP_B\",\"GROUP_C\"]\n",
    "dfs\n"
   ]
  },
  {
   "cell_type": "code",
   "execution_count": 183,
   "id": "88f69736",
   "metadata": {},
   "outputs": [
    {
     "data": {
      "text/plain": [
       "ShapiroResult(statistic=np.float64(0.9382923218312215), pvalue=np.float64(0.5341728959244074))"
      ]
     },
     "execution_count": 183,
     "metadata": {},
     "output_type": "execute_result"
    }
   ],
   "source": [
    "shapiro(dfs.GROUP_A)"
   ]
  },
  {
   "cell_type": "code",
   "execution_count": 184,
   "id": "b688352b",
   "metadata": {},
   "outputs": [
    {
     "data": {
      "text/plain": [
       "ShapiroResult(statistic=np.float64(0.9084020768857654), pvalue=np.float64(0.2701943782267189))"
      ]
     },
     "execution_count": 184,
     "metadata": {},
     "output_type": "execute_result"
    }
   ],
   "source": [
    "shapiro(dfs.GROUP_B)"
   ]
  },
  {
   "cell_type": "code",
   "execution_count": 185,
   "id": "e79095e7",
   "metadata": {},
   "outputs": [
    {
     "data": {
      "text/plain": [
       "ShapiroResult(statistic=np.float64(0.9121442500381762), pvalue=np.float64(0.2960469485949967))"
      ]
     },
     "execution_count": 185,
     "metadata": {},
     "output_type": "execute_result"
    }
   ],
   "source": [
    "shapiro(dfs.GROUP_C)"
   ]
  },
  {
   "cell_type": "code",
   "execution_count": 186,
   "id": "8514c8f8",
   "metadata": {},
   "outputs": [
    {
     "data": {
      "text/plain": [
       "LeveneResult(statistic=array([0.02572937]), pvalue=array([0.97462268]))"
      ]
     },
     "execution_count": 186,
     "metadata": {},
     "output_type": "execute_result"
    }
   ],
   "source": [
    "stats.levene(A,B,C) #Varyanslar homojendir"
   ]
  },
  {
   "cell_type": "code",
   "execution_count": null,
   "id": "d91354f6",
   "metadata": {},
   "outputs": [
    {
     "data": {
      "text/plain": [
       "F_onewayResult(statistic=array([4.4747027]), pvalue=array([0.02096876]))"
      ]
     },
     "execution_count": 187,
     "metadata": {},
     "output_type": "execute_result"
    }
   ],
   "source": [
    "## Hipotez Testi\n",
    "from scipy.stats import f_oneway\n",
    "\n",
    "f_oneway(A,B,C)\n",
    "\n",
    "## H0 reddedilir yani u1,u2,u3 hepsi birbirine eşit değildir. Gruplar arasında anlamlı bir farklılık vardur"
   ]
  },
  {
   "cell_type": "code",
   "execution_count": 189,
   "id": "643a3871",
   "metadata": {},
   "outputs": [
    {
     "data": {
      "text/html": [
       "<div>\n",
       "<style scoped>\n",
       "    .dataframe tbody tr th:only-of-type {\n",
       "        vertical-align: middle;\n",
       "    }\n",
       "\n",
       "    .dataframe tbody tr th {\n",
       "        vertical-align: top;\n",
       "    }\n",
       "\n",
       "    .dataframe thead th {\n",
       "        text-align: right;\n",
       "    }\n",
       "</style>\n",
       "<table border=\"1\" class=\"dataframe\">\n",
       "  <thead>\n",
       "    <tr style=\"text-align: right;\">\n",
       "      <th></th>\n",
       "      <th>count</th>\n",
       "      <th>mean</th>\n",
       "      <th>std</th>\n",
       "      <th>min</th>\n",
       "      <th>25%</th>\n",
       "      <th>50%</th>\n",
       "      <th>75%</th>\n",
       "      <th>max</th>\n",
       "    </tr>\n",
       "  </thead>\n",
       "  <tbody>\n",
       "    <tr>\n",
       "      <th>GROUP_A</th>\n",
       "      <td>10.0</td>\n",
       "      <td>32.5</td>\n",
       "      <td>9.709674</td>\n",
       "      <td>18.0</td>\n",
       "      <td>27.25</td>\n",
       "      <td>30.0</td>\n",
       "      <td>38.00</td>\n",
       "      <td>50.0</td>\n",
       "    </tr>\n",
       "    <tr>\n",
       "      <th>GROUP_B</th>\n",
       "      <td>10.0</td>\n",
       "      <td>36.4</td>\n",
       "      <td>9.788883</td>\n",
       "      <td>25.0</td>\n",
       "      <td>29.25</td>\n",
       "      <td>34.5</td>\n",
       "      <td>39.50</td>\n",
       "      <td>55.0</td>\n",
       "    </tr>\n",
       "    <tr>\n",
       "      <th>GROUP_C</th>\n",
       "      <td>10.0</td>\n",
       "      <td>45.7</td>\n",
       "      <td>10.873515</td>\n",
       "      <td>29.0</td>\n",
       "      <td>40.50</td>\n",
       "      <td>43.5</td>\n",
       "      <td>47.75</td>\n",
       "      <td>70.0</td>\n",
       "    </tr>\n",
       "  </tbody>\n",
       "</table>\n",
       "</div>"
      ],
      "text/plain": [
       "         count  mean        std   min    25%   50%    75%   max\n",
       "GROUP_A   10.0  32.5   9.709674  18.0  27.25  30.0  38.00  50.0\n",
       "GROUP_B   10.0  36.4   9.788883  25.0  29.25  34.5  39.50  55.0\n",
       "GROUP_C   10.0  45.7  10.873515  29.0  40.50  43.5  47.75  70.0"
      ]
     },
     "execution_count": 189,
     "metadata": {},
     "output_type": "execute_result"
    }
   ],
   "source": [
    "dfs.describe().T"
   ]
  },
  {
   "cell_type": "markdown",
   "id": "e201514d",
   "metadata": {},
   "source": [
    "---\n",
    "\n",
    "---\n",
    "\n",
    "---"
   ]
  },
  {
   "cell_type": "markdown",
   "id": "6b155bf7",
   "metadata": {},
   "source": [
    "#### NonParametrik Hipotez Testi (Varyans Analizi)\n",
    "\n"
   ]
  },
  {
   "cell_type": "markdown",
   "id": "4c667461",
   "metadata": {},
   "source": [
    "- Normallik varsayımı reddedilirse uygulanır."
   ]
  },
  {
   "cell_type": "code",
   "execution_count": null,
   "id": "fd89e153",
   "metadata": {},
   "outputs": [
    {
     "data": {
      "text/plain": [
       "KruskalResult(statistic=array([6.77982593]), pvalue=array([0.03371161]))"
      ]
     },
     "execution_count": 190,
     "metadata": {},
     "output_type": "execute_result"
    }
   ],
   "source": [
    "from scipy.stats import kruskal\n",
    "\n",
    "\n",
    "kruskal(A,B,C)"
   ]
  },
  {
   "cell_type": "markdown",
   "id": "24d4260e",
   "metadata": {},
   "source": [
    "---\n",
    "\n",
    "---\n",
    "\n",
    "---"
   ]
  },
  {
   "cell_type": "markdown",
   "id": "2a487fb7",
   "metadata": {},
   "source": [
    "#### KORELASYON ANALİZİ"
   ]
  },
  {
   "cell_type": "markdown",
   "id": "049e3574",
   "metadata": {},
   "source": [
    "Değişkenler arasındaki ilişki , bu ilişkinin yönü ve şiddeti ile ilgili bilgiler sağlayan istatistiksel bir yöntemdir.\n",
    "\n",
    "- Normallik varsayım testi\n",
    "\n",
    "Korelasyonun Anlamlılığın Testi \n",
    "- H0: p = 0\n",
    "- H1 : p != 0"
   ]
  },
  {
   "cell_type": "markdown",
   "id": "60618dc6",
   "metadata": {},
   "source": [
    "![alt text](image.png)"
   ]
  },
  {
   "cell_type": "markdown",
   "id": "8189caf8",
   "metadata": {},
   "source": [
    "total_bill ile tip arasındaki ilişki bakılacak \n",
    "\n",
    "burada dikkat edilmesi gereken bir husus total_bill içinde tips de var arındırmak önemlidir."
   ]
  },
  {
   "cell_type": "code",
   "execution_count": 37,
   "id": "9e89aa14",
   "metadata": {},
   "outputs": [
    {
     "data": {
      "text/html": [
       "<div>\n",
       "<style scoped>\n",
       "    .dataframe tbody tr th:only-of-type {\n",
       "        vertical-align: middle;\n",
       "    }\n",
       "\n",
       "    .dataframe tbody tr th {\n",
       "        vertical-align: top;\n",
       "    }\n",
       "\n",
       "    .dataframe thead th {\n",
       "        text-align: right;\n",
       "    }\n",
       "</style>\n",
       "<table border=\"1\" class=\"dataframe\">\n",
       "  <thead>\n",
       "    <tr style=\"text-align: right;\">\n",
       "      <th></th>\n",
       "      <th>total_bill</th>\n",
       "      <th>tip</th>\n",
       "      <th>sex</th>\n",
       "      <th>smoker</th>\n",
       "      <th>day</th>\n",
       "      <th>time</th>\n",
       "      <th>size</th>\n",
       "    </tr>\n",
       "  </thead>\n",
       "  <tbody>\n",
       "    <tr>\n",
       "      <th>0</th>\n",
       "      <td>16.99</td>\n",
       "      <td>1.01</td>\n",
       "      <td>Female</td>\n",
       "      <td>No</td>\n",
       "      <td>Sun</td>\n",
       "      <td>Dinner</td>\n",
       "      <td>2</td>\n",
       "    </tr>\n",
       "    <tr>\n",
       "      <th>1</th>\n",
       "      <td>10.34</td>\n",
       "      <td>1.66</td>\n",
       "      <td>Male</td>\n",
       "      <td>No</td>\n",
       "      <td>Sun</td>\n",
       "      <td>Dinner</td>\n",
       "      <td>3</td>\n",
       "    </tr>\n",
       "    <tr>\n",
       "      <th>2</th>\n",
       "      <td>21.01</td>\n",
       "      <td>3.50</td>\n",
       "      <td>Male</td>\n",
       "      <td>No</td>\n",
       "      <td>Sun</td>\n",
       "      <td>Dinner</td>\n",
       "      <td>3</td>\n",
       "    </tr>\n",
       "    <tr>\n",
       "      <th>3</th>\n",
       "      <td>23.68</td>\n",
       "      <td>3.31</td>\n",
       "      <td>Male</td>\n",
       "      <td>No</td>\n",
       "      <td>Sun</td>\n",
       "      <td>Dinner</td>\n",
       "      <td>2</td>\n",
       "    </tr>\n",
       "    <tr>\n",
       "      <th>4</th>\n",
       "      <td>24.59</td>\n",
       "      <td>3.61</td>\n",
       "      <td>Female</td>\n",
       "      <td>No</td>\n",
       "      <td>Sun</td>\n",
       "      <td>Dinner</td>\n",
       "      <td>4</td>\n",
       "    </tr>\n",
       "  </tbody>\n",
       "</table>\n",
       "</div>"
      ],
      "text/plain": [
       "   total_bill   tip     sex smoker  day    time  size\n",
       "0       16.99  1.01  Female     No  Sun  Dinner     2\n",
       "1       10.34  1.66    Male     No  Sun  Dinner     3\n",
       "2       21.01  3.50    Male     No  Sun  Dinner     3\n",
       "3       23.68  3.31    Male     No  Sun  Dinner     2\n",
       "4       24.59  3.61  Female     No  Sun  Dinner     4"
      ]
     },
     "execution_count": 37,
     "metadata": {},
     "output_type": "execute_result"
    }
   ],
   "source": [
    "import seaborn as sns\n",
    "\n",
    "tips = sns.load_dataset('tips')\n",
    "\n",
    "df = tips.copy()\n",
    "\n",
    "df.head()"
   ]
  },
  {
   "cell_type": "code",
   "execution_count": 38,
   "id": "b80ac8f7",
   "metadata": {},
   "outputs": [
    {
     "data": {
      "text/html": [
       "<div>\n",
       "<style scoped>\n",
       "    .dataframe tbody tr th:only-of-type {\n",
       "        vertical-align: middle;\n",
       "    }\n",
       "\n",
       "    .dataframe tbody tr th {\n",
       "        vertical-align: top;\n",
       "    }\n",
       "\n",
       "    .dataframe thead th {\n",
       "        text-align: right;\n",
       "    }\n",
       "</style>\n",
       "<table border=\"1\" class=\"dataframe\">\n",
       "  <thead>\n",
       "    <tr style=\"text-align: right;\">\n",
       "      <th></th>\n",
       "      <th>total_bill</th>\n",
       "      <th>tip</th>\n",
       "      <th>sex</th>\n",
       "      <th>smoker</th>\n",
       "      <th>day</th>\n",
       "      <th>time</th>\n",
       "      <th>size</th>\n",
       "    </tr>\n",
       "  </thead>\n",
       "  <tbody>\n",
       "    <tr>\n",
       "      <th>0</th>\n",
       "      <td>15.98</td>\n",
       "      <td>1.01</td>\n",
       "      <td>Female</td>\n",
       "      <td>No</td>\n",
       "      <td>Sun</td>\n",
       "      <td>Dinner</td>\n",
       "      <td>2</td>\n",
       "    </tr>\n",
       "    <tr>\n",
       "      <th>1</th>\n",
       "      <td>8.68</td>\n",
       "      <td>1.66</td>\n",
       "      <td>Male</td>\n",
       "      <td>No</td>\n",
       "      <td>Sun</td>\n",
       "      <td>Dinner</td>\n",
       "      <td>3</td>\n",
       "    </tr>\n",
       "    <tr>\n",
       "      <th>2</th>\n",
       "      <td>17.51</td>\n",
       "      <td>3.50</td>\n",
       "      <td>Male</td>\n",
       "      <td>No</td>\n",
       "      <td>Sun</td>\n",
       "      <td>Dinner</td>\n",
       "      <td>3</td>\n",
       "    </tr>\n",
       "    <tr>\n",
       "      <th>3</th>\n",
       "      <td>20.37</td>\n",
       "      <td>3.31</td>\n",
       "      <td>Male</td>\n",
       "      <td>No</td>\n",
       "      <td>Sun</td>\n",
       "      <td>Dinner</td>\n",
       "      <td>2</td>\n",
       "    </tr>\n",
       "    <tr>\n",
       "      <th>4</th>\n",
       "      <td>20.98</td>\n",
       "      <td>3.61</td>\n",
       "      <td>Female</td>\n",
       "      <td>No</td>\n",
       "      <td>Sun</td>\n",
       "      <td>Dinner</td>\n",
       "      <td>4</td>\n",
       "    </tr>\n",
       "  </tbody>\n",
       "</table>\n",
       "</div>"
      ],
      "text/plain": [
       "   total_bill   tip     sex smoker  day    time  size\n",
       "0       15.98  1.01  Female     No  Sun  Dinner     2\n",
       "1        8.68  1.66    Male     No  Sun  Dinner     3\n",
       "2       17.51  3.50    Male     No  Sun  Dinner     3\n",
       "3       20.37  3.31    Male     No  Sun  Dinner     2\n",
       "4       20.98  3.61  Female     No  Sun  Dinner     4"
      ]
     },
     "execution_count": 38,
     "metadata": {},
     "output_type": "execute_result"
    }
   ],
   "source": [
    "df['total_bill'] = df['total_bill'] - df['tip']\n",
    "df.head()"
   ]
  },
  {
   "cell_type": "code",
   "execution_count": 39,
   "id": "0c1068b6",
   "metadata": {},
   "outputs": [
    {
     "data": {
      "text/plain": [
       "<Axes: xlabel='tip', ylabel='total_bill'>"
      ]
     },
     "execution_count": 39,
     "metadata": {},
     "output_type": "execute_result"
    },
    {
     "data": {
      "image/png": "[encoded data removed]",
      "text/plain": [
       "<Figure size 640x480 with 1 Axes>"
      ]
     },
     "metadata": {},
     "output_type": "display_data"
    }
   ],
   "source": [
    "df.plot.scatter(\"tip\",\"total_bill\")"
   ]
  },
  {
   "cell_type": "code",
   "execution_count": 40,
   "id": "c9d25384",
   "metadata": {},
   "outputs": [
    {
     "data": {
      "text/plain": [
       "ShapiroResult(statistic=np.float64(0.8978110496018736), pvalue=np.float64(8.200360128656718e-12))"
      ]
     },
     "execution_count": 40,
     "metadata": {},
     "output_type": "execute_result"
    }
   ],
   "source": [
    "##Varsayım Kontrolü \n",
    "\n",
    "stats.shapiro(df[\"tip\"]) ## normal dağılım ile teorik dağılım arasında istatiksel olarak fark vardır (p_value < 0.05) "
   ]
  },
  {
   "cell_type": "code",
   "execution_count": null,
   "id": "09fc67d0",
   "metadata": {},
   "outputs": [
    {
     "data": {
      "text/plain": [
       "ShapiroResult(statistic=np.float64(0.9135647251969665), pvalue=np.float64(1.1059404008059039e-10))"
      ]
     },
     "execution_count": 196,
     "metadata": {},
     "output_type": "execute_result"
    }
   ],
   "source": [
    "shapiro(df[\"total_bill\"]) ## normal dağılım ile teorik dağılım arasında istatiksel olarak fark vardır (p_value < 0.05) "
   ]
  },
  {
   "cell_type": "code",
   "execution_count": null,
   "id": "fe3fe589",
   "metadata": {},
   "outputs": [
    {
     "data": {
      "text/plain": [
       "np.float64(0.593691939408997)"
      ]
     },
     "execution_count": 198,
     "metadata": {},
     "output_type": "execute_result"
    }
   ],
   "source": [
    "## eğer shapiro (Normmallik varsayım) testinden p_value > 0.05 çıksaydı bu yapılacaktı \n",
    "df['tip'].corr(df['total_bill'])"
   ]
  },
  {
   "cell_type": "code",
   "execution_count": null,
   "id": "9189dd05",
   "metadata": {},
   "outputs": [
    {
     "data": {
      "text/plain": [
       "np.float64(0.593691939408997)"
      ]
     },
     "execution_count": 199,
     "metadata": {},
     "output_type": "execute_result"
    }
   ],
   "source": [
    "df['tip'].corr(df['total_bill'],method=\"spearman\")"
   ]
  },
  {
   "cell_type": "code",
   "execution_count": null,
   "id": "677c51d8",
   "metadata": {},
   "outputs": [
    {
     "data": {
      "text/plain": [
       "PearsonRResult(statistic=np.float64(0.5766634471096381), pvalue=np.float64(5.0182900849486195e-23))"
      ]
     },
     "execution_count": 200,
     "metadata": {},
     "output_type": "execute_result"
    }
   ],
   "source": [
    "from scipy.stats import pearsonr\n",
    "\n",
    "pearsonr(df.tip,df.total_bill) # H0:p = 0 reddedilir. Yani anlamlı bir ilişki vardır."
   ]
  },
  {
   "cell_type": "markdown",
   "id": "9c4a0820",
   "metadata": {},
   "source": [
    "---\n",
    "\n",
    "---\n",
    "\n",
    "---"
   ]
  },
  {
   "cell_type": "markdown",
   "id": "fc992545",
   "metadata": {},
   "source": [
    "#### Nonparametrik Korelasyon Testi"
   ]
  },
  {
   "cell_type": "code",
   "execution_count": null,
   "id": "ed4f5c52",
   "metadata": {},
   "outputs": [
    {
     "name": "stderr",
     "output_type": "stream",
     "text": [
      "C:\\Users\\ogulc\\AppData\\Local\\Temp\\ipykernel_29924\\829114681.py:2: DeprecationWarning: Please import `spearmanr` from the `scipy.stats` namespace; the `scipy.stats.stats` namespace is deprecated and will be removed in SciPy 2.0.0.\n",
      "  stats.spearmanr(df['tip'],df['total_bill'])\n"
     ]
    },
    {
     "data": {
      "text/plain": [
       "SignificanceResult(statistic=np.float64(0.593691939408997), pvalue=np.float64(1.2452285137560276e-24))"
      ]
     },
     "execution_count": 201,
     "metadata": {},
     "output_type": "execute_result"
    }
   ],
   "source": [
    "from scipy.stats import stats \n",
    "stats.spearmanr(df['tip'],df['total_bill'])"
   ]
  },
  {
   "cell_type": "code",
   "execution_count": null,
   "id": "311ef3a5",
   "metadata": {},
   "outputs": [],
   "source": []
  },
  {
   "cell_type": "code",
   "execution_count": null,
   "id": "c0b63d39",
   "metadata": {},
   "outputs": [],
   "source": []
  },
  {
   "cell_type": "code",
   "execution_count": null,
   "id": "ba9145af",
   "metadata": {},
   "outputs": [],
   "source": []
  }
 ],
 "metadata": {
  "kernelspec": {
   "display_name": "Python 3",
   "language": "python",
   "name": "python3"
  },
  "language_info": {
   "codemirror_mode": {
    "name": "ipython",
    "version": 3
   },
   "file_extension": ".py",
   "mimetype": "text/x-python",
   "name": "python",
   "nbconvert_exporter": "python",
   "pygments_lexer": "ipython3",
   "version": "3.12.0"
  }
 },
 "nbformat": 4,
 "nbformat_minor": 5
}
