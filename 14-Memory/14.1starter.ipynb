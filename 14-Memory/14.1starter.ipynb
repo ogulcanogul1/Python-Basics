{
 "cells": [
  {
   "cell_type": "markdown",
   "id": "3004cc8c",
   "metadata": {},
   "source": [
    "#### Reference Counting Nedir?\n",
    "\n",
    "- Python’da her obje için bir sayaç tutulur. Bu sayaç, o objeye kaç tane referans (işaret eden değişken, liste, dict, fonksiyon argümanı vs.) olduğunu gösterir.\n",
    "\n",
    "- Eğer bir objeye yeni bir referans atanırsa → sayaç arttırılır.\n",
    "\n",
    "- Bir referans silinirse → sayaç azaltılır.\n",
    "\n",
    "- Sayaç 0’a düştüğünde → obje artık erişilemez, bellekten silinir (deallocation)."
   ]
  },
  {
   "cell_type": "markdown",
   "id": "368bdeb7",
   "metadata": {},
   "source": [
    "import sys\n",
    "\n",
    "a = [1, 2, 3]\n",
    "print(sys.getrefcount(a))  # Referans sayısını öğreniyoruz\n",
    "👉 Çıktı genelde 2 olur, çünkü getrefcount fonksiyonuna parametre olarak a gönderdiğimizde ekstra bir referans oluşur."
   ]
  },
  {
   "cell_type": "markdown",
   "id": "c9bfa6af",
   "metadata": {},
   "source": [
    "#### Garbage Collection"
   ]
  },
  {
   "cell_type": "markdown",
   "id": "faf00450",
   "metadata": {},
   "source": []
  }
 ],
 "metadata": {
  "language_info": {
   "name": "python"
  }
 },
 "nbformat": 4,
 "nbformat_minor": 5
}
