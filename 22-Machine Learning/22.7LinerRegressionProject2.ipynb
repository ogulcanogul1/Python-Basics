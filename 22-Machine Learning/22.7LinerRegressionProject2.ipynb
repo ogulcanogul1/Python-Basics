{
 "cells": [
  {
   "cell_type": "code",
   "execution_count": 131,
   "id": "35a433b3",
   "metadata": {},
   "outputs": [],
   "source": [
    "import pandas as pd\n",
    "import numpy as np \n",
    "import matplotlib.pyplot as plt\n",
    "import seaborn as sns"
   ]
  },
  {
   "cell_type": "code",
   "execution_count": 132,
   "id": "7e4ea56a",
   "metadata": {},
   "outputs": [
    {
     "data": {
      "text/html": [
       "<div>\n",
       "<style scoped>\n",
       "    .dataframe tbody tr th:only-of-type {\n",
       "        vertical-align: middle;\n",
       "    }\n",
       "\n",
       "    .dataframe tbody tr th {\n",
       "        vertical-align: top;\n",
       "    }\n",
       "\n",
       "    .dataframe thead th {\n",
       "        text-align: right;\n",
       "    }\n",
       "</style>\n",
       "<table border=\"1\" class=\"dataframe\">\n",
       "  <thead>\n",
       "    <tr style=\"text-align: right;\">\n",
       "      <th></th>\n",
       "      <th>day</th>\n",
       "      <th>month</th>\n",
       "      <th>year</th>\n",
       "      <th>Temperature</th>\n",
       "      <th>RH</th>\n",
       "      <th>Ws</th>\n",
       "      <th>Rain</th>\n",
       "      <th>FFMC</th>\n",
       "      <th>DMC</th>\n",
       "      <th>DC</th>\n",
       "      <th>ISI</th>\n",
       "      <th>BUI</th>\n",
       "      <th>FWI</th>\n",
       "      <th>Classes</th>\n",
       "      <th>Region</th>\n",
       "    </tr>\n",
       "  </thead>\n",
       "  <tbody>\n",
       "    <tr>\n",
       "      <th>0</th>\n",
       "      <td>1</td>\n",
       "      <td>6</td>\n",
       "      <td>2012</td>\n",
       "      <td>29</td>\n",
       "      <td>57</td>\n",
       "      <td>18</td>\n",
       "      <td>0.0</td>\n",
       "      <td>65.7</td>\n",
       "      <td>3.4</td>\n",
       "      <td>7.6</td>\n",
       "      <td>1.3</td>\n",
       "      <td>3.4</td>\n",
       "      <td>0.5</td>\n",
       "      <td>not fire</td>\n",
       "      <td>0</td>\n",
       "    </tr>\n",
       "    <tr>\n",
       "      <th>1</th>\n",
       "      <td>2</td>\n",
       "      <td>6</td>\n",
       "      <td>2012</td>\n",
       "      <td>29</td>\n",
       "      <td>61</td>\n",
       "      <td>13</td>\n",
       "      <td>1.3</td>\n",
       "      <td>64.4</td>\n",
       "      <td>4.1</td>\n",
       "      <td>7.6</td>\n",
       "      <td>1.0</td>\n",
       "      <td>3.9</td>\n",
       "      <td>0.4</td>\n",
       "      <td>not fire</td>\n",
       "      <td>0</td>\n",
       "    </tr>\n",
       "    <tr>\n",
       "      <th>2</th>\n",
       "      <td>3</td>\n",
       "      <td>6</td>\n",
       "      <td>2012</td>\n",
       "      <td>26</td>\n",
       "      <td>82</td>\n",
       "      <td>22</td>\n",
       "      <td>13.1</td>\n",
       "      <td>47.1</td>\n",
       "      <td>2.5</td>\n",
       "      <td>7.1</td>\n",
       "      <td>0.3</td>\n",
       "      <td>2.7</td>\n",
       "      <td>0.1</td>\n",
       "      <td>not fire</td>\n",
       "      <td>0</td>\n",
       "    </tr>\n",
       "    <tr>\n",
       "      <th>3</th>\n",
       "      <td>4</td>\n",
       "      <td>6</td>\n",
       "      <td>2012</td>\n",
       "      <td>25</td>\n",
       "      <td>89</td>\n",
       "      <td>13</td>\n",
       "      <td>2.5</td>\n",
       "      <td>28.6</td>\n",
       "      <td>1.3</td>\n",
       "      <td>6.9</td>\n",
       "      <td>0.0</td>\n",
       "      <td>1.7</td>\n",
       "      <td>0.0</td>\n",
       "      <td>not fire</td>\n",
       "      <td>0</td>\n",
       "    </tr>\n",
       "    <tr>\n",
       "      <th>4</th>\n",
       "      <td>5</td>\n",
       "      <td>6</td>\n",
       "      <td>2012</td>\n",
       "      <td>27</td>\n",
       "      <td>77</td>\n",
       "      <td>16</td>\n",
       "      <td>0.0</td>\n",
       "      <td>64.8</td>\n",
       "      <td>3.0</td>\n",
       "      <td>14.2</td>\n",
       "      <td>1.2</td>\n",
       "      <td>3.9</td>\n",
       "      <td>0.5</td>\n",
       "      <td>not fire</td>\n",
       "      <td>0</td>\n",
       "    </tr>\n",
       "  </tbody>\n",
       "</table>\n",
       "</div>"
      ],
      "text/plain": [
       "   day  month  year  Temperature  RH  Ws  Rain  FFMC  DMC    DC  ISI  BUI  \\\n",
       "0    1      6  2012           29  57  18   0.0  65.7  3.4   7.6  1.3  3.4   \n",
       "1    2      6  2012           29  61  13   1.3  64.4  4.1   7.6  1.0  3.9   \n",
       "2    3      6  2012           26  82  22  13.1  47.1  2.5   7.1  0.3  2.7   \n",
       "3    4      6  2012           25  89  13   2.5  28.6  1.3   6.9  0.0  1.7   \n",
       "4    5      6  2012           27  77  16   0.0  64.8  3.0  14.2  1.2  3.9   \n",
       "\n",
       "   FWI      Classes  Region  \n",
       "0  0.5  not fire          0  \n",
       "1  0.4  not fire          0  \n",
       "2  0.1  not fire          0  \n",
       "3  0.0  not fire          0  \n",
       "4  0.5  not fire          0  "
      ]
     },
     "execution_count": 132,
     "metadata": {},
     "output_type": "execute_result"
    }
   ],
   "source": [
    "df = pd.read_csv(\"data/Algerian_forest_fires_cleaned.csv\")\n",
    "df.head()"
   ]
  },
  {
   "cell_type": "code",
   "execution_count": 133,
   "id": "7709eb72",
   "metadata": {},
   "outputs": [
    {
     "data": {
      "text/html": [
       "<div>\n",
       "<style scoped>\n",
       "    .dataframe tbody tr th:only-of-type {\n",
       "        vertical-align: middle;\n",
       "    }\n",
       "\n",
       "    .dataframe tbody tr th {\n",
       "        vertical-align: top;\n",
       "    }\n",
       "\n",
       "    .dataframe thead th {\n",
       "        text-align: right;\n",
       "    }\n",
       "</style>\n",
       "<table border=\"1\" class=\"dataframe\">\n",
       "  <thead>\n",
       "    <tr style=\"text-align: right;\">\n",
       "      <th></th>\n",
       "      <th>Temperature</th>\n",
       "      <th>RH</th>\n",
       "      <th>Ws</th>\n",
       "      <th>Rain</th>\n",
       "      <th>FFMC</th>\n",
       "      <th>DMC</th>\n",
       "      <th>DC</th>\n",
       "      <th>ISI</th>\n",
       "      <th>BUI</th>\n",
       "      <th>FWI</th>\n",
       "      <th>Classes</th>\n",
       "      <th>Region</th>\n",
       "    </tr>\n",
       "  </thead>\n",
       "  <tbody>\n",
       "    <tr>\n",
       "      <th>0</th>\n",
       "      <td>29</td>\n",
       "      <td>57</td>\n",
       "      <td>18</td>\n",
       "      <td>0.0</td>\n",
       "      <td>65.7</td>\n",
       "      <td>3.4</td>\n",
       "      <td>7.6</td>\n",
       "      <td>1.3</td>\n",
       "      <td>3.4</td>\n",
       "      <td>0.5</td>\n",
       "      <td>not fire</td>\n",
       "      <td>0</td>\n",
       "    </tr>\n",
       "    <tr>\n",
       "      <th>1</th>\n",
       "      <td>29</td>\n",
       "      <td>61</td>\n",
       "      <td>13</td>\n",
       "      <td>1.3</td>\n",
       "      <td>64.4</td>\n",
       "      <td>4.1</td>\n",
       "      <td>7.6</td>\n",
       "      <td>1.0</td>\n",
       "      <td>3.9</td>\n",
       "      <td>0.4</td>\n",
       "      <td>not fire</td>\n",
       "      <td>0</td>\n",
       "    </tr>\n",
       "    <tr>\n",
       "      <th>2</th>\n",
       "      <td>26</td>\n",
       "      <td>82</td>\n",
       "      <td>22</td>\n",
       "      <td>13.1</td>\n",
       "      <td>47.1</td>\n",
       "      <td>2.5</td>\n",
       "      <td>7.1</td>\n",
       "      <td>0.3</td>\n",
       "      <td>2.7</td>\n",
       "      <td>0.1</td>\n",
       "      <td>not fire</td>\n",
       "      <td>0</td>\n",
       "    </tr>\n",
       "    <tr>\n",
       "      <th>3</th>\n",
       "      <td>25</td>\n",
       "      <td>89</td>\n",
       "      <td>13</td>\n",
       "      <td>2.5</td>\n",
       "      <td>28.6</td>\n",
       "      <td>1.3</td>\n",
       "      <td>6.9</td>\n",
       "      <td>0.0</td>\n",
       "      <td>1.7</td>\n",
       "      <td>0.0</td>\n",
       "      <td>not fire</td>\n",
       "      <td>0</td>\n",
       "    </tr>\n",
       "    <tr>\n",
       "      <th>4</th>\n",
       "      <td>27</td>\n",
       "      <td>77</td>\n",
       "      <td>16</td>\n",
       "      <td>0.0</td>\n",
       "      <td>64.8</td>\n",
       "      <td>3.0</td>\n",
       "      <td>14.2</td>\n",
       "      <td>1.2</td>\n",
       "      <td>3.9</td>\n",
       "      <td>0.5</td>\n",
       "      <td>not fire</td>\n",
       "      <td>0</td>\n",
       "    </tr>\n",
       "  </tbody>\n",
       "</table>\n",
       "</div>"
      ],
      "text/plain": [
       "   Temperature  RH  Ws  Rain  FFMC  DMC    DC  ISI  BUI  FWI      Classes  \\\n",
       "0           29  57  18   0.0  65.7  3.4   7.6  1.3  3.4  0.5  not fire      \n",
       "1           29  61  13   1.3  64.4  4.1   7.6  1.0  3.9  0.4  not fire      \n",
       "2           26  82  22  13.1  47.1  2.5   7.1  0.3  2.7  0.1  not fire      \n",
       "3           25  89  13   2.5  28.6  1.3   6.9  0.0  1.7  0.0  not fire      \n",
       "4           27  77  16   0.0  64.8  3.0  14.2  1.2  3.9  0.5  not fire      \n",
       "\n",
       "   Region  \n",
       "0       0  \n",
       "1       0  \n",
       "2       0  \n",
       "3       0  \n",
       "4       0  "
      ]
     },
     "execution_count": 133,
     "metadata": {},
     "output_type": "execute_result"
    }
   ],
   "source": [
    "df.drop(['day','month','year'],axis=1,inplace=True)\n",
    "df.head()"
   ]
  },
  {
   "cell_type": "code",
   "execution_count": 134,
   "id": "7e50c3ef",
   "metadata": {},
   "outputs": [
    {
     "data": {
      "text/plain": [
       "Classes\n",
       "fire             131\n",
       "not fire         101\n",
       "fire               4\n",
       "fire               2\n",
       "not fire           2\n",
       "not fire           1\n",
       "not fire           1\n",
       "not fire           1\n",
       "Name: count, dtype: int64"
      ]
     },
     "execution_count": 134,
     "metadata": {},
     "output_type": "execute_result"
    }
   ],
   "source": [
    "df['Classes'].value_counts()"
   ]
  },
  {
   "cell_type": "code",
   "execution_count": 135,
   "id": "974a4c91",
   "metadata": {},
   "outputs": [
    {
     "data": {
      "text/html": [
       "<div>\n",
       "<style scoped>\n",
       "    .dataframe tbody tr th:only-of-type {\n",
       "        vertical-align: middle;\n",
       "    }\n",
       "\n",
       "    .dataframe tbody tr th {\n",
       "        vertical-align: top;\n",
       "    }\n",
       "\n",
       "    .dataframe thead th {\n",
       "        text-align: right;\n",
       "    }\n",
       "</style>\n",
       "<table border=\"1\" class=\"dataframe\">\n",
       "  <thead>\n",
       "    <tr style=\"text-align: right;\">\n",
       "      <th></th>\n",
       "      <th>Temperature</th>\n",
       "      <th>RH</th>\n",
       "      <th>Ws</th>\n",
       "      <th>Rain</th>\n",
       "      <th>FFMC</th>\n",
       "      <th>DMC</th>\n",
       "      <th>DC</th>\n",
       "      <th>ISI</th>\n",
       "      <th>BUI</th>\n",
       "      <th>FWI</th>\n",
       "      <th>Classes</th>\n",
       "      <th>Region</th>\n",
       "    </tr>\n",
       "  </thead>\n",
       "  <tbody>\n",
       "    <tr>\n",
       "      <th>0</th>\n",
       "      <td>29</td>\n",
       "      <td>57</td>\n",
       "      <td>18</td>\n",
       "      <td>0.0</td>\n",
       "      <td>65.7</td>\n",
       "      <td>3.4</td>\n",
       "      <td>7.6</td>\n",
       "      <td>1.3</td>\n",
       "      <td>3.4</td>\n",
       "      <td>0.5</td>\n",
       "      <td>0</td>\n",
       "      <td>0</td>\n",
       "    </tr>\n",
       "    <tr>\n",
       "      <th>1</th>\n",
       "      <td>29</td>\n",
       "      <td>61</td>\n",
       "      <td>13</td>\n",
       "      <td>1.3</td>\n",
       "      <td>64.4</td>\n",
       "      <td>4.1</td>\n",
       "      <td>7.6</td>\n",
       "      <td>1.0</td>\n",
       "      <td>3.9</td>\n",
       "      <td>0.4</td>\n",
       "      <td>0</td>\n",
       "      <td>0</td>\n",
       "    </tr>\n",
       "    <tr>\n",
       "      <th>2</th>\n",
       "      <td>26</td>\n",
       "      <td>82</td>\n",
       "      <td>22</td>\n",
       "      <td>13.1</td>\n",
       "      <td>47.1</td>\n",
       "      <td>2.5</td>\n",
       "      <td>7.1</td>\n",
       "      <td>0.3</td>\n",
       "      <td>2.7</td>\n",
       "      <td>0.1</td>\n",
       "      <td>0</td>\n",
       "      <td>0</td>\n",
       "    </tr>\n",
       "    <tr>\n",
       "      <th>3</th>\n",
       "      <td>25</td>\n",
       "      <td>89</td>\n",
       "      <td>13</td>\n",
       "      <td>2.5</td>\n",
       "      <td>28.6</td>\n",
       "      <td>1.3</td>\n",
       "      <td>6.9</td>\n",
       "      <td>0.0</td>\n",
       "      <td>1.7</td>\n",
       "      <td>0.0</td>\n",
       "      <td>0</td>\n",
       "      <td>0</td>\n",
       "    </tr>\n",
       "    <tr>\n",
       "      <th>4</th>\n",
       "      <td>27</td>\n",
       "      <td>77</td>\n",
       "      <td>16</td>\n",
       "      <td>0.0</td>\n",
       "      <td>64.8</td>\n",
       "      <td>3.0</td>\n",
       "      <td>14.2</td>\n",
       "      <td>1.2</td>\n",
       "      <td>3.9</td>\n",
       "      <td>0.5</td>\n",
       "      <td>0</td>\n",
       "      <td>0</td>\n",
       "    </tr>\n",
       "  </tbody>\n",
       "</table>\n",
       "</div>"
      ],
      "text/plain": [
       "   Temperature  RH  Ws  Rain  FFMC  DMC    DC  ISI  BUI  FWI  Classes  Region\n",
       "0           29  57  18   0.0  65.7  3.4   7.6  1.3  3.4  0.5        0       0\n",
       "1           29  61  13   1.3  64.4  4.1   7.6  1.0  3.9  0.4        0       0\n",
       "2           26  82  22  13.1  47.1  2.5   7.1  0.3  2.7  0.1        0       0\n",
       "3           25  89  13   2.5  28.6  1.3   6.9  0.0  1.7  0.0        0       0\n",
       "4           27  77  16   0.0  64.8  3.0  14.2  1.2  3.9  0.5        0       0"
      ]
     },
     "execution_count": 135,
     "metadata": {},
     "output_type": "execute_result"
    }
   ],
   "source": [
    "df['Classes'] = np.where(df['Classes'].str.contains('not fire'),0,1)\n",
    "df.head()"
   ]
  },
  {
   "cell_type": "code",
   "execution_count": 136,
   "id": "620480d5",
   "metadata": {},
   "outputs": [
    {
     "data": {
      "text/plain": [
       "Classes\n",
       "1    137\n",
       "0    106\n",
       "Name: count, dtype: int64"
      ]
     },
     "execution_count": 136,
     "metadata": {},
     "output_type": "execute_result"
    }
   ],
   "source": [
    "df['Classes'].value_counts()"
   ]
  },
  {
   "cell_type": "code",
   "execution_count": 137,
   "id": "e964d558",
   "metadata": {},
   "outputs": [
    {
     "data": {
      "text/html": [
       "<div>\n",
       "<style scoped>\n",
       "    .dataframe tbody tr th:only-of-type {\n",
       "        vertical-align: middle;\n",
       "    }\n",
       "\n",
       "    .dataframe tbody tr th {\n",
       "        vertical-align: top;\n",
       "    }\n",
       "\n",
       "    .dataframe thead th {\n",
       "        text-align: right;\n",
       "    }\n",
       "</style>\n",
       "<table border=\"1\" class=\"dataframe\">\n",
       "  <thead>\n",
       "    <tr style=\"text-align: right;\">\n",
       "      <th></th>\n",
       "      <th>Temperature</th>\n",
       "      <th>RH</th>\n",
       "      <th>Ws</th>\n",
       "      <th>Rain</th>\n",
       "      <th>FFMC</th>\n",
       "      <th>DMC</th>\n",
       "      <th>DC</th>\n",
       "      <th>ISI</th>\n",
       "      <th>BUI</th>\n",
       "      <th>Classes</th>\n",
       "      <th>Region</th>\n",
       "    </tr>\n",
       "  </thead>\n",
       "  <tbody>\n",
       "    <tr>\n",
       "      <th>0</th>\n",
       "      <td>29</td>\n",
       "      <td>57</td>\n",
       "      <td>18</td>\n",
       "      <td>0.0</td>\n",
       "      <td>65.7</td>\n",
       "      <td>3.4</td>\n",
       "      <td>7.6</td>\n",
       "      <td>1.3</td>\n",
       "      <td>3.4</td>\n",
       "      <td>0</td>\n",
       "      <td>0</td>\n",
       "    </tr>\n",
       "    <tr>\n",
       "      <th>1</th>\n",
       "      <td>29</td>\n",
       "      <td>61</td>\n",
       "      <td>13</td>\n",
       "      <td>1.3</td>\n",
       "      <td>64.4</td>\n",
       "      <td>4.1</td>\n",
       "      <td>7.6</td>\n",
       "      <td>1.0</td>\n",
       "      <td>3.9</td>\n",
       "      <td>0</td>\n",
       "      <td>0</td>\n",
       "    </tr>\n",
       "    <tr>\n",
       "      <th>2</th>\n",
       "      <td>26</td>\n",
       "      <td>82</td>\n",
       "      <td>22</td>\n",
       "      <td>13.1</td>\n",
       "      <td>47.1</td>\n",
       "      <td>2.5</td>\n",
       "      <td>7.1</td>\n",
       "      <td>0.3</td>\n",
       "      <td>2.7</td>\n",
       "      <td>0</td>\n",
       "      <td>0</td>\n",
       "    </tr>\n",
       "    <tr>\n",
       "      <th>3</th>\n",
       "      <td>25</td>\n",
       "      <td>89</td>\n",
       "      <td>13</td>\n",
       "      <td>2.5</td>\n",
       "      <td>28.6</td>\n",
       "      <td>1.3</td>\n",
       "      <td>6.9</td>\n",
       "      <td>0.0</td>\n",
       "      <td>1.7</td>\n",
       "      <td>0</td>\n",
       "      <td>0</td>\n",
       "    </tr>\n",
       "    <tr>\n",
       "      <th>4</th>\n",
       "      <td>27</td>\n",
       "      <td>77</td>\n",
       "      <td>16</td>\n",
       "      <td>0.0</td>\n",
       "      <td>64.8</td>\n",
       "      <td>3.0</td>\n",
       "      <td>14.2</td>\n",
       "      <td>1.2</td>\n",
       "      <td>3.9</td>\n",
       "      <td>0</td>\n",
       "      <td>0</td>\n",
       "    </tr>\n",
       "  </tbody>\n",
       "</table>\n",
       "</div>"
      ],
      "text/plain": [
       "   Temperature  RH  Ws  Rain  FFMC  DMC    DC  ISI  BUI  Classes  Region\n",
       "0           29  57  18   0.0  65.7  3.4   7.6  1.3  3.4        0       0\n",
       "1           29  61  13   1.3  64.4  4.1   7.6  1.0  3.9        0       0\n",
       "2           26  82  22  13.1  47.1  2.5   7.1  0.3  2.7        0       0\n",
       "3           25  89  13   2.5  28.6  1.3   6.9  0.0  1.7        0       0\n",
       "4           27  77  16   0.0  64.8  3.0  14.2  1.2  3.9        0       0"
      ]
     },
     "execution_count": 137,
     "metadata": {},
     "output_type": "execute_result"
    }
   ],
   "source": [
    "## Independent and Dependent Features\n",
    "\n",
    "X = df.drop('FWI',axis=1)\n",
    "X.head()"
   ]
  },
  {
   "cell_type": "code",
   "execution_count": 138,
   "id": "30835b07",
   "metadata": {},
   "outputs": [],
   "source": [
    "y = df['FWI']"
   ]
  },
  {
   "cell_type": "code",
   "execution_count": 139,
   "id": "f7bfcf2e",
   "metadata": {},
   "outputs": [],
   "source": [
    "# Train Test Split\n",
    "from sklearn.model_selection import train_test_split\n",
    "\n",
    "X_train,X_test,y_train,y_test = train_test_split(X,y,train_size=0.75,random_state=42)"
   ]
  },
  {
   "cell_type": "code",
   "execution_count": 140,
   "id": "5f710d9b",
   "metadata": {},
   "outputs": [
    {
     "data": {
      "text/plain": [
       "((182, 11), (61, 11))"
      ]
     },
     "execution_count": 140,
     "metadata": {},
     "output_type": "execute_result"
    }
   ],
   "source": [
    "X_train.shape,X_test.shape"
   ]
  },
  {
   "cell_type": "code",
   "execution_count": 141,
   "id": "200962ae",
   "metadata": {},
   "outputs": [
    {
     "data": {
      "text/html": [
       "<div>\n",
       "<style scoped>\n",
       "    .dataframe tbody tr th:only-of-type {\n",
       "        vertical-align: middle;\n",
       "    }\n",
       "\n",
       "    .dataframe tbody tr th {\n",
       "        vertical-align: top;\n",
       "    }\n",
       "\n",
       "    .dataframe thead th {\n",
       "        text-align: right;\n",
       "    }\n",
       "</style>\n",
       "<table border=\"1\" class=\"dataframe\">\n",
       "  <thead>\n",
       "    <tr style=\"text-align: right;\">\n",
       "      <th></th>\n",
       "      <th>Temperature</th>\n",
       "      <th>RH</th>\n",
       "      <th>Ws</th>\n",
       "      <th>Rain</th>\n",
       "      <th>FFMC</th>\n",
       "      <th>DMC</th>\n",
       "      <th>DC</th>\n",
       "      <th>ISI</th>\n",
       "      <th>BUI</th>\n",
       "      <th>Classes</th>\n",
       "      <th>Region</th>\n",
       "    </tr>\n",
       "  </thead>\n",
       "  <tbody>\n",
       "    <tr>\n",
       "      <th>Temperature</th>\n",
       "      <td>1.000000</td>\n",
       "      <td>-0.656095</td>\n",
       "      <td>-0.305977</td>\n",
       "      <td>-0.317512</td>\n",
       "      <td>0.694768</td>\n",
       "      <td>0.498173</td>\n",
       "      <td>0.390684</td>\n",
       "      <td>0.629848</td>\n",
       "      <td>0.473609</td>\n",
       "      <td>0.542141</td>\n",
       "      <td>0.254549</td>\n",
       "    </tr>\n",
       "    <tr>\n",
       "      <th>RH</th>\n",
       "      <td>-0.656095</td>\n",
       "      <td>1.000000</td>\n",
       "      <td>0.225736</td>\n",
       "      <td>0.241656</td>\n",
       "      <td>-0.653023</td>\n",
       "      <td>-0.414601</td>\n",
       "      <td>-0.236078</td>\n",
       "      <td>-0.717804</td>\n",
       "      <td>-0.362317</td>\n",
       "      <td>-0.456876</td>\n",
       "      <td>-0.394665</td>\n",
       "    </tr>\n",
       "    <tr>\n",
       "      <th>Ws</th>\n",
       "      <td>-0.305977</td>\n",
       "      <td>0.225736</td>\n",
       "      <td>1.000000</td>\n",
       "      <td>0.251932</td>\n",
       "      <td>-0.190076</td>\n",
       "      <td>0.000379</td>\n",
       "      <td>0.096576</td>\n",
       "      <td>-0.023558</td>\n",
       "      <td>0.035633</td>\n",
       "      <td>-0.082570</td>\n",
       "      <td>-0.199969</td>\n",
       "    </tr>\n",
       "    <tr>\n",
       "      <th>Rain</th>\n",
       "      <td>-0.317512</td>\n",
       "      <td>0.241656</td>\n",
       "      <td>0.251932</td>\n",
       "      <td>1.000000</td>\n",
       "      <td>-0.545491</td>\n",
       "      <td>-0.289754</td>\n",
       "      <td>-0.302341</td>\n",
       "      <td>-0.345707</td>\n",
       "      <td>-0.300964</td>\n",
       "      <td>-0.369357</td>\n",
       "      <td>-0.059022</td>\n",
       "    </tr>\n",
       "    <tr>\n",
       "      <th>FFMC</th>\n",
       "      <td>0.694768</td>\n",
       "      <td>-0.653023</td>\n",
       "      <td>-0.190076</td>\n",
       "      <td>-0.545491</td>\n",
       "      <td>1.000000</td>\n",
       "      <td>0.620807</td>\n",
       "      <td>0.524101</td>\n",
       "      <td>0.750799</td>\n",
       "      <td>0.607210</td>\n",
       "      <td>0.781259</td>\n",
       "      <td>0.249514</td>\n",
       "    </tr>\n",
       "    <tr>\n",
       "      <th>DMC</th>\n",
       "      <td>0.498173</td>\n",
       "      <td>-0.414601</td>\n",
       "      <td>0.000379</td>\n",
       "      <td>-0.289754</td>\n",
       "      <td>0.620807</td>\n",
       "      <td>1.000000</td>\n",
       "      <td>0.868647</td>\n",
       "      <td>0.685656</td>\n",
       "      <td>0.983175</td>\n",
       "      <td>0.617273</td>\n",
       "      <td>0.212582</td>\n",
       "    </tr>\n",
       "    <tr>\n",
       "      <th>DC</th>\n",
       "      <td>0.390684</td>\n",
       "      <td>-0.236078</td>\n",
       "      <td>0.096576</td>\n",
       "      <td>-0.302341</td>\n",
       "      <td>0.524101</td>\n",
       "      <td>0.868647</td>\n",
       "      <td>1.000000</td>\n",
       "      <td>0.513701</td>\n",
       "      <td>0.942414</td>\n",
       "      <td>0.543581</td>\n",
       "      <td>-0.060838</td>\n",
       "    </tr>\n",
       "    <tr>\n",
       "      <th>ISI</th>\n",
       "      <td>0.629848</td>\n",
       "      <td>-0.717804</td>\n",
       "      <td>-0.023558</td>\n",
       "      <td>-0.345707</td>\n",
       "      <td>0.750799</td>\n",
       "      <td>0.685656</td>\n",
       "      <td>0.513701</td>\n",
       "      <td>1.000000</td>\n",
       "      <td>0.643818</td>\n",
       "      <td>0.742977</td>\n",
       "      <td>0.296441</td>\n",
       "    </tr>\n",
       "    <tr>\n",
       "      <th>BUI</th>\n",
       "      <td>0.473609</td>\n",
       "      <td>-0.362317</td>\n",
       "      <td>0.035633</td>\n",
       "      <td>-0.300964</td>\n",
       "      <td>0.607210</td>\n",
       "      <td>0.983175</td>\n",
       "      <td>0.942414</td>\n",
       "      <td>0.643818</td>\n",
       "      <td>1.000000</td>\n",
       "      <td>0.612239</td>\n",
       "      <td>0.114897</td>\n",
       "    </tr>\n",
       "    <tr>\n",
       "      <th>Classes</th>\n",
       "      <td>0.542141</td>\n",
       "      <td>-0.456876</td>\n",
       "      <td>-0.082570</td>\n",
       "      <td>-0.369357</td>\n",
       "      <td>0.781259</td>\n",
       "      <td>0.617273</td>\n",
       "      <td>0.543581</td>\n",
       "      <td>0.742977</td>\n",
       "      <td>0.612239</td>\n",
       "      <td>1.000000</td>\n",
       "      <td>0.188837</td>\n",
       "    </tr>\n",
       "    <tr>\n",
       "      <th>Region</th>\n",
       "      <td>0.254549</td>\n",
       "      <td>-0.394665</td>\n",
       "      <td>-0.199969</td>\n",
       "      <td>-0.059022</td>\n",
       "      <td>0.249514</td>\n",
       "      <td>0.212582</td>\n",
       "      <td>-0.060838</td>\n",
       "      <td>0.296441</td>\n",
       "      <td>0.114897</td>\n",
       "      <td>0.188837</td>\n",
       "      <td>1.000000</td>\n",
       "    </tr>\n",
       "  </tbody>\n",
       "</table>\n",
       "</div>"
      ],
      "text/plain": [
       "             Temperature        RH        Ws      Rain      FFMC       DMC  \\\n",
       "Temperature     1.000000 -0.656095 -0.305977 -0.317512  0.694768  0.498173   \n",
       "RH             -0.656095  1.000000  0.225736  0.241656 -0.653023 -0.414601   \n",
       "Ws             -0.305977  0.225736  1.000000  0.251932 -0.190076  0.000379   \n",
       "Rain           -0.317512  0.241656  0.251932  1.000000 -0.545491 -0.289754   \n",
       "FFMC            0.694768 -0.653023 -0.190076 -0.545491  1.000000  0.620807   \n",
       "DMC             0.498173 -0.414601  0.000379 -0.289754  0.620807  1.000000   \n",
       "DC              0.390684 -0.236078  0.096576 -0.302341  0.524101  0.868647   \n",
       "ISI             0.629848 -0.717804 -0.023558 -0.345707  0.750799  0.685656   \n",
       "BUI             0.473609 -0.362317  0.035633 -0.300964  0.607210  0.983175   \n",
       "Classes         0.542141 -0.456876 -0.082570 -0.369357  0.781259  0.617273   \n",
       "Region          0.254549 -0.394665 -0.199969 -0.059022  0.249514  0.212582   \n",
       "\n",
       "                   DC       ISI       BUI   Classes    Region  \n",
       "Temperature  0.390684  0.629848  0.473609  0.542141  0.254549  \n",
       "RH          -0.236078 -0.717804 -0.362317 -0.456876 -0.394665  \n",
       "Ws           0.096576 -0.023558  0.035633 -0.082570 -0.199969  \n",
       "Rain        -0.302341 -0.345707 -0.300964 -0.369357 -0.059022  \n",
       "FFMC         0.524101  0.750799  0.607210  0.781259  0.249514  \n",
       "DMC          0.868647  0.685656  0.983175  0.617273  0.212582  \n",
       "DC           1.000000  0.513701  0.942414  0.543581 -0.060838  \n",
       "ISI          0.513701  1.000000  0.643818  0.742977  0.296441  \n",
       "BUI          0.942414  0.643818  1.000000  0.612239  0.114897  \n",
       "Classes      0.543581  0.742977  0.612239  1.000000  0.188837  \n",
       "Region      -0.060838  0.296441  0.114897  0.188837  1.000000  "
      ]
     },
     "execution_count": 141,
     "metadata": {},
     "output_type": "execute_result"
    }
   ],
   "source": [
    "## Feature Selection\n",
    "X_train.corr()"
   ]
  },
  {
   "cell_type": "code",
   "execution_count": 142,
   "id": "8712122b",
   "metadata": {},
   "outputs": [
    {
     "data": {
      "text/plain": [
       "<Axes: >"
      ]
     },
     "execution_count": 142,
     "metadata": {},
     "output_type": "execute_result"
    },
    {
     "data": {
      "image/png": "[encoded data removed]",
      "text/plain": [
       "<Figure size 1200x1000 with 2 Axes>"
      ]
     },
     "metadata": {},
     "output_type": "display_data"
    }
   ],
   "source": [
    "## Check For MultiCorrelaniraty\n",
    "plt.figure(figsize=(12,10))\n",
    "corr = X_train.corr()\n",
    "sns.heatmap(corr,annot=True)"
   ]
  },
  {
   "cell_type": "code",
   "execution_count": 143,
   "id": "03d899bb",
   "metadata": {},
   "outputs": [],
   "source": [
    "def correlation(dataset, treshold):\n",
    "    col_corr = set()\n",
    "    corr_matrix = dataset.corr()\n",
    "    for i in range(len(corr_matrix.columns)):\n",
    "        for j in range(i):\n",
    "            if abs(corr_matrix.iloc[i, j]) > treshold:\n",
    "                colname = corr_matrix.columns[i]\n",
    "                col_corr.add(colname) \n",
    "    return col_corr  "
   ]
  },
  {
   "cell_type": "code",
   "execution_count": 144,
   "id": "eea4d343",
   "metadata": {},
   "outputs": [
    {
     "data": {
      "text/plain": [
       "{'BUI', 'DC'}"
      ]
     },
     "execution_count": 144,
     "metadata": {},
     "output_type": "execute_result"
    }
   ],
   "source": [
    "corr_features = correlation(X_train,0.85)\n",
    "corr_features"
   ]
  },
  {
   "cell_type": "markdown",
   "id": "209595f1",
   "metadata": {},
   "source": [
    "“Biz neden korelasyonu yüksek olan sütunları siliyoruz ki?\n",
    "Sonuçta yüksek korelasyon, bağımlı değişkenle güçlü ilişki demek değil mi?”\n",
    "\n",
    "Yani diyorsun ki:\n",
    "“Bağımlı değişken (y) ile yüksek korelasyonu olanı silmek saçma değil mi?”\n",
    "Ve haklısın — ama burada kritik fark neyin korelasyonuna baktığımızda.\n",
    "\n",
    "Buradaki amacımız:\n",
    "\n",
    "\"Birbirine çok benzeyen\" iki özellikten birini atmak.\n",
    "\n",
    "Çünkü ikisi de aynı bilgiyi temsil ediyor.\n",
    "\n",
    "Bu durumda modelin öğrenmesi fazla benzer bilgiyle “şişiyor” → multicollinearity oluşuyor."
   ]
  },
  {
   "cell_type": "code",
   "execution_count": 147,
   "id": "f896b28d",
   "metadata": {},
   "outputs": [
    {
     "data": {
      "text/plain": [
       "(     Temperature  RH  Ws  Rain  FFMC   DMC   ISI  Classes  Region\n",
       " 97            29  74  19   0.1  75.8   3.6   2.1        0       0\n",
       " 141           31  72  14   0.2  60.2   3.8   0.8        0       1\n",
       " 192           40  31  15   0.0  94.2  22.5  16.6        1       1\n",
       " 68            32  60  18   0.3  77.1  11.3   2.2        0       0\n",
       " 119           32  47  14   0.7  77.5   7.1   1.8        0       0\n",
       " ..           ...  ..  ..   ...   ...   ...   ...      ...     ...\n",
       " 106           24  82  15   0.4  44.9   0.9   0.2        0       0\n",
       " 14            28  80  17   3.1  49.4   3.0   0.4        0       0\n",
       " 92            25  76  17   7.2  46.0   1.3   0.2        0       0\n",
       " 179           34  59  16   0.0  88.1  19.5   7.4        1       1\n",
       " 102           30  77  21   1.8  58.5   1.9   1.1        0       0\n",
       " \n",
       " [182 rows x 9 columns],\n",
       "      Temperature  RH  Ws  Rain  FFMC   DMC  ISI  Classes  Region\n",
       " 24            31  64  15   0.0  86.7  14.2  5.7        1       0\n",
       " 6             33  54  13   0.0  88.2   9.9  6.4        1       0\n",
       " 152           28  58  18   2.2  63.7   3.2  1.2        0       1\n",
       " 232           34  58  13   0.2  79.5  18.7  2.1        0       1\n",
       " 238           30  65  14   0.0  85.4  16.0  4.5        1       1\n",
       " ..           ...  ..  ..   ...   ...   ...  ...      ...     ...\n",
       " 162           34  56  15   2.9  74.8   7.1  1.6        0       1\n",
       " 178           33  57  16   0.0  87.5  15.7  6.7        1       1\n",
       " 224           31  72  14   0.0  84.2   8.3  3.8        1       1\n",
       " 230           36  33  13   0.1  90.6  25.8  9.0        1       1\n",
       " 154           34  56  17   0.1  84.7   9.7  4.7        1       1\n",
       " \n",
       " [61 rows x 9 columns])"
      ]
     },
     "execution_count": 147,
     "metadata": {},
     "output_type": "execute_result"
    }
   ],
   "source": [
    "X_train.drop(corr_features,axis=1,inplace=True)\n",
    "X_test.drop(corr_features,axis=1,inplace=True)\n",
    "X_train,X_test"
   ]
  },
  {
   "cell_type": "markdown",
   "id": "f580f899",
   "metadata": {},
   "source": [
    "#### Standardization"
   ]
  },
  {
   "cell_type": "code",
   "execution_count": 148,
   "id": "61a1f469",
   "metadata": {},
   "outputs": [
    {
     "data": {
      "text/plain": [
       "(array([[-0.84284248,  0.78307967,  1.29972026, ..., -0.62963326,\n",
       "         -1.10431526, -0.98907071],\n",
       "        [-0.30175842,  0.64950844, -0.59874754, ..., -0.93058524,\n",
       "         -1.10431526,  1.01105006],\n",
       "        [ 2.13311985, -2.08870172, -0.21905398, ...,  2.7271388 ,\n",
       "          0.90553851,  1.01105006],\n",
       "        ...,\n",
       "        [-1.9250106 ,  0.9166509 ,  0.54033314, ..., -1.06948615,\n",
       "         -1.10431526, -0.98907071],\n",
       "        [ 0.50986767, -0.21870454,  0.16063958, ...,  0.5973248 ,\n",
       "          0.90553851,  1.01105006],\n",
       "        [-0.57230045,  0.98343651,  2.05910739, ..., -0.86113478,\n",
       "         -1.10431526, -0.98907071]], shape=(182, 9)),\n",
       " array([[-3.01758418e-01,  1.15223531e-01, -2.19053977e-01,\n",
       "         -3.84060174e-01,  6.33218240e-01, -4.25075679e-02,\n",
       "          2.03772218e-01,  9.05538514e-01, -9.89070710e-01],\n",
       "        [ 2.39325642e-01, -5.52632606e-01, -9.78441098e-01,\n",
       "         -3.84060174e-01,  7.37980727e-01, -3.83352062e-01,\n",
       "          3.65823283e-01,  9.05538514e-01, -9.89070710e-01],\n",
       "        [-1.11338451e+00, -2.85490151e-01,  9.20026704e-01,\n",
       "          6.45241658e-01, -9.73139891e-01, -9.14435344e-01,\n",
       "         -8.37984627e-01, -1.10431526e+00,  1.01105006e+00],\n",
       "        [ 5.09867672e-01, -2.85490151e-01, -9.78441098e-01,\n",
       "         -2.90487280e-01,  1.30358303e-01,  3.14190159e-01,\n",
       "         -6.29633258e-01, -1.10431526e+00,  1.01105006e+00],\n",
       "        [-5.72300448e-01,  1.82009145e-01, -5.98747538e-01,\n",
       "         -3.84060174e-01,  5.42424085e-01,  1.00171523e-01,\n",
       "         -7.40296073e-02,  9.05538514e-01,  1.01105006e+00],\n",
       "        [ 1.86257782e+00,  1.15223531e-01, -2.49721534e+00,\n",
       "          1.77377189e-01, -2.67739147e-01, -2.40672972e-01,\n",
       "         -8.61134779e-01, -1.10431526e+00,  1.01105006e+00],\n",
       "        [-1.11338451e+00,  8.49865282e-01,  1.60639583e-01,\n",
       "         -3.84060174e-01,  3.18930780e-01, -8.19315950e-01,\n",
       "         -3.51831432e-01,  9.05538514e-01,  1.01105006e+00],\n",
       "        [ 1.32149376e+00, -1.75477365e+00, -9.78441098e-01,\n",
       "         -1.03341493e-01,  5.98297411e-01,  2.50777229e-01,\n",
       "         -4.57915097e-03,  9.05538514e-01,  1.01105006e+00],\n",
       "        [-1.11338451e+00,  1.11700774e+00, -1.35813466e+00,\n",
       "         -3.84060174e-01, -3.09644141e-01, -4.15058527e-01,\n",
       "         -8.14834475e-01, -1.10431526e+00, -9.89070710e-01],\n",
       "        [-3.01758418e-01, -8.19775060e-01,  1.29972026e+00,\n",
       "         -1.03341493e-01,  1.16274848e-02, -3.27865749e-01,\n",
       "         -5.60182801e-01, -1.10431526e+00, -9.89070710e-01],\n",
       "        [-1.11338451e+00,  9.16650896e-01,  2.05910739e+00,\n",
       "         -3.84060174e-01, -3.51549136e-01, -6.13223930e-01,\n",
       "         -9.53735387e-01, -1.10431526e+00, -9.89070710e-01],\n",
       "        [ 7.80409702e-01, -4.19061378e-01, -5.98747538e-01,\n",
       "         -1.96914386e-01,  1.09405806e-01,  1.76476091e+00,\n",
       "         -6.29633258e-01, -1.10431526e+00,  1.01105006e+00],\n",
       "        [-3.12163881e-02, -7.52989447e-01, -9.78441098e-01,\n",
       "         -3.84060174e-01,  7.72901556e-01,  1.00171523e-01,\n",
       "          4.81574043e-01,  9.05538514e-01,  1.01105006e+00],\n",
       "        [ 1.05095173e+00, -8.19775060e-01,  1.60639583e-01,\n",
       "         -3.84060174e-01,  8.56711545e-01,  1.42391642e+00,\n",
       "          1.08347800e+00,  9.05538514e-01,  1.01105006e+00],\n",
       "        [ 1.05095173e+00, -4.85846992e-01,  9.20026704e-01,\n",
       "         -3.84060174e-01,  8.00838219e-01,  1.48732935e+00,\n",
       "          1.17607861e+00,  9.05538514e-01, -9.89070710e-01],\n",
       "        [ 5.09867672e-01, -7.52989447e-01,  1.60639583e-01,\n",
       "          1.39382481e+00, -9.32501256e-03, -5.33957769e-01,\n",
       "         -6.52783410e-01, -1.10431526e+00,  1.01105006e+00],\n",
       "        [-1.65446857e+00, -8.86560674e-01, -3.63629602e+00,\n",
       "          5.51668764e-01, -1.14075987e+00, -2.24819739e-01,\n",
       "         -9.76885539e-01, -1.10431526e+00,  1.01105006e+00],\n",
       "        [-8.42842478e-01,  1.78486387e+00, -9.78441098e-01,\n",
       "         -5.65550457e-02, -2.90076965e+00, -1.03333459e+00,\n",
       "         -1.11578645e+00, -1.10431526e+00, -9.89070710e-01],\n",
       "        [-3.12163881e-02,  8.49865282e-01, -5.98747538e-01,\n",
       "         -3.84060174e-01,  6.12265743e-01, -1.37626962e-01,\n",
       "          8.80214574e-02,  9.05538514e-01, -9.89070710e-01],\n",
       "        [ 7.80409702e-01, -5.52632606e-01, -1.73782822e+00,\n",
       "         -3.37273727e-01,  4.23693266e-01, -5.02251304e-01,\n",
       "         -3.98131737e-01,  9.05538514e-01,  1.01105006e+00],\n",
       "        [ 2.39325642e-01,  1.05022212e+00,  5.40333144e-01,\n",
       "         -3.84060174e-01,  1.72263298e-01, -8.03462718e-01,\n",
       "         -4.90732345e-01, -1.10431526e+00, -9.89070710e-01],\n",
       "        [-5.72300448e-01,  1.18379335e+00,  1.60639583e-01,\n",
       "         -1.96914386e-01, -1.24552236e+00, -8.98582112e-01,\n",
       "         -9.07435083e-01, -1.10431526e+00, -9.89070710e-01],\n",
       "        [-3.01758418e-01, -6.86203833e-01, -5.98747538e-01,\n",
       "         -3.84060174e-01,  7.03059898e-01, -6.60783627e-01,\n",
       "          3.19522978e-01,  9.05538514e-01, -9.89070710e-01],\n",
       "        [-8.42842478e-01,  3.82365986e-01,  1.29972026e+00,\n",
       "          8.38042950e-02, -1.23853819e+00, -9.69921657e-01,\n",
       "         -8.61134779e-01, -1.10431526e+00, -9.89070710e-01],\n",
       "        [ 1.59203579e+00, -1.82155927e+00, -2.19053977e-01,\n",
       "         -3.84060174e-01,  1.12909401e+00,  6.55034653e-01,\n",
       "          2.51878743e+00,  9.05538514e-01,  1.01105006e+00],\n",
       "        [ 1.86257782e+00, -1.15370313e+00, -9.78441098e-01,\n",
       "         -1.03341493e-01,  5.28455753e-01, -2.72379436e-01,\n",
       "         -1.43480064e-01,  9.05538514e-01,  1.01105006e+00],\n",
       "        [-3.01758418e-01,  1.82009145e-01, -5.98747538e-01,\n",
       "         -3.84060174e-01,  4.79566593e-01, -1.77260042e-01,\n",
       "         -1.89780368e-01,  9.05538514e-01, -9.89070710e-01],\n",
       "        [ 7.80409702e-01,  4.84379176e-02, -2.19053977e-01,\n",
       "         -3.84060174e-01,  6.54170737e-01,  3.37970007e-01,\n",
       "          2.50072522e-01,  9.05538514e-01, -9.89070710e-01],\n",
       "        [-2.73663669e+00,  1.58450703e+00, -2.19053977e-01,\n",
       "          4.34137096e+00, -3.29188293e+00, -1.11260075e+00,\n",
       "         -1.11578645e+00, -1.10431526e+00, -9.89070710e-01],\n",
       "        [ 5.09867672e-01, -2.85490151e-01,  9.20026704e-01,\n",
       "         -3.84060174e-01,  7.24012395e-01, -9.00672648e-02,\n",
       "          7.36225716e-01,  9.05538514e-01,  1.01105006e+00],\n",
       "        [-1.11338451e+00,  1.45093581e+00,  9.20026704e-01,\n",
       "         -3.84060174e-01,  4.30677432e-01, -9.79938809e-02,\n",
       "         -7.40296073e-02,  9.05538514e-01, -9.89070710e-01],\n",
       "        [-5.72300448e-01, -2.85490151e-01, -1.35813466e+00,\n",
       "          1.53418415e+00, -8.05519912e-01, -8.51022415e-01,\n",
       "         -8.84284931e-01, -1.10431526e+00,  1.01105006e+00],\n",
       "        [-3.01758418e-01,  1.15223531e-01,  9.20026704e-01,\n",
       "         -3.84060174e-01,  6.40202406e-01,  2.42850613e-01,\n",
       "          4.35273739e-01,  9.05538514e-01, -9.89070710e-01],\n",
       "        [ 7.80409702e-01,  1.15223531e-01,  5.40333144e-01,\n",
       "         -3.84060174e-01,  6.68139069e-01,  1.36050349e+00,\n",
       "          4.58423891e-01,  9.05538514e-01, -9.89070710e-01],\n",
       "        [-3.01758418e-01, -4.85846992e-01,  1.60639583e-01,\n",
       "         -3.37273727e-01,  1.58294966e-01, -8.11389334e-01,\n",
       "         -5.37032649e-01, -1.10431526e+00, -9.89070710e-01],\n",
       "        [-3.12163881e-02, -1.51918923e-01, -5.98747538e-01,\n",
       "         -2.90487280e-01, -3.72616757e-02, -6.92490092e-01,\n",
       "         -6.99083714e-01, -1.10431526e+00,  1.01105006e+00],\n",
       "        [-8.42842478e-01,  8.49865282e-01,  1.60639583e-01,\n",
       "         -3.84060174e-01,  2.21152458e-01, -8.98582112e-01,\n",
       "         -4.67582193e-01,  9.05538514e-01, -9.89070710e-01],\n",
       "        [ 7.80409702e-01, -1.08691752e+00, -9.78441098e-01,\n",
       "         -2.43700833e-01,  4.37661598e-01,  1.71511068e-01,\n",
       "         -3.05531128e-01,  9.05538514e-01,  1.01105006e+00],\n",
       "        [-8.42842478e-01,  1.65129265e+00, -2.19053977e-01,\n",
       "         -1.96914386e-01, -2.11155892e+00, -8.35169182e-01,\n",
       "         -1.06948615e+00, -1.10431526e+00,  1.01105006e+00],\n",
       "        [-1.38392654e+00,  1.65129265e+00,  5.09665587e+00,\n",
       "         -1.50127939e-01, -2.21632140e+00, -8.90655495e-01,\n",
       "         -1.02318584e+00, -1.10431526e+00,  1.01105006e+00],\n",
       "        [ 1.05095173e+00, -4.85846992e-01, -9.78441098e-01,\n",
       "         -2.43700833e-01,  3.32899111e-01,  6.84650581e-02,\n",
       "         -2.59230824e-01,  9.05538514e-01, -9.89070710e-01],\n",
       "        [-3.01758418e-01, -5.52632606e-01, -1.73782822e+00,\n",
       "         -3.84060174e-01,  3.04962448e-01, -6.92490092e-01,\n",
       "         -5.37032649e-01, -1.10431526e+00, -9.89070710e-01],\n",
       "        [-3.01758418e-01, -4.85846992e-01, -1.73782822e+00,\n",
       "         -3.84060174e-01,  7.10044064e-01,  1.39804603e-01,\n",
       "          1.34321762e-01,  9.05538514e-01, -9.89070710e-01],\n",
       "        [-5.72300448e-01,  1.78486387e+00,  1.60639583e-01,\n",
       "         -1.03341493e-01, -2.81695966e+00, -1.08089428e+00,\n",
       "         -1.11578645e+00, -1.10431526e+00, -9.89070710e-01],\n",
       "        [ 1.32149376e+00, -1.48763120e+00, -9.78441098e-01,\n",
       "         -3.84060174e-01,  9.96394861e-01,  5.99548340e-01,\n",
       "          1.38442998e+00,  9.05538514e-01,  1.01105006e+00],\n",
       "        [-3.12163881e-02,  4.49151600e-01,  1.60639583e-01,\n",
       "         -3.84060174e-01,  6.19249908e-01,  6.05384420e-02,\n",
       "          1.57471914e-01,  9.05538514e-01, -9.89070710e-01],\n",
       "        [-3.12163881e-02,  1.25057896e+00,  5.40333144e-01,\n",
       "         -3.84060174e-01,  4.86550758e-01,  5.04428946e-01,\n",
       "         -2.77293031e-02,  9.05538514e-01,  1.01105006e+00],\n",
       "        [-3.12163881e-02,  3.82365986e-01, -5.98747538e-01,\n",
       "          2.70950082e-01, -7.70599084e-01, -5.57737617e-01,\n",
       "         -8.61134779e-01, -1.10431526e+00, -9.89070710e-01],\n",
       "        [ 1.05095173e+00, -4.19061378e-01,  1.60639583e-01,\n",
       "         -3.84060174e-01,  7.86869887e-01,  7.18447582e-01,\n",
       "          7.82526020e-01,  9.05538514e-01,  1.01105006e+00],\n",
       "        [-8.42842478e-01,  1.82009145e-01,  1.29972026e+00,\n",
       "         -1.03341493e-01, -6.51868265e-01, -7.32123173e-01,\n",
       "         -7.68534170e-01, -1.10431526e+00, -9.89070710e-01],\n",
       "        [ 2.39325642e-01, -1.68798804e+00,  1.60639583e-01,\n",
       "         -3.84060174e-01,  1.01734736e+00,  3.69092864e+00,\n",
       "          1.91688347e+00,  9.05538514e-01,  1.01105006e+00],\n",
       "        [ 1.59203579e+00, -1.28727436e+00, -9.78441098e-01,\n",
       "         -1.50127939e-01,  5.14487422e-01, -1.37626962e-01,\n",
       "         -1.66630216e-01,  9.05538514e-01,  1.01105006e+00],\n",
       "        [-3.01758418e-01, -1.35405997e+00,  2.05910739e+00,\n",
       "         -3.84060174e-01,  9.05600706e-01,  2.74557078e-01,\n",
       "          1.98633393e+00,  9.05538514e-01,  1.01105006e+00],\n",
       "        [ 5.09867672e-01,  1.15223531e-01, -5.98747538e-01,\n",
       "         -3.84060174e-01,  7.86869887e-01,  2.04219248e+00,\n",
       "          9.67727237e-01,  9.05538514e-01, -9.89070710e-01],\n",
       "        [ 1.05095173e+00, -6.19418219e-01,  1.29972026e+00,\n",
       "         -3.84060174e-01,  8.07822385e-01,  1.87364300e-01,\n",
       "          1.19922876e+00,  9.05538514e-01, -9.89070710e-01],\n",
       "        [-3.01758418e-01,  1.05022212e+00,  9.20026704e-01,\n",
       "         -3.84060174e-01,  5.70360748e-01,  2.44644990e+00,\n",
       "         -2.77293031e-02,  9.05538514e-01, -9.89070710e-01],\n",
       "        [ 5.09867672e-01, -4.19061378e-01, -2.19053977e-01,\n",
       "          9.72746786e-01, -1.97897489e-01, -6.05297314e-01,\n",
       "         -7.45384018e-01, -1.10431526e+00,  1.01105006e+00],\n",
       "        [ 2.39325642e-01, -3.52275765e-01,  1.60639583e-01,\n",
       "         -3.84060174e-01,  6.89091566e-01,  7.63916743e-02,\n",
       "          4.35273739e-01,  9.05538514e-01,  1.01105006e+00],\n",
       "        [-3.01758418e-01,  6.49508441e-01, -5.98747538e-01,\n",
       "         -3.84060174e-01,  4.58614095e-01, -5.10177920e-01,\n",
       "         -2.36080672e-01,  9.05538514e-01,  1.01105006e+00],\n",
       "        [ 1.05095173e+00, -1.95513049e+00, -9.78441098e-01,\n",
       "         -3.37273727e-01,  9.05600706e-01,  8.76979905e-01,\n",
       "          9.67727237e-01,  9.05538514e-01,  1.01105006e+00],\n",
       "        [ 5.09867672e-01, -4.19061378e-01,  5.40333144e-01,\n",
       "         -3.37273727e-01,  4.93534924e-01, -3.99205294e-01,\n",
       "         -2.77293031e-02,  9.05538514e-01,  1.01105006e+00]]))"
      ]
     },
     "execution_count": 148,
     "metadata": {},
     "output_type": "execute_result"
    }
   ],
   "source": [
    "from sklearn.preprocessing import StandardScaler\n",
    "scaler = StandardScaler()\n",
    "X_train_scaled = scaler.fit_transform(X_train)\n",
    "X_test_scaled = scaler.transform(X_test)\n",
    "X_train_scaled, X_test_scaled"
   ]
  },
  {
   "cell_type": "code",
   "execution_count": 149,
   "id": "3bb162b1",
   "metadata": {},
   "outputs": [
    {
     "data": {
      "text/plain": [
       "Text(0.5, 1.0, 'X_train After Scaling')"
      ]
     },
     "execution_count": 149,
     "metadata": {},
     "output_type": "execute_result"
    },
    {
     "data": {
      "image/png": "[encoded data removed]",
      "text/plain": [
       "<Figure size 1500x500 with 2 Axes>"
      ]
     },
     "metadata": {},
     "output_type": "display_data"
    }
   ],
   "source": [
    "plt.figure(figsize=(15,5))\n",
    "plt.subplot(1,2,1)\n",
    "sns.boxplot(data=X_train)\n",
    "plt.title('X_train Before Scaling')\n",
    "plt.subplot(1,2,2)\n",
    "my_df= pd.DataFrame(data=X_train_scaled,columns=X_train.columns) \n",
    "sns.boxplot(data=X_train_scaled)\n",
    "plt.title('X_train After Scaling')"
   ]
  },
  {
   "cell_type": "markdown",
   "id": "7380767a",
   "metadata": {},
   "source": [
    "#### LinerRegression Model "
   ]
  },
  {
   "cell_type": "code",
   "execution_count": 158,
   "id": "6afddfb9",
   "metadata": {},
   "outputs": [],
   "source": [
    "from sklearn.linear_model import LinearRegression\n",
    "from sklearn.metrics import mean_absolute_error,r2_score"
   ]
  },
  {
   "cell_type": "code",
   "execution_count": 160,
   "id": "57c283d9",
   "metadata": {},
   "outputs": [
    {
     "name": "stdout",
     "output_type": "stream",
     "text": [
      "Mean absoulute error: 0.5468236465249978\n",
      "R^2 Score: 0.9847657384266951\n"
     ]
    },
    {
     "data": {
      "text/plain": [
       "<matplotlib.collections.PathCollection at 0x255529b86b0>"
      ]
     },
     "execution_count": 160,
     "metadata": {},
     "output_type": "execute_result"
    },
    {
     "data": {
      "image/png": "[encoded data removed]",
      "text/plain": [
       "<Figure size 640x480 with 1 Axes>"
      ]
     },
     "metadata": {},
     "output_type": "display_data"
    }
   ],
   "source": [
    "linreg=LinearRegression()\n",
    "linreg.fit(X_train_scaled,y_train)\n",
    "\n",
    "y_pred=linreg.predict(X_test_scaled)\n",
    "\n",
    "mae = mean_absolute_error(y_test,y_pred)\n",
    "score = r2_score(y_test,y_pred)\n",
    "\n",
    "print(\"Mean absoulute error:\",mae)\n",
    "print(\"R^2 Score:\",score)\n",
    "plt.scatter(y_test,y_pred)"
   ]
  },
  {
   "cell_type": "code",
   "execution_count": 161,
   "id": "11b1754d",
   "metadata": {},
   "outputs": [],
   "source": [
    "## Lasso Regression\n",
    "from sklearn.linear_model import Lasso\n",
    "from sklearn.metrics import mean_absolute_error,r2_score"
   ]
  },
  {
   "cell_type": "code",
   "execution_count": 162,
   "id": "67c35a40",
   "metadata": {},
   "outputs": [
    {
     "name": "stdout",
     "output_type": "stream",
     "text": [
      "Mean absoulute error: 1.133175994914409\n",
      "R^2 Score: 0.9492020263112388\n"
     ]
    },
    {
     "data": {
      "text/plain": [
       "<matplotlib.collections.PathCollection at 0x255532dc9b0>"
      ]
     },
     "execution_count": 162,
     "metadata": {},
     "output_type": "execute_result"
    },
    {
     "data": {
      "image/png": "[encoded data removed]",
      "text/plain": [
       "<Figure size 640x480 with 1 Axes>"
      ]
     },
     "metadata": {},
     "output_type": "display_data"
    }
   ],
   "source": [
    "lasso=Lasso()\n",
    "lasso.fit(X_train_scaled,y_train)\n",
    "\n",
    "y_pred=lasso.predict(X_test_scaled)\n",
    "\n",
    "mae = mean_absolute_error(y_test,y_pred)\n",
    "score = r2_score(y_test,y_pred)\n",
    "\n",
    "print(\"Mean absoulute error:\",mae)\n",
    "print(\"R^2 Score:\",score)\n",
    "plt.scatter(y_test,y_pred)"
   ]
  },
  {
   "cell_type": "code",
   "execution_count": 163,
   "id": "2f3b35f8",
   "metadata": {},
   "outputs": [],
   "source": [
    "## Ridge Regression\n",
    "from sklearn.linear_model import Ridge\n",
    "from sklearn.metrics import mean_absolute_error,r2_score"
   ]
  },
  {
   "cell_type": "code",
   "execution_count": 164,
   "id": "b6d670d6",
   "metadata": {},
   "outputs": [
    {
     "name": "stdout",
     "output_type": "stream",
     "text": [
      "Mean absoulute error: 0.5642305340105715\n",
      "R^2 Score: 0.9842993364555512\n"
     ]
    },
    {
     "data": {
      "text/plain": [
       "<matplotlib.collections.PathCollection at 0x2555311df10>"
      ]
     },
     "execution_count": 164,
     "metadata": {},
     "output_type": "execute_result"
    },
    {
     "data": {
      "image/png": "[encoded data removed]",
      "text/plain": [
       "<Figure size 640x480 with 1 Axes>"
      ]
     },
     "metadata": {},
     "output_type": "display_data"
    }
   ],
   "source": [
    "ridge=Ridge()\n",
    "ridge.fit(X_train_scaled,y_train)\n",
    "\n",
    "y_pred=ridge.predict(X_test_scaled)\n",
    "\n",
    "mae = mean_absolute_error(y_test,y_pred)\n",
    "score = r2_score(y_test,y_pred)\n",
    "\n",
    "print(\"Mean absoulute error:\",mae)\n",
    "print(\"R^2 Score:\",score)\n",
    "plt.scatter(y_test,y_pred)"
   ]
  },
  {
   "cell_type": "code",
   "execution_count": null,
   "id": "f62e766b",
   "metadata": {},
   "outputs": [],
   "source": [
    "## Elastic Net Regression\n",
    "from sklearn.linear_model import ElasticNet\n",
    "from sklearn.metrics import mean_absolute_error,r2_score"
   ]
  },
  {
   "cell_type": "code",
   "execution_count": 166,
   "id": "412ed080",
   "metadata": {},
   "outputs": [
    {
     "name": "stdout",
     "output_type": "stream",
     "text": [
      "Mean absoulute error: 1.8822353634896005\n",
      "R^2 Score: 0.8753460589519703\n"
     ]
    },
    {
     "data": {
      "text/plain": [
       "<matplotlib.collections.PathCollection at 0x2555310a570>"
      ]
     },
     "execution_count": 166,
     "metadata": {},
     "output_type": "execute_result"
    },
    {
     "data": {
      "image/png": "[encoded data removed]",
      "text/plain": [
       "<Figure size 640x480 with 1 Axes>"
      ]
     },
     "metadata": {},
     "output_type": "display_data"
    }
   ],
   "source": [
    "elastic=ElasticNet()\n",
    "elastic.fit(X_train_scaled,y_train)\n",
    "\n",
    "y_pred=elastic.predict(X_test_scaled)\n",
    "\n",
    "mae = mean_absolute_error(y_test,y_pred)\n",
    "score = r2_score(y_test,y_pred)\n",
    "\n",
    "print(\"Mean absoulute error:\",mae)\n",
    "print(\"R^2 Score:\",score)\n",
    "plt.scatter(y_test,y_pred)"
   ]
  },
  {
   "cell_type": "code",
   "execution_count": null,
   "id": "2005dcb2",
   "metadata": {},
   "outputs": [],
   "source": [
    "##R^2 1'e yaklaştıkça modeli iyi açıklar\n",
    "## MAE ne kadar düşükse o kadar."
   ]
  }
 ],
 "metadata": {
  "kernelspec": {
   "display_name": "Python 3",
   "language": "python",
   "name": "python3"
  },
  "language_info": {
   "codemirror_mode": {
    "name": "ipython",
    "version": 3
   },
   "file_extension": ".py",
   "mimetype": "text/x-python",
   "name": "python",
   "nbconvert_exporter": "python",
   "pygments_lexer": "ipython3",
   "version": "3.12.0"
  }
 },
 "nbformat": 4,
 "nbformat_minor": 5
}
