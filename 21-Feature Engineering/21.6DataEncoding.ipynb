{
 "cells": [
  {
   "cell_type": "markdown",
   "id": "63f0094d",
   "metadata": {},
   "source": [
    "# 📌 Data Encoding (Veri Kodlama)\n",
    "\n",
    "Makine öğrenmesi ve derin öğrenme algoritmaları **sayısal verilerle** çalışır.  \n",
    "Bu yüzden, kategorik değişkenleri (**string, metin tabanlı sınıflar**) modele uygun hale getirmek için **Data Encoding** yöntemleri kullanılır.  \n",
    "\n",
    "---\n",
    "\n",
    "## 🔹 1. Nominal Encoding  \n",
    "Kategorilerin **herhangi bir sıralaması yoktur** (örn: şehir isimleri, renkler).  \n",
    "Bu tür değişkenlerde **One-Hot Encoding (OHE)** veya **Dummy Encoding** kullanılır.\n",
    "\n",
    "### ✅ One-Hot Encoding (OHE)  \n",
    "- Her kategori için **ayrı bir sütun** oluşturur.  \n",
    "- O kategoriye ait olan örneğe `1`, diğerlerine `0` atanır.  \n",
    "\n",
    "Örnek:  \n",
    "\n",
    "Color = [\"Red\", \"Blue\", \"Green\"]\n",
    "\n",
    "OHE:\n",
    "- Red Blue Green\n",
    "- 1     0     0\n",
    "- 0     1     0\n",
    "- 0     0     1\n",
    "\n",
    "---\n",
    "\n",
    "## 🔹 2. Label Encoding  \n",
    "- Her kategoriye bir **tam sayı etiketi** atanır.  \n",
    "- Avantajı: Tek sütun kalır, veri boyutu artmaz.  \n",
    "- Dezavantajı: **Algoritmalar bu sayıları sıralı gibi algılayabilir** (yanlış sonuçlara yol açabilir).\n",
    "\n",
    "Örnek:  \n",
    "\n",
    "Color = [\"Red\", \"Blue\", \"Green\"]\n",
    "\n",
    "Label Encoding:\n",
    "- Red -> 0\n",
    "- Blue -> 1\n",
    "- Green -> 2\n",
    "\n",
    "---\n",
    "\n",
    "## 🔹 3. Ordinal Encoding  \n",
    "- Kategorilerin **mantıksal bir sırası** varsa (örn: eğitim seviyesi, düşük-orta-yüksek), sayılar bu sırayı temsil edecek şekilde atanır.  \n",
    "\n",
    "Örnek:  \n",
    "\n",
    "Education = [\"Primary\", \"High School\", \"Bachelor\", \"Master\", \"PhD\"]\n",
    "\n",
    "Ordinal Encoding:\n",
    "- Primary -> 1\n",
    "- High School -> 2\n",
    "- Bachelor -> 3\n",
    "- Master -> 4\n",
    "- PhD -> 5\n",
    "\n",
    "---\n",
    "\n",
    "## 🔹 4. Target Guided Ordinal Encoding  \n",
    "- Kategoriler, **hedef değişken (target)** ile ilişkisine göre sıralanır.  \n",
    "- Örneğin, her kategori için **ortalama hedef değer** alınır ve buna göre sıralama yapılır.  \n",
    "\n",
    "Örnek (Hedef: Satın alma olasılığı):  \n",
    "City Purchase Rate\n",
    "- Istanbul 0.70\n",
    "- Ankara 0.50\n",
    "- Izmir 0.20\n",
    "\n",
    "Encoding:\n",
    "\n",
    "- Istanbul -> 3\n",
    "- Ankara -> 2\n",
    "- Izmir -> 1"
   ]
  },
  {
   "cell_type": "markdown",
   "id": "ac9be1e4",
   "metadata": {},
   "source": [
    "\n",
    "---\n",
    "\n",
    "# 📊 Özet Tablo\n",
    "\n",
    "| Encoding Türü               | Ne Zaman Kullanılır?                              | Dezavantajı |\n",
    "|-----------------------------|--------------------------------------------------|-------------|\n",
    "| One-Hot Encoding (OHE)      | Sırasız kategorik değişkenler (nominal)          | Boyut artar |\n",
    "| Label Encoding              | Sıra yok ama basitlik için kullanılabilir        | Yanlış sıralama algısı yaratabilir |\n",
    "| Ordinal Encoding            | Doğal sıralı kategoriler                         | Yok |\n",
    "| Target Guided Ordinal       | Hedef ile ilişkili sıralama yapılmak istendiğinde | Overfitting riski |\n",
    "\n",
    "---\n",
    "\n",
    "👉 Özet:  \n",
    "- **Nominal → OHE**  \n",
    "- **Ordinal → Ordinal Encoding**  \n",
    "- **Kategorilerin target ile ilişkisi önemliyse → Target Guided Ordinal**\n"
   ]
  },
  {
   "cell_type": "markdown",
   "id": "0d20a018",
   "metadata": {},
   "source": [
    "---\n",
    "\n",
    "---\n",
    "\n",
    "---"
   ]
  },
  {
   "cell_type": "markdown",
   "id": "729f7357",
   "metadata": {},
   "source": [
    "#### One Hot Encoder"
   ]
  },
  {
   "cell_type": "code",
   "execution_count": 2,
   "id": "2d7b3710",
   "metadata": {},
   "outputs": [
    {
     "data": {
      "text/html": [
       "<div>\n",
       "<style scoped>\n",
       "    .dataframe tbody tr th:only-of-type {\n",
       "        vertical-align: middle;\n",
       "    }\n",
       "\n",
       "    .dataframe tbody tr th {\n",
       "        vertical-align: top;\n",
       "    }\n",
       "\n",
       "    .dataframe thead th {\n",
       "        text-align: right;\n",
       "    }\n",
       "</style>\n",
       "<table border=\"1\" class=\"dataframe\">\n",
       "  <thead>\n",
       "    <tr style=\"text-align: right;\">\n",
       "      <th></th>\n",
       "      <th>color</th>\n",
       "    </tr>\n",
       "  </thead>\n",
       "  <tbody>\n",
       "    <tr>\n",
       "      <th>0</th>\n",
       "      <td>red</td>\n",
       "    </tr>\n",
       "    <tr>\n",
       "      <th>1</th>\n",
       "      <td>green</td>\n",
       "    </tr>\n",
       "    <tr>\n",
       "      <th>2</th>\n",
       "      <td>blue</td>\n",
       "    </tr>\n",
       "    <tr>\n",
       "      <th>3</th>\n",
       "      <td>yellow</td>\n",
       "    </tr>\n",
       "    <tr>\n",
       "      <th>4</th>\n",
       "      <td>skyblue</td>\n",
       "    </tr>\n",
       "  </tbody>\n",
       "</table>\n",
       "</div>"
      ],
      "text/plain": [
       "     color\n",
       "0      red\n",
       "1    green\n",
       "2     blue\n",
       "3   yellow\n",
       "4  skyblue"
      ]
     },
     "execution_count": 2,
     "metadata": {},
     "output_type": "execute_result"
    }
   ],
   "source": [
    "import numpy as np\n",
    "import pandas as pd\n",
    "from sklearn.preprocessing import OneHotEncoder\n",
    "\n",
    "colors = np.array(['red','green','blue','yellow','skyblue'])\n",
    "df = pd.DataFrame({\n",
    "    \"color\" : colors\n",
    "})\n",
    "df"
   ]
  },
  {
   "cell_type": "code",
   "execution_count": 3,
   "id": "99265190",
   "metadata": {},
   "outputs": [
    {
     "data": {
      "text/html": [
       "<div>\n",
       "<style scoped>\n",
       "    .dataframe tbody tr th:only-of-type {\n",
       "        vertical-align: middle;\n",
       "    }\n",
       "\n",
       "    .dataframe tbody tr th {\n",
       "        vertical-align: top;\n",
       "    }\n",
       "\n",
       "    .dataframe thead th {\n",
       "        text-align: right;\n",
       "    }\n",
       "</style>\n",
       "<table border=\"1\" class=\"dataframe\">\n",
       "  <thead>\n",
       "    <tr style=\"text-align: right;\">\n",
       "      <th></th>\n",
       "      <th>color</th>\n",
       "    </tr>\n",
       "  </thead>\n",
       "  <tbody>\n",
       "    <tr>\n",
       "      <th>0</th>\n",
       "      <td>red</td>\n",
       "    </tr>\n",
       "    <tr>\n",
       "      <th>1</th>\n",
       "      <td>green</td>\n",
       "    </tr>\n",
       "    <tr>\n",
       "      <th>2</th>\n",
       "      <td>blue</td>\n",
       "    </tr>\n",
       "    <tr>\n",
       "      <th>3</th>\n",
       "      <td>yellow</td>\n",
       "    </tr>\n",
       "    <tr>\n",
       "      <th>4</th>\n",
       "      <td>skyblue</td>\n",
       "    </tr>\n",
       "  </tbody>\n",
       "</table>\n",
       "</div>"
      ],
      "text/plain": [
       "     color\n",
       "0      red\n",
       "1    green\n",
       "2     blue\n",
       "3   yellow\n",
       "4  skyblue"
      ]
     },
     "execution_count": 3,
     "metadata": {},
     "output_type": "execute_result"
    }
   ],
   "source": [
    "df"
   ]
  },
  {
   "cell_type": "code",
   "execution_count": 4,
   "id": "b7ba4682",
   "metadata": {},
   "outputs": [],
   "source": [
    "encoder = OneHotEncoder()"
   ]
  },
  {
   "cell_type": "code",
   "execution_count": 8,
   "id": "d8ee8946",
   "metadata": {},
   "outputs": [
    {
     "data": {
      "text/plain": [
       "array([[0., 0., 1., 0., 0.],\n",
       "       [0., 1., 0., 0., 0.],\n",
       "       [1., 0., 0., 0., 0.],\n",
       "       [0., 0., 0., 0., 1.],\n",
       "       [0., 0., 0., 1., 0.]])"
      ]
     },
     "execution_count": 8,
     "metadata": {},
     "output_type": "execute_result"
    }
   ],
   "source": [
    "encoder.fit_transform(df[['color']]).toarray()"
   ]
  },
  {
   "cell_type": "markdown",
   "id": "243b7639",
   "metadata": {},
   "source": [
    "---\n",
    "\n",
    "--- \n",
    "\n",
    "---"
   ]
  },
  {
   "cell_type": "markdown",
   "id": "934884ad",
   "metadata": {},
   "source": [
    "#### Label Encoding"
   ]
  },
  {
   "cell_type": "code",
   "execution_count": 13,
   "id": "6905cedb",
   "metadata": {},
   "outputs": [],
   "source": [
    "import numpy as np\n",
    "import pandas as pd\n",
    "from sklearn.preprocessing import LabelEncoder\n",
    "\n",
    "colors = np.array(['red','green','blue','yellow','blue','skyblue'])\n",
    "df = pd.DataFrame({\n",
    "    \"color\" : colors\n",
    "})\n",
    "lbl_encoder = LabelEncoder()\n"
   ]
  },
  {
   "cell_type": "code",
   "execution_count": 14,
   "id": "97e9dfbd",
   "metadata": {},
   "outputs": [
    {
     "name": "stderr",
     "output_type": "stream",
     "text": [
      "d:\\Python\\basics\\venv\\Lib\\site-packages\\sklearn\\preprocessing\\_label.py:110: DataConversionWarning: A column-vector y was passed when a 1d array was expected. Please change the shape of y to (n_samples, ), for example using ravel().\n",
      "  y = column_or_1d(y, warn=True)\n"
     ]
    },
    {
     "data": {
      "text/plain": [
       "array([2, 1, 0, 4, 0, 3])"
      ]
     },
     "execution_count": 14,
     "metadata": {},
     "output_type": "execute_result"
    }
   ],
   "source": [
    "lbl_encoder.fit_transform(df[['color']])"
   ]
  },
  {
   "cell_type": "code",
   "execution_count": 15,
   "id": "0ad4cda2",
   "metadata": {},
   "outputs": [
    {
     "name": "stderr",
     "output_type": "stream",
     "text": [
      "d:\\Python\\basics\\venv\\Lib\\site-packages\\sklearn\\preprocessing\\_label.py:129: DataConversionWarning: A column-vector y was passed when a 1d array was expected. Please change the shape of y to (n_samples, ), for example using ravel().\n",
      "  y = column_or_1d(y, dtype=self.classes_.dtype, warn=True)\n"
     ]
    },
    {
     "data": {
      "text/plain": [
       "array([2])"
      ]
     },
     "execution_count": 15,
     "metadata": {},
     "output_type": "execute_result"
    }
   ],
   "source": [
    "lbl_encoder.transform([['red']])"
   ]
  },
  {
   "cell_type": "markdown",
   "id": "e8ba0a2d",
   "metadata": {},
   "source": [
    "---\n",
    "\n",
    "---\n",
    "\n",
    "---"
   ]
  },
  {
   "cell_type": "markdown",
   "id": "fccf6ff1",
   "metadata": {},
   "source": [
    "#### Ordinal Encoding"
   ]
  },
  {
   "cell_type": "code",
   "execution_count": 16,
   "id": "f09949ba",
   "metadata": {},
   "outputs": [],
   "source": [
    "from sklearn.preprocessing import OrdinalEncoder\n",
    "\n",
    "df = pd.DataFrame({\n",
    "    'size' : ['small','medium','large','medium','small','large']\n",
    "})"
   ]
  },
  {
   "cell_type": "code",
   "execution_count": 17,
   "id": "1b2599a8",
   "metadata": {},
   "outputs": [
    {
     "data": {
      "text/html": [
       "<div>\n",
       "<style scoped>\n",
       "    .dataframe tbody tr th:only-of-type {\n",
       "        vertical-align: middle;\n",
       "    }\n",
       "\n",
       "    .dataframe tbody tr th {\n",
       "        vertical-align: top;\n",
       "    }\n",
       "\n",
       "    .dataframe thead th {\n",
       "        text-align: right;\n",
       "    }\n",
       "</style>\n",
       "<table border=\"1\" class=\"dataframe\">\n",
       "  <thead>\n",
       "    <tr style=\"text-align: right;\">\n",
       "      <th></th>\n",
       "      <th>size</th>\n",
       "    </tr>\n",
       "  </thead>\n",
       "  <tbody>\n",
       "    <tr>\n",
       "      <th>0</th>\n",
       "      <td>small</td>\n",
       "    </tr>\n",
       "    <tr>\n",
       "      <th>1</th>\n",
       "      <td>medium</td>\n",
       "    </tr>\n",
       "    <tr>\n",
       "      <th>2</th>\n",
       "      <td>large</td>\n",
       "    </tr>\n",
       "    <tr>\n",
       "      <th>3</th>\n",
       "      <td>medium</td>\n",
       "    </tr>\n",
       "    <tr>\n",
       "      <th>4</th>\n",
       "      <td>small</td>\n",
       "    </tr>\n",
       "    <tr>\n",
       "      <th>5</th>\n",
       "      <td>large</td>\n",
       "    </tr>\n",
       "  </tbody>\n",
       "</table>\n",
       "</div>"
      ],
      "text/plain": [
       "     size\n",
       "0   small\n",
       "1  medium\n",
       "2   large\n",
       "3  medium\n",
       "4   small\n",
       "5   large"
      ]
     },
     "execution_count": 17,
     "metadata": {},
     "output_type": "execute_result"
    }
   ],
   "source": [
    "df"
   ]
  },
  {
   "cell_type": "code",
   "execution_count": 21,
   "id": "55a25b0c",
   "metadata": {},
   "outputs": [],
   "source": [
    "encoder = OrdinalEncoder(categories=[['small','medium','large']])"
   ]
  },
  {
   "cell_type": "code",
   "execution_count": 22,
   "id": "1c14295c",
   "metadata": {},
   "outputs": [
    {
     "data": {
      "text/plain": [
       "array([[0.],\n",
       "       [1.],\n",
       "       [2.],\n",
       "       [1.],\n",
       "       [0.],\n",
       "       [2.]])"
      ]
     },
     "execution_count": 22,
     "metadata": {},
     "output_type": "execute_result"
    }
   ],
   "source": [
    "encoder.fit_transform(df[['size']])"
   ]
  },
  {
   "cell_type": "code",
   "execution_count": 25,
   "id": "9c7d80f1",
   "metadata": {},
   "outputs": [
    {
     "name": "stderr",
     "output_type": "stream",
     "text": [
      "d:\\Python\\basics\\venv\\Lib\\site-packages\\sklearn\\utils\\validation.py:2749: UserWarning: X does not have valid feature names, but OrdinalEncoder was fitted with feature names\n",
      "  warnings.warn(\n"
     ]
    },
    {
     "data": {
      "text/plain": [
       "array([[0.]])"
      ]
     },
     "execution_count": 25,
     "metadata": {},
     "output_type": "execute_result"
    }
   ],
   "source": [
    "encoder.transform([['small']])"
   ]
  },
  {
   "cell_type": "code",
   "execution_count": null,
   "id": "ea08aa27",
   "metadata": {},
   "outputs": [],
   "source": []
  }
 ],
 "metadata": {
  "kernelspec": {
   "display_name": "Python 3",
   "language": "python",
   "name": "python3"
  },
  "language_info": {
   "codemirror_mode": {
    "name": "ipython",
    "version": 3
   },
   "file_extension": ".py",
   "mimetype": "text/x-python",
   "name": "python",
   "nbconvert_exporter": "python",
   "pygments_lexer": "ipython3",
   "version": "3.12.0"
  }
 },
 "nbformat": 4,
 "nbformat_minor": 5
}
