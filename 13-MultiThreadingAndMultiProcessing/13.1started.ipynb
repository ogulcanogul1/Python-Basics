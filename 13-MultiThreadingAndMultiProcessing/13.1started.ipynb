{
 "cells": [
  {
   "cell_type": "markdown",
   "id": "b672fe77",
   "metadata": {},
   "source": [
    "#### 1️⃣ Program\n",
    "\n",
    "- Sabit bir kod dosyasıdır (ör. .py, .exe) veya bilgisayarda çalışan bir uygulama için yazılmış talimatlar topluluğu.\n",
    "\n",
    "- Pasif varlık: Hafızada çalışmaz, sadece diskte durur.\n",
    "\n",
    "- Örnek: python my_script.py → Bu bir programdır.\n",
    "\n",
    "----------------------------------------------------------------------------------------------------------------------------------\n",
    "\n",
    "#### 2️⃣ Process (Süreç)\n",
    "\n",
    "- Programın çalışan bir örneğidir.\n",
    "\n",
    "- İşletim sistemi tarafından yönetilir.\n",
    "\n",
    "- Kendi adres alanı (memory), dosya tanıtıcıları ve kaynakları vardır.\n",
    "\n",
    "- Bağımsızdır, bir process’in çökmesi diğerini etkilemez.\n",
    "\n",
    "Örnek:\n",
    "\n",
    "- Python programını çalıştırdığınızda bir process oluşur.\n",
    "\n",
    "- Aynı programı birden fazla kez açarsanız, her biri ayrı process olur.\n",
    "\n",
    "----------------------------------------------------------------------------------------------------------------------------------\n",
    "\n",
    "#### 3️⃣ Thread (İş Parçacığı)\n",
    "\n",
    "- Process içinde küçük bir yürütme birimidir.\n",
    "\n",
    "- Aynı process’in memory ve kaynaklarını paylaşır.\n",
    "\n",
    "- Hafiftir, process açmaktan daha az maliyetlidir.\n",
    "\n",
    "- Thread’ler paralel çalışabilir, fakat aynı memory’yi paylaştıkları için senkronizasyon gerekir.\n",
    "\n",
    "- Örnek: Web tarayıcınız bir process, her sekme veya yükleme thread olabilir.\n",
    "\n",
    "----------------------------------------------------------------------------------------------------------------------------------\n",
    "\n",
    "#### 4️⃣ Multithreading\n",
    "\n",
    "- Tek bir process içinde birden fazla thread çalıştırmak demektir.\n",
    "\n",
    "- Ama dikkat: Python’da GIL (Global Interpreter Lock) yüzünden CPU-bound işlemlerde thread’ler gerçek paralel çalışmayabilir, I/O-bound işlemlerde ise çok yararlıdır.\n",
    "\n",
    "- Avantaj: Hafif, hızlı context switching, I/O işlemlerinde verimli.\n",
    "\n",
    "- Dezavantaj: Aynı memory paylaşıldığı için thread-safe sorunları oluşabilir.\n",
    "\n",
    "----------------------------------------------------------------------------------------------------------------------------------\n",
    "\n",
    "#### 5️⃣ Multiprocessing\n",
    "\n",
    "- Birden fazla process çalıştırmak demektir.\n",
    "\n",
    "- Her process ayrı memory ve kaynak kullanır.\n",
    "\n",
    "- CPU-bound işlemler için uygundur çünkü her process kendi CPU core’unu kullanabilir.\n",
    "\n",
    "- Avantaj: Gerçek paralellik, CPU-bound işlemler hızlı çalışır.\n",
    "\n",
    "- Dezavantaj: Daha fazla bellek kullanır, processler arası iletişim (IPC) daha karmaşık."
   ]
  },
  {
   "cell_type": "markdown",
   "id": "c324e030",
   "metadata": {},
   "source": [
    "---------------------------------------------------------------------------------------------------------------------------------------------------------------------------------------\n",
    "\n",
    "---------------------------------------------------------------------------------------------------------------------------------------------------------------------------------------\n",
    "\n",
    "---------------------------------------------------------------------------------------------------------------------------------------------------------------------------------------"
   ]
  },
  {
   "cell_type": "markdown",
   "id": "21307202",
   "metadata": {},
   "source": [
    "#### 1️⃣ I/O Bound Task Nedir?\n",
    "\n",
    "- I/O (Input/Output): Dosya okuma/yazma, veri tabanı sorgusu, web isteği, network işlemleri gibi giriş-çıkış işlemleri.\n",
    "\n",
    "- I/O bound task, esas olarak CPU değil I/O beklemekle geçen işlemdir.\n",
    "\n",
    "- Yani işlemcinin çoğu boşta kaldığı, veri gelmesini beklediği işlemler.\n",
    "\n",
    "Örnekler:\n",
    "\n",
    "- Web sitesinden veri çekmek (requests.get())\n",
    "\n",
    "- Dosyadan büyük bir dosya okumak\n",
    "\n",
    "- Veritabanına sorgu göndermek ve cevap beklemek\n",
    "\n",
    "---------------------------------------------------------------------------------------------------------------------------------------------------------------------------------------\n",
    "\n",
    "#### 2️⃣ CPU Bound Task Nedir? (karşıt kavram)\n",
    "\n",
    "- Hesaplama yoğun görevlerdir. CPU’nun sürekli çalıştığı işlemler.\n",
    "\n",
    "- Örnek: büyük matris çarpımı, sayısal simülasyon, video işleme\n",
    "\n",
    "---------------------------------------------------------------------------------------------------------------------------------------------------------------------------------------\n",
    "\n",
    "#### 3️⃣ I/O Bound ve Multithreading\n",
    "\n",
    "- Python’da I/O bound işlemler için multithreading çok uygundur.\n",
    "\n",
    "- Çünkü:\n",
    "\n",
    "- Thread’ler I/O sırasında beklerken diğer thread’ler çalışabilir.\n",
    "\n",
    "- GIL (Global Interpreter Lock) bu durumda problem yaratmaz."
   ]
  },
  {
   "cell_type": "markdown",
   "id": "af53e98f",
   "metadata": {},
   "source": [
    "---------------------------------------------------------------------------------------------------------------------------------------------------------------------------------------\n",
    "\n",
    "---------------------------------------------------------------------------------------------------------------------------------------------------------------------------------------\n",
    "\n",
    "---------------------------------------------------------------------------------------------------------------------------------------------------------------------------------------\n",
    "\n",
    "---------------------------------------------------------------------------------------------------------------------------------------------------------------------------------------"
   ]
  },
  {
   "cell_type": "markdown",
   "id": "fe8eeddc",
   "metadata": {},
   "source": [
    "Multithread Kullanımı (IO Bound Task)\n",
    "\n",
    "Özellik: İşlemciyi çok yormayan, daha çok bekleme (input/output) yapan işlemler için uygundur.\n",
    "\n",
    "Örnek: Web sitelerinden veri çekme (HTTP request)\n",
    "\n",
    "\n",
    "Multiprocess Kullanımı (CPU Bound Task)\n",
    "\n",
    "Özellik: İşlemciyi yoğun kullanan, hesaplama ağırlıklı işlemler için uygundur.\n",
    "\n",
    "Örnek: Büyük bir sayının faktöriyelini veya yoğun matematiksel işlem yapma"
   ]
  },
  {
   "cell_type": "markdown",
   "id": "10bbeb24",
   "metadata": {},
   "source": [
    "---------------------------------------------------------------------------------------------------------------------------------------------------------------------------------------\n",
    "\n",
    "---------------------------------------------------------------------------------------------------------------------------------------------------------------------------------------\n",
    "\n",
    "---------------------------------------------------------------------------------------------------------------------------------------------------------------------------------------\n",
    "\n",
    "---------------------------------------------------------------------------------------------------------------------------------------------------------------------------------------"
   ]
  },
  {
   "cell_type": "markdown",
   "id": "058b65a5",
   "metadata": {},
   "source": [
    "pythonu normal çalıştırdığım veya threadler ile işlem yaptığımda 1 çekirdek kullanıyorum 1 çekirdek kullanırken o 1 çekirdekde boşda kalıyorsa thread mekanizması ile o çekirdekten kazanç sağlıyorum fakat büyük bir işlemim varsa ve ben 1 çekirdekten fazla kullanmasını istiyorsam processleri devreye sokmam gerekir bu sayede daha çok çekirdeği programda kullanmış olurum"
   ]
  },
  {
   "cell_type": "code",
   "execution_count": null,
   "id": "9967182e",
   "metadata": {},
   "outputs": [
    {
     "name": "stdout",
     "output_type": "stream",
     "text": [
      "num:0\n",
      "num:1\n",
      "num:2\n",
      "num:3\n",
      "num:4\n",
      "word:a\n",
      "word:b\n",
      "word:c\n",
      "word:d\n",
      "word:e\n",
      "word:f\n",
      "22.0088632106781\n"
     ]
    }
   ],
   "source": [
    "import time\n",
    "\n",
    "def print_nums():\n",
    "\n",
    "    for i in range(5):\n",
    "        time.sleep(2)\n",
    "        print(f\"num:{i}\")\n",
    "\n",
    "def print_words():\n",
    "    for i in \"abcdef\":\n",
    "        time.sleep(2)\n",
    "        print(\"word:\" + i)\n",
    "\n",
    "\n",
    "start_time =  time.time()\n",
    "\n",
    "print_nums()\n",
    "print_words()\n",
    "\n",
    "end_time = time.time() - start_time\n",
    "\n",
    "print(end_time)\n",
    "\n",
    "## 22.0088632106781\n"
   ]
  },
  {
   "cell_type": "code",
   "execution_count": null,
   "id": "5e1b73bb",
   "metadata": {},
   "outputs": [
    {
     "name": "stdout",
     "output_type": "stream",
     "text": [
      "num:0\n",
      "word:a\n",
      "num:1\n",
      "word:b\n",
      "num:2\n",
      "word:c\n",
      "num:3\n",
      "word:d\n",
      "num:4\n",
      "word:e\n",
      "word:f\n",
      "12.01220703125\n"
     ]
    }
   ],
   "source": [
    "import threading , time \n",
    "\n",
    "def print_nums():\n",
    "\n",
    "    for i in range(5):\n",
    "        time.sleep(2)\n",
    "        print(f\"num:{i}\")\n",
    "\n",
    "def print_words():\n",
    "    for i in \"abcdef\":\n",
    "        time.sleep(2)\n",
    "        print(\"word:\" + i)\n",
    "\n",
    "t_nums =threading.Thread(target=print_nums)\n",
    "t_word = threading.Thread(target=print_words)\n",
    "\n",
    "start_time =  time.time()\n",
    "\n",
    "## start the thread\n",
    "\n",
    "t_nums.start()\n",
    "t_word.start()\n",
    "\n",
    "## wait for the thread complete\n",
    "\n",
    "t_nums.join()\n",
    "t_word.join()\n",
    "\n",
    "end_time = time.time() - start_time\n",
    "\n",
    "print(end_time)\n",
    "\n",
    "## 12.01220703125"
   ]
  },
  {
   "cell_type": "markdown",
   "id": "2101c151",
   "metadata": {},
   "source": [
    "----------------------------------------------------------------------------------------------------------------------------------\n",
    "\n",
    "----------------------------------------------------------------------------------------------------------------------------------\n",
    "\n",
    "----------------------------------------------------------------------------------------------------------------------------------\n",
    "\n",
    "----------------------------------------------------------------------------------------------------------------------------------"
   ]
  },
  {
   "cell_type": "code",
   "execution_count": null,
   "id": "6f1e7fb4",
   "metadata": {},
   "outputs": [
    {
     "name": "stdout",
     "output_type": "stream",
     "text": [
      "asd\n",
      "0.09683418273925781\n"
     ]
    }
   ],
   "source": []
  },
  {
   "cell_type": "code",
   "execution_count": null,
   "id": "d0137d18",
   "metadata": {},
   "outputs": [],
   "source": []
  }
 ],
 "metadata": {
  "kernelspec": {
   "display_name": "Python 3",
   "language": "python",
   "name": "python3"
  },
  "language_info": {
   "codemirror_mode": {
    "name": "ipython",
    "version": 3
   },
   "file_extension": ".py",
   "mimetype": "text/x-python",
   "name": "python",
   "nbconvert_exporter": "python",
   "pygments_lexer": "ipython3",
   "version": "3.12.0"
  }
 },
 "nbformat": 4,
 "nbformat_minor": 5
}
